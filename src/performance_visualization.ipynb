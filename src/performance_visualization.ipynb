{
 "cells": [
  {
   "cell_type": "code",
   "execution_count": null,
   "id": "completed-nudist",
   "metadata": {},
   "outputs": [],
   "source": [
    "!pip install git+https://github.com/quantopian/pyfolio"
   ]
  },
  {
   "cell_type": "code",
   "execution_count": 1,
   "id": "devoted-great",
   "metadata": {},
   "outputs": [
    {
     "name": "stderr",
     "output_type": "stream",
     "text": [
      "c:\\users\\madalina.stanciu\\miniconda3\\envs\\pythonproject\\lib\\site-packages\\pyfolio\\pos.py:26: UserWarning: Module \"zipline.assets\" not found; multipliers will not be applied to position notionals.\n",
      "  warnings.warn(\n"
     ]
    }
   ],
   "source": [
    "import glob\n",
    "import os\n",
    "import sys\n",
    "import pandas as pd\n",
    "import numpy as np\n",
    "import matplotlib\n",
    "matplotlib.use('agg')\n",
    "import matplotlib.pyplot as plt\n",
    "import matplotlib.dates as mdates\n",
    "from matplotlib.dates import DateFormatter\n",
    "import datetime\n",
    "import collections\n",
    "import pyfolio as pf"
   ]
  },
  {
   "cell_type": "code",
   "execution_count": 2,
   "id": "blond-malta",
   "metadata": {},
   "outputs": [
    {
     "name": "stdout",
     "output_type": "stream",
     "text": [
      "C_RF_LR_1Y\n",
      "e:/Users/madalina.stanciu/Downloads/PhDExperiments/18/StatisticalArbitrage/*\n",
      "e:/Users/madalina.stanciu/Downloads/PhDExperiments/18/StatisticalArbitrage\\2007-01-01\n",
      "e:/Users/madalina.stanciu/Downloads/PhDExperiments/18/StatisticalArbitrage\\2008-01-01\n",
      "e:/Users/madalina.stanciu/Downloads/PhDExperiments/18/StatisticalArbitrage\\2009-01-01\n",
      "e:/Users/madalina.stanciu/Downloads/PhDExperiments/18/StatisticalArbitrage\\2010-01-01\n",
      "e:/Users/madalina.stanciu/Downloads/PhDExperiments/18/StatisticalArbitrage\\2011-01-01\n",
      "e:/Users/madalina.stanciu/Downloads/PhDExperiments/18/StatisticalArbitrage\\2012-01-01\n",
      "e:/Users/madalina.stanciu/Downloads/PhDExperiments/18/StatisticalArbitrage\\2013-01-01\n",
      "e:/Users/madalina.stanciu/Downloads/PhDExperiments/18/StatisticalArbitrage\\2014-01-01\n",
      "e:/Users/madalina.stanciu/Downloads/PhDExperiments/18/StatisticalArbitrage\\2015-01-01\n",
      "C_RF_LR_6M\n",
      "e:/Users/madalina.stanciu/Downloads/PhDExperiments/19/StatisticalArbitrage/*\n",
      "e:/Users/madalina.stanciu/Downloads/PhDExperiments/19/StatisticalArbitrage\\2006-07-01\n",
      "e:/Users/madalina.stanciu/Downloads/PhDExperiments/19/StatisticalArbitrage\\2007-07-01\n",
      "e:/Users/madalina.stanciu/Downloads/PhDExperiments/19/StatisticalArbitrage\\2008-07-01\n",
      "e:/Users/madalina.stanciu/Downloads/PhDExperiments/19/StatisticalArbitrage\\2009-07-01\n",
      "e:/Users/madalina.stanciu/Downloads/PhDExperiments/19/StatisticalArbitrage\\2010-07-01\n",
      "e:/Users/madalina.stanciu/Downloads/PhDExperiments/19/StatisticalArbitrage\\2011-07-01\n",
      "e:/Users/madalina.stanciu/Downloads/PhDExperiments/19/StatisticalArbitrage\\2012-07-01\n",
      "e:/Users/madalina.stanciu/Downloads/PhDExperiments/19/StatisticalArbitrage\\2013-07-01\n",
      "e:/Users/madalina.stanciu/Downloads/PhDExperiments/19/StatisticalArbitrage\\2014-07-01\n",
      "e:/Users/madalina.stanciu/Downloads/PhDExperiments/19/StatisticalArbitrage\\2015-07-01\n",
      "e:/Users/madalina.stanciu/Downloads/PhDExperiments/19/StatisticalArbitrage\\2016-07-01\n",
      "C_RF_TI_1Y\n",
      "e:/Users/madalina.stanciu/Downloads/PhDExperiments/16/StatisticalArbitrage/*\n",
      "e:/Users/madalina.stanciu/Downloads/PhDExperiments/16/StatisticalArbitrage\\2007-01-01\n",
      "e:/Users/madalina.stanciu/Downloads/PhDExperiments/16/StatisticalArbitrage\\2008-01-01\n",
      "e:/Users/madalina.stanciu/Downloads/PhDExperiments/16/StatisticalArbitrage\\2009-01-01\n",
      "e:/Users/madalina.stanciu/Downloads/PhDExperiments/16/StatisticalArbitrage\\2010-01-01\n",
      "e:/Users/madalina.stanciu/Downloads/PhDExperiments/16/StatisticalArbitrage\\2011-01-01\n",
      "e:/Users/madalina.stanciu/Downloads/PhDExperiments/16/StatisticalArbitrage\\2012-01-01\n",
      "e:/Users/madalina.stanciu/Downloads/PhDExperiments/16/StatisticalArbitrage\\2013-01-01\n",
      "e:/Users/madalina.stanciu/Downloads/PhDExperiments/16/StatisticalArbitrage\\2014-01-01\n",
      "e:/Users/madalina.stanciu/Downloads/PhDExperiments/16/StatisticalArbitrage\\2015-01-01\n",
      "C_RF_TI_6M\n",
      "e:/Users/madalina.stanciu/Downloads/PhDExperiments/17/StatisticalArbitrage/*\n",
      "e:/Users/madalina.stanciu/Downloads/PhDExperiments/17/StatisticalArbitrage\\2006-07-01\n",
      "e:/Users/madalina.stanciu/Downloads/PhDExperiments/17/StatisticalArbitrage\\2007-07-01\n",
      "e:/Users/madalina.stanciu/Downloads/PhDExperiments/17/StatisticalArbitrage\\2008-07-01\n",
      "e:/Users/madalina.stanciu/Downloads/PhDExperiments/17/StatisticalArbitrage\\2009-07-01\n",
      "e:/Users/madalina.stanciu/Downloads/PhDExperiments/17/StatisticalArbitrage\\2010-07-01\n",
      "e:/Users/madalina.stanciu/Downloads/PhDExperiments/17/StatisticalArbitrage\\2011-07-01\n",
      "e:/Users/madalina.stanciu/Downloads/PhDExperiments/17/StatisticalArbitrage\\2012-07-01\n",
      "e:/Users/madalina.stanciu/Downloads/PhDExperiments/17/StatisticalArbitrage\\2013-07-01\n",
      "e:/Users/madalina.stanciu/Downloads/PhDExperiments/17/StatisticalArbitrage\\2014-07-01\n",
      "e:/Users/madalina.stanciu/Downloads/PhDExperiments/17/StatisticalArbitrage\\2015-07-01\n",
      "e:/Users/madalina.stanciu/Downloads/PhDExperiments/17/StatisticalArbitrage\\2016-07-01\n",
      "C_SVR_LR_1Y_2\n",
      "e:/Users/madalina.stanciu/Downloads/PhDExperiments/22/StatisticalArbitrage/*\n",
      "e:/Users/madalina.stanciu/Downloads/PhDExperiments/22/StatisticalArbitrage\\2007-01-01\n",
      "e:/Users/madalina.stanciu/Downloads/PhDExperiments/22/StatisticalArbitrage\\2008-01-01\n",
      "e:/Users/madalina.stanciu/Downloads/PhDExperiments/22/StatisticalArbitrage\\2009-01-01\n",
      "e:/Users/madalina.stanciu/Downloads/PhDExperiments/22/StatisticalArbitrage\\2010-01-01\n",
      "e:/Users/madalina.stanciu/Downloads/PhDExperiments/22/StatisticalArbitrage\\2011-01-01\n",
      "e:/Users/madalina.stanciu/Downloads/PhDExperiments/22/StatisticalArbitrage\\2012-01-01\n",
      "e:/Users/madalina.stanciu/Downloads/PhDExperiments/22/StatisticalArbitrage\\2013-01-01\n",
      "e:/Users/madalina.stanciu/Downloads/PhDExperiments/22/StatisticalArbitrage\\2014-01-01\n",
      "e:/Users/madalina.stanciu/Downloads/PhDExperiments/22/StatisticalArbitrage\\2015-01-01\n",
      "C_SVR_LR_6M_2\n",
      "e:/Users/madalina.stanciu/Downloads/PhDExperiments/23/StatisticalArbitrage/*\n",
      "e:/Users/madalina.stanciu/Downloads/PhDExperiments/23/StatisticalArbitrage\\2006-07-01\n",
      "e:/Users/madalina.stanciu/Downloads/PhDExperiments/23/StatisticalArbitrage\\2007-07-01\n",
      "e:/Users/madalina.stanciu/Downloads/PhDExperiments/23/StatisticalArbitrage\\2008-07-01\n",
      "e:/Users/madalina.stanciu/Downloads/PhDExperiments/23/StatisticalArbitrage\\2009-07-01\n",
      "e:/Users/madalina.stanciu/Downloads/PhDExperiments/23/StatisticalArbitrage\\2010-07-01\n",
      "e:/Users/madalina.stanciu/Downloads/PhDExperiments/23/StatisticalArbitrage\\2011-07-01\n",
      "e:/Users/madalina.stanciu/Downloads/PhDExperiments/23/StatisticalArbitrage\\2012-07-01\n",
      "e:/Users/madalina.stanciu/Downloads/PhDExperiments/23/StatisticalArbitrage\\2013-07-01\n",
      "e:/Users/madalina.stanciu/Downloads/PhDExperiments/23/StatisticalArbitrage\\2014-07-01\n",
      "e:/Users/madalina.stanciu/Downloads/PhDExperiments/23/StatisticalArbitrage\\2015-07-01\n",
      "e:/Users/madalina.stanciu/Downloads/PhDExperiments/23/StatisticalArbitrage\\2016-07-01\n",
      "C_SVR_TI_1Y_2\n",
      "e:/Users/madalina.stanciu/Downloads/PhDExperiments/26/StatisticalArbitrage/*\n",
      "e:/Users/madalina.stanciu/Downloads/PhDExperiments/26/StatisticalArbitrage\\2007-01-01\n",
      "e:/Users/madalina.stanciu/Downloads/PhDExperiments/26/StatisticalArbitrage\\2008-01-01\n",
      "e:/Users/madalina.stanciu/Downloads/PhDExperiments/26/StatisticalArbitrage\\2009-01-01\n",
      "e:/Users/madalina.stanciu/Downloads/PhDExperiments/26/StatisticalArbitrage\\2010-01-01\n",
      "e:/Users/madalina.stanciu/Downloads/PhDExperiments/26/StatisticalArbitrage\\2011-01-01\n",
      "e:/Users/madalina.stanciu/Downloads/PhDExperiments/26/StatisticalArbitrage\\2012-01-01\n",
      "e:/Users/madalina.stanciu/Downloads/PhDExperiments/26/StatisticalArbitrage\\2013-01-01\n",
      "e:/Users/madalina.stanciu/Downloads/PhDExperiments/26/StatisticalArbitrage\\2014-01-01\n",
      "e:/Users/madalina.stanciu/Downloads/PhDExperiments/26/StatisticalArbitrage\\2015-01-01\n",
      "C_SVR_TI_6M\n",
      "e:/Users/madalina.stanciu/Downloads/PhDExperiments/27/StatisticalArbitrage/*\n",
      "e:/Users/madalina.stanciu/Downloads/PhDExperiments/27/StatisticalArbitrage\\2006-07-01\n",
      "e:/Users/madalina.stanciu/Downloads/PhDExperiments/27/StatisticalArbitrage\\2007-07-01\n",
      "e:/Users/madalina.stanciu/Downloads/PhDExperiments/27/StatisticalArbitrage\\2008-07-01\n",
      "e:/Users/madalina.stanciu/Downloads/PhDExperiments/27/StatisticalArbitrage\\2009-07-01\n",
      "e:/Users/madalina.stanciu/Downloads/PhDExperiments/27/StatisticalArbitrage\\2010-07-01\n",
      "e:/Users/madalina.stanciu/Downloads/PhDExperiments/27/StatisticalArbitrage\\2011-07-01\n",
      "e:/Users/madalina.stanciu/Downloads/PhDExperiments/27/StatisticalArbitrage\\2012-07-01\n",
      "C_LGB_CR_1Y\n",
      "e:/Users/madalina.stanciu/Downloads/PhDExperiments/30/StatisticalArbitrage/*\n",
      "e:/Users/madalina.stanciu/Downloads/PhDExperiments/30/StatisticalArbitrage\\2007-01-01\n",
      "e:/Users/madalina.stanciu/Downloads/PhDExperiments/30/StatisticalArbitrage\\2008-01-01\n",
      "e:/Users/madalina.stanciu/Downloads/PhDExperiments/30/StatisticalArbitrage\\2009-01-01\n",
      "e:/Users/madalina.stanciu/Downloads/PhDExperiments/30/StatisticalArbitrage\\2010-01-01\n",
      "e:/Users/madalina.stanciu/Downloads/PhDExperiments/30/StatisticalArbitrage\\2011-01-01\n",
      "e:/Users/madalina.stanciu/Downloads/PhDExperiments/30/StatisticalArbitrage\\2012-01-01\n",
      "e:/Users/madalina.stanciu/Downloads/PhDExperiments/30/StatisticalArbitrage\\2013-01-01\n",
      "e:/Users/madalina.stanciu/Downloads/PhDExperiments/30/StatisticalArbitrage\\2014-01-01\n",
      "e:/Users/madalina.stanciu/Downloads/PhDExperiments/30/StatisticalArbitrage\\2015-01-01\n",
      "C_LGB_CR_6M\n",
      "e:/Users/madalina.stanciu/Downloads/PhDExperiments/31/StatisticalArbitrage/*\n",
      "e:/Users/madalina.stanciu/Downloads/PhDExperiments/31/StatisticalArbitrage\\2006-07-01\n",
      "e:/Users/madalina.stanciu/Downloads/PhDExperiments/31/StatisticalArbitrage\\2007-07-01\n",
      "e:/Users/madalina.stanciu/Downloads/PhDExperiments/31/StatisticalArbitrage\\2008-07-01\n",
      "e:/Users/madalina.stanciu/Downloads/PhDExperiments/31/StatisticalArbitrage\\2009-07-01\n",
      "e:/Users/madalina.stanciu/Downloads/PhDExperiments/31/StatisticalArbitrage\\2010-07-01\n",
      "e:/Users/madalina.stanciu/Downloads/PhDExperiments/31/StatisticalArbitrage\\2011-07-01\n",
      "e:/Users/madalina.stanciu/Downloads/PhDExperiments/31/StatisticalArbitrage\\2012-07-01\n",
      "e:/Users/madalina.stanciu/Downloads/PhDExperiments/31/StatisticalArbitrage\\2013-07-01\n",
      "e:/Users/madalina.stanciu/Downloads/PhDExperiments/31/StatisticalArbitrage\\2014-07-01\n",
      "e:/Users/madalina.stanciu/Downloads/PhDExperiments/31/StatisticalArbitrage\\2015-07-01\n",
      "e:/Users/madalina.stanciu/Downloads/PhDExperiments/31/StatisticalArbitrage\\2016-07-01\n"
     ]
    },
    {
     "name": "stdout",
     "output_type": "stream",
     "text": [
      "S_LGB_TI_1Y_2\n",
      "e:/Users/madalina.stanciu/Downloads/PhDExperiments/36/StatisticalArbitrage/*\n",
      "e:/Users/madalina.stanciu/Downloads/PhDExperiments/36/StatisticalArbitrage\\2007-01-01\n",
      "e:/Users/madalina.stanciu/Downloads/PhDExperiments/36/StatisticalArbitrage\\2008-01-01\n",
      "e:/Users/madalina.stanciu/Downloads/PhDExperiments/36/StatisticalArbitrage\\2009-01-01\n",
      "e:/Users/madalina.stanciu/Downloads/PhDExperiments/36/StatisticalArbitrage\\2010-01-01\n",
      "e:/Users/madalina.stanciu/Downloads/PhDExperiments/36/StatisticalArbitrage\\2011-01-01\n",
      "e:/Users/madalina.stanciu/Downloads/PhDExperiments/36/StatisticalArbitrage\\2012-01-01\n",
      "e:/Users/madalina.stanciu/Downloads/PhDExperiments/36/StatisticalArbitrage\\2013-01-01\n",
      "e:/Users/madalina.stanciu/Downloads/PhDExperiments/36/StatisticalArbitrage\\2014-01-01\n",
      "e:/Users/madalina.stanciu/Downloads/PhDExperiments/36/StatisticalArbitrage\\2015-01-01\n",
      "C_LGB_TI_6M\n",
      "e:/Users/madalina.stanciu/Downloads/PhDExperiments/29/StatisticalArbitrage/*\n",
      "e:/Users/madalina.stanciu/Downloads/PhDExperiments/29/StatisticalArbitrage\\2006-07-01\n",
      "e:/Users/madalina.stanciu/Downloads/PhDExperiments/29/StatisticalArbitrage\\2007-07-01\n",
      "e:/Users/madalina.stanciu/Downloads/PhDExperiments/29/StatisticalArbitrage\\2008-07-01\n",
      "e:/Users/madalina.stanciu/Downloads/PhDExperiments/29/StatisticalArbitrage\\2009-07-01\n",
      "e:/Users/madalina.stanciu/Downloads/PhDExperiments/29/StatisticalArbitrage\\2010-07-01\n",
      "e:/Users/madalina.stanciu/Downloads/PhDExperiments/29/StatisticalArbitrage\\2011-07-01\n",
      "e:/Users/madalina.stanciu/Downloads/PhDExperiments/29/StatisticalArbitrage\\2012-07-01\n",
      "e:/Users/madalina.stanciu/Downloads/PhDExperiments/29/StatisticalArbitrage\\2013-07-01\n",
      "e:/Users/madalina.stanciu/Downloads/PhDExperiments/29/StatisticalArbitrage\\2014-07-01\n",
      "e:/Users/madalina.stanciu/Downloads/PhDExperiments/29/StatisticalArbitrage\\2015-07-01\n",
      "e:/Users/madalina.stanciu/Downloads/PhDExperiments/29/StatisticalArbitrage\\2016-07-01\n",
      "S_RF_CR_1Y\n",
      "e:/Users/madalina.stanciu/Downloads/PhDExperiments/40/StatisticalArbitrage/*\n",
      "e:/Users/madalina.stanciu/Downloads/PhDExperiments/40/StatisticalArbitrage\\2007-01-01\n",
      "e:/Users/madalina.stanciu/Downloads/PhDExperiments/40/StatisticalArbitrage\\2008-01-01\n",
      "e:/Users/madalina.stanciu/Downloads/PhDExperiments/40/StatisticalArbitrage\\2009-01-01\n",
      "e:/Users/madalina.stanciu/Downloads/PhDExperiments/40/StatisticalArbitrage\\2010-01-01\n",
      "e:/Users/madalina.stanciu/Downloads/PhDExperiments/40/StatisticalArbitrage\\2011-01-01\n",
      "e:/Users/madalina.stanciu/Downloads/PhDExperiments/40/StatisticalArbitrage\\2012-01-01\n",
      "e:/Users/madalina.stanciu/Downloads/PhDExperiments/40/StatisticalArbitrage\\2013-01-01\n",
      "e:/Users/madalina.stanciu/Downloads/PhDExperiments/40/StatisticalArbitrage\\2014-01-01\n",
      "e:/Users/madalina.stanciu/Downloads/PhDExperiments/40/StatisticalArbitrage\\2015-01-01\n",
      "S_RF_CR_6M\n",
      "e:/Users/madalina.stanciu/Downloads/PhDExperiments/41/StatisticalArbitrage/*\n",
      "e:/Users/madalina.stanciu/Downloads/PhDExperiments/41/StatisticalArbitrage\\2006-07-01\n",
      "e:/Users/madalina.stanciu/Downloads/PhDExperiments/41/StatisticalArbitrage\\2007-07-01\n",
      "e:/Users/madalina.stanciu/Downloads/PhDExperiments/41/StatisticalArbitrage\\2008-07-01\n",
      "e:/Users/madalina.stanciu/Downloads/PhDExperiments/41/StatisticalArbitrage\\2009-07-01\n",
      "e:/Users/madalina.stanciu/Downloads/PhDExperiments/41/StatisticalArbitrage\\2010-07-01\n",
      "e:/Users/madalina.stanciu/Downloads/PhDExperiments/41/StatisticalArbitrage\\2011-07-01\n",
      "e:/Users/madalina.stanciu/Downloads/PhDExperiments/41/StatisticalArbitrage\\2012-07-01\n",
      "e:/Users/madalina.stanciu/Downloads/PhDExperiments/41/StatisticalArbitrage\\2013-07-01\n",
      "e:/Users/madalina.stanciu/Downloads/PhDExperiments/41/StatisticalArbitrage\\2014-07-01\n",
      "e:/Users/madalina.stanciu/Downloads/PhDExperiments/41/StatisticalArbitrage\\2015-07-01\n",
      "e:/Users/madalina.stanciu/Downloads/PhDExperiments/41/StatisticalArbitrage\\2016-07-01\n",
      "S_RF_TI_1Y\n",
      "e:/Users/madalina.stanciu/Downloads/PhDExperiments/50/StatisticalArbitrage/*\n",
      "e:/Users/madalina.stanciu/Downloads/PhDExperiments/50/StatisticalArbitrage\\2007-01-01\n",
      "e:/Users/madalina.stanciu/Downloads/PhDExperiments/50/StatisticalArbitrage\\2008-01-01\n",
      "e:/Users/madalina.stanciu/Downloads/PhDExperiments/50/StatisticalArbitrage\\2009-01-01\n",
      "e:/Users/madalina.stanciu/Downloads/PhDExperiments/50/StatisticalArbitrage\\2010-01-01\n",
      "e:/Users/madalina.stanciu/Downloads/PhDExperiments/50/StatisticalArbitrage\\2011-01-01\n",
      "e:/Users/madalina.stanciu/Downloads/PhDExperiments/50/StatisticalArbitrage\\2012-01-01\n",
      "e:/Users/madalina.stanciu/Downloads/PhDExperiments/50/StatisticalArbitrage\\2013-01-01\n",
      "e:/Users/madalina.stanciu/Downloads/PhDExperiments/50/StatisticalArbitrage\\2014-01-01\n",
      "S_RF_TI_6M\n",
      "e:/Users/madalina.stanciu/Downloads/PhDExperiments/46/StatisticalArbitrage/*\n",
      "e:/Users/madalina.stanciu/Downloads/PhDExperiments/46/StatisticalArbitrage\\2007-01-01\n",
      "e:/Users/madalina.stanciu/Downloads/PhDExperiments/46/StatisticalArbitrage\\2008-01-01\n",
      "e:/Users/madalina.stanciu/Downloads/PhDExperiments/46/StatisticalArbitrage\\2009-01-01\n",
      "e:/Users/madalina.stanciu/Downloads/PhDExperiments/46/StatisticalArbitrage\\2010-01-01\n",
      "e:/Users/madalina.stanciu/Downloads/PhDExperiments/46/StatisticalArbitrage\\2011-01-01\n",
      "e:/Users/madalina.stanciu/Downloads/PhDExperiments/46/StatisticalArbitrage\\2012-01-01\n",
      "e:/Users/madalina.stanciu/Downloads/PhDExperiments/46/StatisticalArbitrage\\2013-01-01\n",
      "e:/Users/madalina.stanciu/Downloads/PhDExperiments/46/StatisticalArbitrage\\2014-01-01\n",
      "e:/Users/madalina.stanciu/Downloads/PhDExperiments/46/StatisticalArbitrage\\2015-01-01\n",
      "S_SVR_CR_1Y\n",
      "e:/Users/madalina.stanciu/Downloads/PhDExperiments/44/StatisticalArbitrage/*\n",
      "e:/Users/madalina.stanciu/Downloads/PhDExperiments/44/StatisticalArbitrage\\2007-07-01\n",
      "e:/Users/madalina.stanciu/Downloads/PhDExperiments/44/StatisticalArbitrage\\2008-01-01\n",
      "e:/Users/madalina.stanciu/Downloads/PhDExperiments/44/StatisticalArbitrage\\2008-07-01\n",
      "e:/Users/madalina.stanciu/Downloads/PhDExperiments/44/StatisticalArbitrage\\2009-01-01\n",
      "e:/Users/madalina.stanciu/Downloads/PhDExperiments/44/StatisticalArbitrage\\2009-07-01\n",
      "e:/Users/madalina.stanciu/Downloads/PhDExperiments/44/StatisticalArbitrage\\2010-01-01\n",
      "e:/Users/madalina.stanciu/Downloads/PhDExperiments/44/StatisticalArbitrage\\2010-07-01\n",
      "e:/Users/madalina.stanciu/Downloads/PhDExperiments/44/StatisticalArbitrage\\2011-01-01\n",
      "e:/Users/madalina.stanciu/Downloads/PhDExperiments/44/StatisticalArbitrage\\2011-07-01\n",
      "e:/Users/madalina.stanciu/Downloads/PhDExperiments/44/StatisticalArbitrage\\2012-01-01\n",
      "e:/Users/madalina.stanciu/Downloads/PhDExperiments/44/StatisticalArbitrage\\2012-07-01\n",
      "e:/Users/madalina.stanciu/Downloads/PhDExperiments/44/StatisticalArbitrage\\2013-01-01\n",
      "e:/Users/madalina.stanciu/Downloads/PhDExperiments/44/StatisticalArbitrage\\2013-07-01\n",
      "e:/Users/madalina.stanciu/Downloads/PhDExperiments/44/StatisticalArbitrage\\2014-01-01\n",
      "e:/Users/madalina.stanciu/Downloads/PhDExperiments/44/StatisticalArbitrage\\2014-07-01\n",
      "e:/Users/madalina.stanciu/Downloads/PhDExperiments/44/StatisticalArbitrage\\2015-01-01\n",
      "e:/Users/madalina.stanciu/Downloads/PhDExperiments/44/StatisticalArbitrage\\2015-07-01\n",
      "e:/Users/madalina.stanciu/Downloads/PhDExperiments/44/StatisticalArbitrage\\2016-01-01\n",
      "e:/Users/madalina.stanciu/Downloads/PhDExperiments/44/StatisticalArbitrage\\2016-07-01\n",
      "S_SVR_CR_6M\n",
      "e:/Users/madalina.stanciu/Downloads/PhDExperiments/45/StatisticalArbitrage/*\n",
      "e:/Users/madalina.stanciu/Downloads/PhDExperiments/45/StatisticalArbitrage\\2007-04-01\n",
      "e:/Users/madalina.stanciu/Downloads/PhDExperiments/45/StatisticalArbitrage\\2007-10-01\n",
      "e:/Users/madalina.stanciu/Downloads/PhDExperiments/45/StatisticalArbitrage\\2008-04-01\n",
      "e:/Users/madalina.stanciu/Downloads/PhDExperiments/45/StatisticalArbitrage\\2008-10-01\n",
      "e:/Users/madalina.stanciu/Downloads/PhDExperiments/45/StatisticalArbitrage\\2009-04-01\n",
      "e:/Users/madalina.stanciu/Downloads/PhDExperiments/45/StatisticalArbitrage\\2009-10-01\n",
      "e:/Users/madalina.stanciu/Downloads/PhDExperiments/45/StatisticalArbitrage\\2010-04-01\n",
      "e:/Users/madalina.stanciu/Downloads/PhDExperiments/45/StatisticalArbitrage\\2010-10-01\n",
      "e:/Users/madalina.stanciu/Downloads/PhDExperiments/45/StatisticalArbitrage\\2011-04-01\n",
      "S_SVR_TI_1Y\n",
      "e:/Users/madalina.stanciu/Downloads/PhDExperiments/48/StatisticalArbitrage/*\n",
      "e:/Users/madalina.stanciu/Downloads/PhDExperiments/48/StatisticalArbitrage\\2006-07-01\n",
      "e:/Users/madalina.stanciu/Downloads/PhDExperiments/48/StatisticalArbitrage\\2007-01-01\n",
      "e:/Users/madalina.stanciu/Downloads/PhDExperiments/48/StatisticalArbitrage\\2007-07-01\n",
      "e:/Users/madalina.stanciu/Downloads/PhDExperiments/48/StatisticalArbitrage\\2008-01-01\n",
      "e:/Users/madalina.stanciu/Downloads/PhDExperiments/48/StatisticalArbitrage\\2008-07-01\n",
      "e:/Users/madalina.stanciu/Downloads/PhDExperiments/48/StatisticalArbitrage\\2009-01-01\n",
      "e:/Users/madalina.stanciu/Downloads/PhDExperiments/48/StatisticalArbitrage\\2009-07-01\n",
      "e:/Users/madalina.stanciu/Downloads/PhDExperiments/48/StatisticalArbitrage\\2010-01-01\n",
      "e:/Users/madalina.stanciu/Downloads/PhDExperiments/48/StatisticalArbitrage\\2010-07-01\n",
      "e:/Users/madalina.stanciu/Downloads/PhDExperiments/48/StatisticalArbitrage\\2011-01-01\n",
      "e:/Users/madalina.stanciu/Downloads/PhDExperiments/48/StatisticalArbitrage\\2011-07-01\n",
      "e:/Users/madalina.stanciu/Downloads/PhDExperiments/48/StatisticalArbitrage\\2012-01-01\n",
      "e:/Users/madalina.stanciu/Downloads/PhDExperiments/48/StatisticalArbitrage\\2012-07-01\n",
      "e:/Users/madalina.stanciu/Downloads/PhDExperiments/48/StatisticalArbitrage\\2013-01-01\n",
      "e:/Users/madalina.stanciu/Downloads/PhDExperiments/48/StatisticalArbitrage\\2013-07-01\n",
      "e:/Users/madalina.stanciu/Downloads/PhDExperiments/48/StatisticalArbitrage\\2014-01-01\n",
      "e:/Users/madalina.stanciu/Downloads/PhDExperiments/48/StatisticalArbitrage\\2014-07-01\n",
      "e:/Users/madalina.stanciu/Downloads/PhDExperiments/48/StatisticalArbitrage\\2015-01-01\n",
      "e:/Users/madalina.stanciu/Downloads/PhDExperiments/48/StatisticalArbitrage\\2015-07-01\n"
     ]
    },
    {
     "name": "stdout",
     "output_type": "stream",
     "text": [
      "S_LGB_CR_1Y_2\n",
      "e:/Users/madalina.stanciu/Downloads/PhDExperiments/32/StatisticalArbitrage/*\n",
      "e:/Users/madalina.stanciu/Downloads/PhDExperiments/32/StatisticalArbitrage\\2007-01-01\n",
      "e:/Users/madalina.stanciu/Downloads/PhDExperiments/32/StatisticalArbitrage\\2008-01-01\n",
      "e:/Users/madalina.stanciu/Downloads/PhDExperiments/32/StatisticalArbitrage\\2009-01-01\n",
      "e:/Users/madalina.stanciu/Downloads/PhDExperiments/32/StatisticalArbitrage\\2010-01-01\n",
      "e:/Users/madalina.stanciu/Downloads/PhDExperiments/32/StatisticalArbitrage\\2011-01-01\n",
      "e:/Users/madalina.stanciu/Downloads/PhDExperiments/32/StatisticalArbitrage\\2012-01-01\n",
      "e:/Users/madalina.stanciu/Downloads/PhDExperiments/32/StatisticalArbitrage\\2013-01-01\n",
      "e:/Users/madalina.stanciu/Downloads/PhDExperiments/32/StatisticalArbitrage\\2014-01-01\n",
      "e:/Users/madalina.stanciu/Downloads/PhDExperiments/32/StatisticalArbitrage\\2015-01-01\n",
      "S_LGB_CR_6M_2\n",
      "e:/Users/madalina.stanciu/Downloads/PhDExperiments/33/StatisticalArbitrage/*\n",
      "e:/Users/madalina.stanciu/Downloads/PhDExperiments/33/StatisticalArbitrage\\2006-07-01\n",
      "e:/Users/madalina.stanciu/Downloads/PhDExperiments/33/StatisticalArbitrage\\2007-07-01\n",
      "e:/Users/madalina.stanciu/Downloads/PhDExperiments/33/StatisticalArbitrage\\2008-07-01\n",
      "e:/Users/madalina.stanciu/Downloads/PhDExperiments/33/StatisticalArbitrage\\2009-07-01\n",
      "e:/Users/madalina.stanciu/Downloads/PhDExperiments/33/StatisticalArbitrage\\2010-07-01\n",
      "e:/Users/madalina.stanciu/Downloads/PhDExperiments/33/StatisticalArbitrage\\2011-07-01\n",
      "e:/Users/madalina.stanciu/Downloads/PhDExperiments/33/StatisticalArbitrage\\2012-07-01\n",
      "e:/Users/madalina.stanciu/Downloads/PhDExperiments/33/StatisticalArbitrage\\2013-07-01\n",
      "e:/Users/madalina.stanciu/Downloads/PhDExperiments/33/StatisticalArbitrage\\2014-07-01\n",
      "e:/Users/madalina.stanciu/Downloads/PhDExperiments/33/StatisticalArbitrage\\2015-07-01\n",
      "e:/Users/madalina.stanciu/Downloads/PhDExperiments/33/StatisticalArbitrage\\2016-07-01\n",
      "S_LGB_TI_1Y\n",
      "e:/Users/madalina.stanciu/Downloads/PhDExperiments/34/StatisticalArbitrage/*\n",
      "e:/Users/madalina.stanciu/Downloads/PhDExperiments/34/StatisticalArbitrage\\2007-01-01\n",
      "e:/Users/madalina.stanciu/Downloads/PhDExperiments/34/StatisticalArbitrage\\2008-01-01\n",
      "e:/Users/madalina.stanciu/Downloads/PhDExperiments/34/StatisticalArbitrage\\2009-01-01\n",
      "e:/Users/madalina.stanciu/Downloads/PhDExperiments/34/StatisticalArbitrage\\2010-01-01\n",
      "e:/Users/madalina.stanciu/Downloads/PhDExperiments/34/StatisticalArbitrage\\2011-01-01\n",
      "e:/Users/madalina.stanciu/Downloads/PhDExperiments/34/StatisticalArbitrage\\2012-01-01\n",
      "e:/Users/madalina.stanciu/Downloads/PhDExperiments/34/StatisticalArbitrage\\2013-01-01\n",
      "e:/Users/madalina.stanciu/Downloads/PhDExperiments/34/StatisticalArbitrage\\2014-01-01\n",
      "e:/Users/madalina.stanciu/Downloads/PhDExperiments/34/StatisticalArbitrage\\2015-01-01\n",
      "S_LGB_TI_6M\n",
      "e:/Users/madalina.stanciu/Downloads/PhDExperiments/35/StatisticalArbitrage/*\n",
      "e:/Users/madalina.stanciu/Downloads/PhDExperiments/35/StatisticalArbitrage\\2006-07-01\n",
      "e:/Users/madalina.stanciu/Downloads/PhDExperiments/35/StatisticalArbitrage\\2007-07-01\n",
      "e:/Users/madalina.stanciu/Downloads/PhDExperiments/35/StatisticalArbitrage\\2008-07-01\n",
      "e:/Users/madalina.stanciu/Downloads/PhDExperiments/35/StatisticalArbitrage\\2009-07-01\n",
      "e:/Users/madalina.stanciu/Downloads/PhDExperiments/35/StatisticalArbitrage\\2010-07-01\n",
      "e:/Users/madalina.stanciu/Downloads/PhDExperiments/35/StatisticalArbitrage\\2011-07-01\n",
      "e:/Users/madalina.stanciu/Downloads/PhDExperiments/35/StatisticalArbitrage\\2012-07-01\n",
      "e:/Users/madalina.stanciu/Downloads/PhDExperiments/35/StatisticalArbitrage\\2013-07-01\n",
      "e:/Users/madalina.stanciu/Downloads/PhDExperiments/35/StatisticalArbitrage\\2014-07-01\n",
      "e:/Users/madalina.stanciu/Downloads/PhDExperiments/35/StatisticalArbitrage\\2015-07-01\n",
      "e:/Users/madalina.stanciu/Downloads/PhDExperiments/35/StatisticalArbitrage\\2016-07-01\n",
      "          MDD       MSE       RMSE  Sharpe Ratio  annual returns feature  \\\n",
      "0   17.029815  4.357586  18.130444      1.226787        0.159770      LR   \n",
      "1   17.432942  4.359343  18.136904      1.060643        0.136450      LR   \n",
      "2   16.290460  4.358725  18.132697      1.056460        0.135823      LR   \n",
      "3   22.419715  4.358556  18.132920      0.994436        0.126307      LR   \n",
      "4   26.275844  3.962265  17.024069      1.082450        0.141476      LR   \n",
      "..        ...       ...        ...           ...             ...     ...   \n",
      "87  39.018200  4.407580  19.067500      0.600584        0.084361      TI   \n",
      "88  37.223247  4.012481  17.939485      0.197195        0.017931      TI   \n",
      "89  35.245995  3.997391  17.902043      0.457642        0.054789      TI   \n",
      "90  28.721453  4.010855  17.932668      0.584857        0.076357      TI   \n",
      "91  28.721453  4.011398  17.933907      0.496410        0.062771      TI   \n",
      "\n",
      "          label   level    method model                         name  \\\n",
      "0    C_RF_LR_1Y   stock  baseline    RF    RF LR stock validation=1Y   \n",
      "1    C_RF_LR_1Y   stock      best    RF    RF LR stock validation=1Y   \n",
      "2    C_RF_LR_1Y   stock     worst    RF    RF LR stock validation=1Y   \n",
      "3    C_RF_LR_1Y   stock   running    RF    RF LR stock validation=1Y   \n",
      "4    C_RF_LR_6M   stock  baseline    RF    RF LR stock validation=6M   \n",
      "..          ...     ...       ...   ...                          ...   \n",
      "87  S_LGB_TI_1Y  sector   running   LGB  LGB TI sector validation=1Y   \n",
      "88  S_LGB_TI_6M  sector  baseline   LGB  LGB TI sector validation=6M   \n",
      "89  S_LGB_TI_6M  sector      best   LGB  LGB TI sector validation=6M   \n",
      "90  S_LGB_TI_6M  sector     worst   LGB  LGB TI sector validation=6M   \n",
      "91  S_LGB_TI_6M  sector   running   LGB  LGB TI sector validation=6M   \n",
      "\n",
      "   validation length  \n",
      "0                 1Y  \n",
      "1                 1Y  \n",
      "2                 1Y  \n",
      "3                 1Y  \n",
      "4                 6M  \n",
      "..               ...  \n",
      "87                1Y  \n",
      "88                6M  \n",
      "89                6M  \n",
      "90                6M  \n",
      "91                6M  \n",
      "\n",
      "[92 rows x 12 columns]\n"
     ]
    }
   ],
   "source": [
    "import empyrical as emp\n",
    "results_folders = dict(\n",
    "\n",
    "    C_RF_LR_1Y = dict(path=\"e:/Users/madalina.stanciu/Downloads/PhDExperiments/18\", input_type='LR', prediction_type='stock'\n",
    "                   , model='RF', validation_length='1Y'),\n",
    "    C_RF_LR_6M = dict(path=\"e:/Users/madalina.stanciu/Downloads/PhDExperiments/19\", input_type='LR', prediction_type='stock'\n",
    "                   , model='RF', validation_length='6M'),\n",
    "    C_RF_TI_1Y = dict(path=\"e:/Users/madalina.stanciu/Downloads/PhDExperiments/16\", input_type='TI', prediction_type='stock'\n",
    "                   , model='RF', validation_length='1Y'),\n",
    "    C_RF_TI_6M = dict(path=\"e:/Users/madalina.stanciu/Downloads/PhDExperiments/17\", input_type='TI', prediction_type='stock'\n",
    "                   , model='RF', validation_length='6M'),\n",
    "#     C_SVR_LR_1Y = dict(path=\"e:/Users/madalina.stanciu/Downloads/PhDExperiments/20\", input_type='LR', prediction_type='stock'\n",
    "#                    , model='SVR', validation_length='1Y'),\n",
    "#     C_SVR_LR_6M = dict(path=\"e:/Users/madalina.stanciu/Downloads/PhDExperiments/21\", input_type='LR', prediction_type='stock'\n",
    "#                    , model='SVR', validation_length='6M'),\n",
    "    C_SVR_LR_1Y_2 = dict(path=\"e:/Users/madalina.stanciu/Downloads/PhDExperiments/22\", input_type='LR', prediction_type='stock'\n",
    "                   , model='SVR', validation_length='1Y'),\n",
    "    C_SVR_LR_6M_2 = dict(path=\"e:/Users/madalina.stanciu/Downloads/PhDExperiments/23\", input_type='LR', prediction_type='stock'\n",
    "                   , model='SVR', validation_length='6M'),\n",
    "#     C_SVR_TI_1Y = dict(path=\"e:/Users/madalina.stanciu/Downloads/PhDExperiments/24\", input_type='TI', prediction_type='stock'\n",
    "#                    , model='SVR', validation_length='1Y'),\n",
    "    C_SVR_TI_1Y_2 = dict(path=\"e:/Users/madalina.stanciu/Downloads/PhDExperiments/26\", input_type='TI', prediction_type='stock'\n",
    "                   , model='SVR', validation_length='1Y'),\n",
    "    C_SVR_TI_6M = dict(path=\"e:/Users/madalina.stanciu/Downloads/PhDExperiments/27\", input_type='TI', prediction_type='stock'\n",
    "                   , model='SVR', validation_length='6M'),\n",
    "    \n",
    "    C_LGB_CR_1Y = dict(path=\"e:/Users/madalina.stanciu/Downloads/PhDExperiments/30\", input_type='LR', prediction_type='stock'\n",
    "                   , model='LGB', validation_length='1Y'),\n",
    "    C_LGB_CR_6M = dict(path=\"e:/Users/madalina.stanciu/Downloads/PhDExperiments/31\", input_type='LR', prediction_type='stock'\n",
    "                   , model='LGB', validation_length='6M'),\n",
    "    S_LGB_TI_1Y_2 = dict(path=\"e:/Users/madalina.stanciu/Downloads/PhDExperiments/36\", input_type='TI', prediction_type='stock'\n",
    "                   , model='LGB', validation_length='1Y'),\n",
    "    C_LGB_TI_6M = dict(path=\"e:/Users/madalina.stanciu/Downloads/PhDExperiments/29\", input_type='TI', prediction_type='stock'\n",
    "                   , model='LGB', validation_length='6M'),\n",
    "\n",
    "    \n",
    "    S_RF_CR_1Y= dict(path=\"e:/Users/madalina.stanciu/Downloads/PhDExperiments/40\", input_type='LR', prediction_type='sector'\n",
    "                   , model='RF', validation_length='1Y'),\n",
    "    S_RF_CR_6M= dict(path=\"e:/Users/madalina.stanciu/Downloads/PhDExperiments/41\", input_type='LR', prediction_type='sector'\n",
    "                   , model='RF', validation_length='6M'),\n",
    "    S_RF_TI_1Y= dict(path=\"e:/Users/madalina.stanciu/Downloads/PhDExperiments/50\", input_type='TI', prediction_type='sector'\n",
    "                   , model='RF', validation_length='1Y'),\n",
    "    S_RF_TI_6M= dict(path=\"e:/Users/madalina.stanciu/Downloads/PhDExperiments/46\", input_type='TI', prediction_type='sector'\n",
    "                   , model='RF', validation_length='6M'),\n",
    "    \n",
    "    S_SVR_CR_1Y= dict(path=\"e:/Users/madalina.stanciu/Downloads/PhDExperiments/44\", input_type='LR', prediction_type='sector'\n",
    "                   , model='SVR', validation_length='1Y'),\n",
    "    S_SVR_CR_6M= dict(path=\"e:/Users/madalina.stanciu/Downloads/PhDExperiments/45\", input_type='LR', prediction_type='sector'\n",
    "                   , model='SVR', validation_length='6M'),\n",
    "    S_SVR_TI_1Y= dict(path=\"e:/Users/madalina.stanciu/Downloads/PhDExperiments/48\", input_type='TI', prediction_type='sector'\n",
    "                   , model='SVR', validation_length='1Y'),\n",
    "    \n",
    "    S_LGB_CR_1Y_2 = dict(path=\"e:/Users/madalina.stanciu/Downloads/PhDExperiments/32\", input_type='LR', prediction_type='sector'\n",
    "                   , model='LGB', validation_length='1Y'),\n",
    "    S_LGB_CR_6M_2 = dict(path=\"e:/Users/madalina.stanciu/Downloads/PhDExperiments/33\", input_type='LR', prediction_type='sector'\n",
    "                   , model='LGB', validation_length='6M'),\n",
    "    S_LGB_TI_1Y = dict(path=\"e:/Users/madalina.stanciu/Downloads/PhDExperiments/34\", input_type='TI', prediction_type='sector'\n",
    "                   , model='LGB', validation_length='1Y'),\n",
    "    S_LGB_TI_6M = dict(path=\"e:/Users/madalina.stanciu/Downloads/PhDExperiments/35\", input_type='TI', prediction_type='sector'\n",
    "                   , model='LGB', validation_length='6M'),\n",
    "#     S_LGB_TI_1Y_2 = dict(path=\"e:/Users/madalina.stanciu/Downloads/PhDExperiments/36\", input_type='TI', prediction_type='sector'\n",
    "#                    , model='LGB', validation_length='1Y'),\n",
    "#     S_LGB_TI_1Y_3 = dict(path=\"e:/Users/madalina.stanciu/Downloads/PhDExperiments/38\", input_type='TI', prediction_type='sector'\n",
    "#                    , model='LGB', validation_length='1Y'),\n",
    "\n",
    "#     S_LGB_CR_1Y= dict(path=\"e:/Users/madalina.stanciu/Downloads/PhDExperiments/42\", input_type='LR', prediction_type='sector'\n",
    "#                    , model='LGB', validation_length='1Y'),\n",
    "#     S_LGB_CR_6M= dict(path=\"e:/Users/madalina.stanciu/Downloads/PhDExperiments/43\", input_type='LR', prediction_type='sector'\n",
    "#                    , model='LGB', validation_length='6M'),\n",
    "\n",
    "\n",
    ")\n",
    "\n",
    "\n",
    "dataframe_collection = {}\n",
    "statistics_dict=pd.DataFrame()\n",
    "\n",
    "\n",
    "for prediction_method,results_folder in results_folders.items():\n",
    "    print (prediction_method)\n",
    "    folders = []\n",
    "    stri = \"{0}/StatisticalArbitrage/*\".format(results_folder[\"path\"])\n",
    "    print(stri)\n",
    "    for folder in glob.glob(stri):\n",
    "        print (folder)\n",
    "        folders.append(folder)\n",
    "\n",
    "    \n",
    "    series=pd.DataFrame()\n",
    "    error = pd.DataFrame()\n",
    "    for folder in folders:\n",
    "        try:\n",
    "            df = pd.read_csv(folder+\"/valore_giornaliero_pred.csv\",parse_dates=True)\n",
    "            df[\"Date\"]=pd.to_datetime(df[\"Date\"])\n",
    "            df.set_index(\"Date\",inplace=True)\n",
    "            series = pd.concat([series,df])\n",
    "            df_errors = pd.read_csv(folder+\"/metrics.csv\")\n",
    "#             print(df_errors.mean())\n",
    "            error=pd.concat([error,pd.DataFrame([df_errors.mean()])],sort=False)\n",
    "        except:\n",
    "            print (\"File does not exists in folder: {0}\".format(folder))\n",
    "\n",
    "    for column in [col for col in series.columns if 'predicted' in col]:\n",
    "        returns = pd.Series(series[column].values/100, index=series.index.tz_localize('US/Pacific'))\n",
    "        column_error = column.replace(\"predicted_\",\"RMSE_test_\")\n",
    "        columns_MSE=column.replace(\"predicted_\",\"MSE_test_\")\n",
    "#         pf.tears.create_full_tear_sheet(returns)\n",
    "        rmse = error[column_error].values.mean()\n",
    "        mse=error[columns_MSE].values.mean()\n",
    "#         th_index = np.argmax( error[column_error].values)\n",
    "#         print(error.iloc[th_index])\n",
    "        row = {\"method\":column.replace(\"predicted_\",\"\")\n",
    "               ,\"annual returns\":emp.annual_return(returns)\n",
    "               ,\"MDD\":emp.max_drawdown(returns)\n",
    "               ,\"Sharpe Ratio\":emp.sharpe_ratio(returns)\n",
    "               ,\"RMSE\":rmse\n",
    "               ,\"MSE\":mse\n",
    "               ,\"feature\":results_folder[\"input_type\"]\n",
    "               ,\"model\": results_folder[\"model\"]\n",
    "               ,\"level\": results_folder[\"prediction_type\"]\n",
    "               ,\"name\": f'{results_folder[\"model\"]} {results_folder[\"input_type\"]} {results_folder[\"prediction_type\"] } validation={results_folder[\"validation_length\"]}'\n",
    "               ,\"label\":prediction_method\n",
    "               ,\"validation length\":results_folder[\"validation_length\"]\n",
    "              }\n",
    "        statistics_dict=statistics_dict.append(row,ignore_index=True)\n",
    "\n",
    "\n",
    "statistics_dict['MDD']=statistics_dict['MDD'].abs()*100\n",
    "statistics_dict['RMSE']=statistics_dict['RMSE']*1e3\n",
    "statistics_dict['MSE']=statistics_dict['MSE']*1e4\n",
    "print(statistics_dict)\n"
   ]
  },
  {
   "cell_type": "code",
   "execution_count": 89,
   "id": "significant-ontario",
   "metadata": {},
   "outputs": [],
   "source": [
    "statistics_dict.to_csv('./all_results.csv')"
   ]
  },
  {
   "cell_type": "code",
   "execution_count": 144,
   "id": "continued-chaos",
   "metadata": {},
   "outputs": [
    {
     "data": {
      "application/vnd.plotly.v1+json": {
       "config": {
        "plotlyServerURL": "https://plot.ly"
       },
       "data": [
        {
         "hovertemplate": "method=baseline<br>name=%{x}<br>annual returns=%{y}<extra></extra>",
         "legendgroup": "baseline",
         "marker": {
          "color": "#636efa",
          "symbol": "circle"
         },
         "mode": "lines+markers",
         "name": "baseline",
         "orientation": "v",
         "showlegend": true,
         "type": "scatter",
         "x": [
          "RF LR stock validation=1Y",
          "RF LR stock validation=6M",
          "RF TI stock validation=1Y",
          "RF TI stock validation=6M",
          "SVR LR stock validation=1Y",
          "SVR LR stock validation=6M",
          "SVR TI stock validation=1Y",
          "SVR TI stock validation=6M",
          "LGB LR stock validation=1Y",
          "LGB LR stock validation=6M",
          "LGB TI stock validation=1Y",
          "LGB TI stock validation=6M",
          "RF LR sector validation=1Y",
          "RF LR sector validation=6M",
          "RF TI sector validation=1Y",
          "RF TI sector validation=6M",
          "SVR LR sector validation=1Y",
          "SVR LR sector validation=6M",
          "SVR TI sector validation=1Y",
          "LGB LR sector validation=1Y",
          "LGB LR sector validation=6M",
          "LGB TI sector validation=1Y",
          "LGB TI sector validation=6M"
         ],
         "xaxis": "x",
         "y": [
          0.15976975402116422,
          0.14147559815186184,
          0.011647087583327664,
          0.005918664619575242,
          0.1507259562687262,
          0.13268955964661622,
          0.025070407403429584,
          0.01592810687399715,
          0.06597493814922939,
          0.05684628154890192,
          0.06559703935408123,
          0.060277410679080656,
          0.041588270611064626,
          0.10231300891176254,
          0.0930696130056392,
          0.05293999066057786,
          0.0553267554958341,
          0.07466721467925641,
          -0.01789758934283847,
          0.07764134923771038,
          0.10406870149016068,
          0.038849077984156155,
          0.017930901421609136
         ],
         "yaxis": "y"
        },
        {
         "hovertemplate": "method=best<br>name=%{x}<br>annual returns=%{y}<extra></extra>",
         "legendgroup": "best",
         "marker": {
          "color": "#EF553B",
          "symbol": "circle"
         },
         "mode": "lines+markers",
         "name": "best",
         "orientation": "v",
         "showlegend": true,
         "type": "scatter",
         "x": [
          "RF LR stock validation=1Y",
          "RF LR stock validation=6M",
          "RF TI stock validation=1Y",
          "RF TI stock validation=6M",
          "SVR LR stock validation=1Y",
          "SVR LR stock validation=6M",
          "SVR TI stock validation=1Y",
          "SVR TI stock validation=6M",
          "LGB LR stock validation=1Y",
          "LGB LR stock validation=6M",
          "LGB TI stock validation=1Y",
          "LGB TI stock validation=6M",
          "RF LR sector validation=1Y",
          "RF LR sector validation=6M",
          "RF TI sector validation=1Y",
          "RF TI sector validation=6M",
          "SVR LR sector validation=1Y",
          "SVR LR sector validation=6M",
          "SVR TI sector validation=1Y",
          "LGB LR sector validation=1Y",
          "LGB LR sector validation=6M",
          "LGB TI sector validation=1Y",
          "LGB TI sector validation=6M"
         ],
         "xaxis": "x",
         "y": [
          0.13644962712738273,
          0.1231855343170789,
          -0.0355200299664169,
          0.06392723431163105,
          0.17175730254505117,
          0.13084537129277773,
          -0.0035092968813085212,
          0.01015577781231869,
          0.05819919273085139,
          0.04678218603296669,
          0.08290334370958541,
          0.08328979939988357,
          0.05328207597049861,
          0.11736899795293265,
          0.06160976071725832,
          0.030138931475676367,
          0.035319356764168974,
          0.0036998748825003425,
          0.006763090155086138,
          0.01711098834535907,
          0.055899230106690734,
          0.051133624998562555,
          0.05478896968126579
         ],
         "yaxis": "y"
        },
        {
         "hovertemplate": "method=worst<br>name=%{x}<br>annual returns=%{y}<extra></extra>",
         "legendgroup": "worst",
         "marker": {
          "color": "#00cc96",
          "symbol": "circle"
         },
         "mode": "lines+markers",
         "name": "worst",
         "orientation": "v",
         "showlegend": true,
         "type": "scatter",
         "x": [
          "RF LR stock validation=1Y",
          "RF LR stock validation=6M",
          "RF TI stock validation=1Y",
          "RF TI stock validation=6M",
          "SVR LR stock validation=1Y",
          "SVR LR stock validation=6M",
          "SVR TI stock validation=1Y",
          "SVR TI stock validation=6M",
          "LGB LR stock validation=1Y",
          "LGB LR stock validation=6M",
          "LGB TI stock validation=1Y",
          "LGB TI stock validation=6M",
          "RF LR sector validation=1Y",
          "RF LR sector validation=6M",
          "RF TI sector validation=1Y",
          "RF TI sector validation=6M",
          "SVR LR sector validation=1Y",
          "SVR LR sector validation=6M",
          "SVR TI sector validation=1Y",
          "LGB LR sector validation=1Y",
          "LGB LR sector validation=6M",
          "LGB TI sector validation=1Y",
          "LGB TI sector validation=6M"
         ],
         "xaxis": "x",
         "y": [
          0.13582257863884384,
          0.14075273860835735,
          -0.009495606842954252,
          0.04425812624619119,
          0.15473020213220812,
          0.13268955964661622,
          0.023524467039225616,
          0.03632720476438256,
          0.06537936823558099,
          0.05387925272929239,
          0.06958021276114956,
          0.08448931130604653,
          0.09917983317149037,
          0.1368898334822921,
          0.054849348090055816,
          0.08224514730120935,
          0.042955708258246794,
          0.08242026629455412,
          -0.010035475545175365,
          0.04634506653765924,
          0.09720900387086773,
          0.11716161175354567,
          0.0763567956422937
         ],
         "yaxis": "y"
        },
        {
         "hovertemplate": "method=running<br>name=%{x}<br>annual returns=%{y}<extra></extra>",
         "legendgroup": "running",
         "marker": {
          "color": "#ab63fa",
          "symbol": "circle"
         },
         "mode": "lines+markers",
         "name": "running",
         "orientation": "v",
         "showlegend": true,
         "type": "scatter",
         "x": [
          "RF LR stock validation=1Y",
          "RF LR stock validation=6M",
          "RF TI stock validation=1Y",
          "RF TI stock validation=6M",
          "SVR LR stock validation=1Y",
          "SVR LR stock validation=6M",
          "SVR TI stock validation=1Y",
          "SVR TI stock validation=6M",
          "LGB LR stock validation=1Y",
          "LGB LR stock validation=6M",
          "LGB TI stock validation=1Y",
          "LGB TI stock validation=6M",
          "RF LR sector validation=1Y",
          "RF LR sector validation=6M",
          "RF TI sector validation=1Y",
          "RF TI sector validation=6M",
          "SVR LR sector validation=1Y",
          "SVR LR sector validation=6M",
          "SVR TI sector validation=1Y",
          "LGB LR sector validation=1Y",
          "LGB LR sector validation=6M",
          "LGB TI sector validation=1Y",
          "LGB TI sector validation=6M"
         ],
         "xaxis": "x",
         "y": [
          0.12630737746806298,
          0.14887128773046454,
          -0.04372909456923135,
          0.048973478785051094,
          0.15736893895858728,
          0.12352065719805805,
          -0.022783419400233318,
          -0.002935898155754346,
          0.06773283498037275,
          0.04430050526826612,
          0.06351945494777267,
          0.054831921088408286,
          0.10936565510309793,
          0.1243056481158813,
          0.05251866602972277,
          0.08316227924071184,
          0.054988513998520894,
          0.060708531659630305,
          -0.010815904956826494,
          0.05653862489118944,
          0.08365946205287367,
          0.08436076824292771,
          0.06277100831580595
         ],
         "yaxis": "y"
        }
       ],
       "layout": {
        "legend": {
         "title": {
          "text": "method"
         },
         "tracegroupgap": 0
        },
        "margin": {
         "t": 60
        },
        "template": {
         "data": {
          "bar": [
           {
            "error_x": {
             "color": "#2a3f5f"
            },
            "error_y": {
             "color": "#2a3f5f"
            },
            "marker": {
             "line": {
              "color": "#E5ECF6",
              "width": 0.5
             }
            },
            "type": "bar"
           }
          ],
          "barpolar": [
           {
            "marker": {
             "line": {
              "color": "#E5ECF6",
              "width": 0.5
             }
            },
            "type": "barpolar"
           }
          ],
          "carpet": [
           {
            "aaxis": {
             "endlinecolor": "#2a3f5f",
             "gridcolor": "white",
             "linecolor": "white",
             "minorgridcolor": "white",
             "startlinecolor": "#2a3f5f"
            },
            "baxis": {
             "endlinecolor": "#2a3f5f",
             "gridcolor": "white",
             "linecolor": "white",
             "minorgridcolor": "white",
             "startlinecolor": "#2a3f5f"
            },
            "type": "carpet"
           }
          ],
          "choropleth": [
           {
            "colorbar": {
             "outlinewidth": 0,
             "ticks": ""
            },
            "type": "choropleth"
           }
          ],
          "contour": [
           {
            "colorbar": {
             "outlinewidth": 0,
             "ticks": ""
            },
            "colorscale": [
             [
              0,
              "#0d0887"
             ],
             [
              0.1111111111111111,
              "#46039f"
             ],
             [
              0.2222222222222222,
              "#7201a8"
             ],
             [
              0.3333333333333333,
              "#9c179e"
             ],
             [
              0.4444444444444444,
              "#bd3786"
             ],
             [
              0.5555555555555556,
              "#d8576b"
             ],
             [
              0.6666666666666666,
              "#ed7953"
             ],
             [
              0.7777777777777778,
              "#fb9f3a"
             ],
             [
              0.8888888888888888,
              "#fdca26"
             ],
             [
              1,
              "#f0f921"
             ]
            ],
            "type": "contour"
           }
          ],
          "contourcarpet": [
           {
            "colorbar": {
             "outlinewidth": 0,
             "ticks": ""
            },
            "type": "contourcarpet"
           }
          ],
          "heatmap": [
           {
            "colorbar": {
             "outlinewidth": 0,
             "ticks": ""
            },
            "colorscale": [
             [
              0,
              "#0d0887"
             ],
             [
              0.1111111111111111,
              "#46039f"
             ],
             [
              0.2222222222222222,
              "#7201a8"
             ],
             [
              0.3333333333333333,
              "#9c179e"
             ],
             [
              0.4444444444444444,
              "#bd3786"
             ],
             [
              0.5555555555555556,
              "#d8576b"
             ],
             [
              0.6666666666666666,
              "#ed7953"
             ],
             [
              0.7777777777777778,
              "#fb9f3a"
             ],
             [
              0.8888888888888888,
              "#fdca26"
             ],
             [
              1,
              "#f0f921"
             ]
            ],
            "type": "heatmap"
           }
          ],
          "heatmapgl": [
           {
            "colorbar": {
             "outlinewidth": 0,
             "ticks": ""
            },
            "colorscale": [
             [
              0,
              "#0d0887"
             ],
             [
              0.1111111111111111,
              "#46039f"
             ],
             [
              0.2222222222222222,
              "#7201a8"
             ],
             [
              0.3333333333333333,
              "#9c179e"
             ],
             [
              0.4444444444444444,
              "#bd3786"
             ],
             [
              0.5555555555555556,
              "#d8576b"
             ],
             [
              0.6666666666666666,
              "#ed7953"
             ],
             [
              0.7777777777777778,
              "#fb9f3a"
             ],
             [
              0.8888888888888888,
              "#fdca26"
             ],
             [
              1,
              "#f0f921"
             ]
            ],
            "type": "heatmapgl"
           }
          ],
          "histogram": [
           {
            "marker": {
             "colorbar": {
              "outlinewidth": 0,
              "ticks": ""
             }
            },
            "type": "histogram"
           }
          ],
          "histogram2d": [
           {
            "colorbar": {
             "outlinewidth": 0,
             "ticks": ""
            },
            "colorscale": [
             [
              0,
              "#0d0887"
             ],
             [
              0.1111111111111111,
              "#46039f"
             ],
             [
              0.2222222222222222,
              "#7201a8"
             ],
             [
              0.3333333333333333,
              "#9c179e"
             ],
             [
              0.4444444444444444,
              "#bd3786"
             ],
             [
              0.5555555555555556,
              "#d8576b"
             ],
             [
              0.6666666666666666,
              "#ed7953"
             ],
             [
              0.7777777777777778,
              "#fb9f3a"
             ],
             [
              0.8888888888888888,
              "#fdca26"
             ],
             [
              1,
              "#f0f921"
             ]
            ],
            "type": "histogram2d"
           }
          ],
          "histogram2dcontour": [
           {
            "colorbar": {
             "outlinewidth": 0,
             "ticks": ""
            },
            "colorscale": [
             [
              0,
              "#0d0887"
             ],
             [
              0.1111111111111111,
              "#46039f"
             ],
             [
              0.2222222222222222,
              "#7201a8"
             ],
             [
              0.3333333333333333,
              "#9c179e"
             ],
             [
              0.4444444444444444,
              "#bd3786"
             ],
             [
              0.5555555555555556,
              "#d8576b"
             ],
             [
              0.6666666666666666,
              "#ed7953"
             ],
             [
              0.7777777777777778,
              "#fb9f3a"
             ],
             [
              0.8888888888888888,
              "#fdca26"
             ],
             [
              1,
              "#f0f921"
             ]
            ],
            "type": "histogram2dcontour"
           }
          ],
          "mesh3d": [
           {
            "colorbar": {
             "outlinewidth": 0,
             "ticks": ""
            },
            "type": "mesh3d"
           }
          ],
          "parcoords": [
           {
            "line": {
             "colorbar": {
              "outlinewidth": 0,
              "ticks": ""
             }
            },
            "type": "parcoords"
           }
          ],
          "pie": [
           {
            "automargin": true,
            "type": "pie"
           }
          ],
          "scatter": [
           {
            "marker": {
             "colorbar": {
              "outlinewidth": 0,
              "ticks": ""
             }
            },
            "type": "scatter"
           }
          ],
          "scatter3d": [
           {
            "line": {
             "colorbar": {
              "outlinewidth": 0,
              "ticks": ""
             }
            },
            "marker": {
             "colorbar": {
              "outlinewidth": 0,
              "ticks": ""
             }
            },
            "type": "scatter3d"
           }
          ],
          "scattercarpet": [
           {
            "marker": {
             "colorbar": {
              "outlinewidth": 0,
              "ticks": ""
             }
            },
            "type": "scattercarpet"
           }
          ],
          "scattergeo": [
           {
            "marker": {
             "colorbar": {
              "outlinewidth": 0,
              "ticks": ""
             }
            },
            "type": "scattergeo"
           }
          ],
          "scattergl": [
           {
            "marker": {
             "colorbar": {
              "outlinewidth": 0,
              "ticks": ""
             }
            },
            "type": "scattergl"
           }
          ],
          "scattermapbox": [
           {
            "marker": {
             "colorbar": {
              "outlinewidth": 0,
              "ticks": ""
             }
            },
            "type": "scattermapbox"
           }
          ],
          "scatterpolar": [
           {
            "marker": {
             "colorbar": {
              "outlinewidth": 0,
              "ticks": ""
             }
            },
            "type": "scatterpolar"
           }
          ],
          "scatterpolargl": [
           {
            "marker": {
             "colorbar": {
              "outlinewidth": 0,
              "ticks": ""
             }
            },
            "type": "scatterpolargl"
           }
          ],
          "scatterternary": [
           {
            "marker": {
             "colorbar": {
              "outlinewidth": 0,
              "ticks": ""
             }
            },
            "type": "scatterternary"
           }
          ],
          "surface": [
           {
            "colorbar": {
             "outlinewidth": 0,
             "ticks": ""
            },
            "colorscale": [
             [
              0,
              "#0d0887"
             ],
             [
              0.1111111111111111,
              "#46039f"
             ],
             [
              0.2222222222222222,
              "#7201a8"
             ],
             [
              0.3333333333333333,
              "#9c179e"
             ],
             [
              0.4444444444444444,
              "#bd3786"
             ],
             [
              0.5555555555555556,
              "#d8576b"
             ],
             [
              0.6666666666666666,
              "#ed7953"
             ],
             [
              0.7777777777777778,
              "#fb9f3a"
             ],
             [
              0.8888888888888888,
              "#fdca26"
             ],
             [
              1,
              "#f0f921"
             ]
            ],
            "type": "surface"
           }
          ],
          "table": [
           {
            "cells": {
             "fill": {
              "color": "#EBF0F8"
             },
             "line": {
              "color": "white"
             }
            },
            "header": {
             "fill": {
              "color": "#C8D4E3"
             },
             "line": {
              "color": "white"
             }
            },
            "type": "table"
           }
          ]
         },
         "layout": {
          "annotationdefaults": {
           "arrowcolor": "#2a3f5f",
           "arrowhead": 0,
           "arrowwidth": 1
          },
          "autotypenumbers": "strict",
          "coloraxis": {
           "colorbar": {
            "outlinewidth": 0,
            "ticks": ""
           }
          },
          "colorscale": {
           "diverging": [
            [
             0,
             "#8e0152"
            ],
            [
             0.1,
             "#c51b7d"
            ],
            [
             0.2,
             "#de77ae"
            ],
            [
             0.3,
             "#f1b6da"
            ],
            [
             0.4,
             "#fde0ef"
            ],
            [
             0.5,
             "#f7f7f7"
            ],
            [
             0.6,
             "#e6f5d0"
            ],
            [
             0.7,
             "#b8e186"
            ],
            [
             0.8,
             "#7fbc41"
            ],
            [
             0.9,
             "#4d9221"
            ],
            [
             1,
             "#276419"
            ]
           ],
           "sequential": [
            [
             0,
             "#0d0887"
            ],
            [
             0.1111111111111111,
             "#46039f"
            ],
            [
             0.2222222222222222,
             "#7201a8"
            ],
            [
             0.3333333333333333,
             "#9c179e"
            ],
            [
             0.4444444444444444,
             "#bd3786"
            ],
            [
             0.5555555555555556,
             "#d8576b"
            ],
            [
             0.6666666666666666,
             "#ed7953"
            ],
            [
             0.7777777777777778,
             "#fb9f3a"
            ],
            [
             0.8888888888888888,
             "#fdca26"
            ],
            [
             1,
             "#f0f921"
            ]
           ],
           "sequentialminus": [
            [
             0,
             "#0d0887"
            ],
            [
             0.1111111111111111,
             "#46039f"
            ],
            [
             0.2222222222222222,
             "#7201a8"
            ],
            [
             0.3333333333333333,
             "#9c179e"
            ],
            [
             0.4444444444444444,
             "#bd3786"
            ],
            [
             0.5555555555555556,
             "#d8576b"
            ],
            [
             0.6666666666666666,
             "#ed7953"
            ],
            [
             0.7777777777777778,
             "#fb9f3a"
            ],
            [
             0.8888888888888888,
             "#fdca26"
            ],
            [
             1,
             "#f0f921"
            ]
           ]
          },
          "colorway": [
           "#636efa",
           "#EF553B",
           "#00cc96",
           "#ab63fa",
           "#FFA15A",
           "#19d3f3",
           "#FF6692",
           "#B6E880",
           "#FF97FF",
           "#FECB52"
          ],
          "font": {
           "color": "#2a3f5f"
          },
          "geo": {
           "bgcolor": "white",
           "lakecolor": "white",
           "landcolor": "#E5ECF6",
           "showlakes": true,
           "showland": true,
           "subunitcolor": "white"
          },
          "hoverlabel": {
           "align": "left"
          },
          "hovermode": "closest",
          "mapbox": {
           "style": "light"
          },
          "paper_bgcolor": "white",
          "plot_bgcolor": "#E5ECF6",
          "polar": {
           "angularaxis": {
            "gridcolor": "white",
            "linecolor": "white",
            "ticks": ""
           },
           "bgcolor": "#E5ECF6",
           "radialaxis": {
            "gridcolor": "white",
            "linecolor": "white",
            "ticks": ""
           }
          },
          "scene": {
           "xaxis": {
            "backgroundcolor": "#E5ECF6",
            "gridcolor": "white",
            "gridwidth": 2,
            "linecolor": "white",
            "showbackground": true,
            "ticks": "",
            "zerolinecolor": "white"
           },
           "yaxis": {
            "backgroundcolor": "#E5ECF6",
            "gridcolor": "white",
            "gridwidth": 2,
            "linecolor": "white",
            "showbackground": true,
            "ticks": "",
            "zerolinecolor": "white"
           },
           "zaxis": {
            "backgroundcolor": "#E5ECF6",
            "gridcolor": "white",
            "gridwidth": 2,
            "linecolor": "white",
            "showbackground": true,
            "ticks": "",
            "zerolinecolor": "white"
           }
          },
          "shapedefaults": {
           "line": {
            "color": "#2a3f5f"
           }
          },
          "ternary": {
           "aaxis": {
            "gridcolor": "white",
            "linecolor": "white",
            "ticks": ""
           },
           "baxis": {
            "gridcolor": "white",
            "linecolor": "white",
            "ticks": ""
           },
           "bgcolor": "#E5ECF6",
           "caxis": {
            "gridcolor": "white",
            "linecolor": "white",
            "ticks": ""
           }
          },
          "title": {
           "x": 0.05
          },
          "xaxis": {
           "automargin": true,
           "gridcolor": "white",
           "linecolor": "white",
           "ticks": "",
           "title": {
            "standoff": 15
           },
           "zerolinecolor": "white",
           "zerolinewidth": 2
          },
          "yaxis": {
           "automargin": true,
           "gridcolor": "white",
           "linecolor": "white",
           "ticks": "",
           "title": {
            "standoff": 15
           },
           "zerolinecolor": "white",
           "zerolinewidth": 2
          }
         }
        },
        "xaxis": {
         "anchor": "y",
         "domain": [
          0,
          1
         ],
         "title": {
          "text": "name"
         }
        },
        "yaxis": {
         "anchor": "x",
         "domain": [
          0,
          1
         ],
         "title": {
          "text": "annual returns"
         }
        }
       }
      },
      "text/html": [
       "<div>                            <div id=\"0cd654b2-88b0-4872-b361-eecdef5050ea\" class=\"plotly-graph-div\" style=\"height:525px; width:100%;\"></div>            <script type=\"text/javascript\">                require([\"plotly\"], function(Plotly) {                    window.PLOTLYENV=window.PLOTLYENV || {};                                    if (document.getElementById(\"0cd654b2-88b0-4872-b361-eecdef5050ea\")) {                    Plotly.newPlot(                        \"0cd654b2-88b0-4872-b361-eecdef5050ea\",                        [{\"hovertemplate\": \"method=baseline<br>name=%{x}<br>annual returns=%{y}<extra></extra>\", \"legendgroup\": \"baseline\", \"marker\": {\"color\": \"#636efa\", \"symbol\": \"circle\"}, \"mode\": \"lines+markers\", \"name\": \"baseline\", \"orientation\": \"v\", \"showlegend\": true, \"type\": \"scatter\", \"x\": [\"RF LR stock validation=1Y\", \"RF LR stock validation=6M\", \"RF TI stock validation=1Y\", \"RF TI stock validation=6M\", \"SVR LR stock validation=1Y\", \"SVR LR stock validation=6M\", \"SVR TI stock validation=1Y\", \"SVR TI stock validation=6M\", \"LGB LR stock validation=1Y\", \"LGB LR stock validation=6M\", \"LGB TI stock validation=1Y\", \"LGB TI stock validation=6M\", \"RF LR sector validation=1Y\", \"RF LR sector validation=6M\", \"RF TI sector validation=1Y\", \"RF TI sector validation=6M\", \"SVR LR sector validation=1Y\", \"SVR LR sector validation=6M\", \"SVR TI sector validation=1Y\", \"LGB LR sector validation=1Y\", \"LGB LR sector validation=6M\", \"LGB TI sector validation=1Y\", \"LGB TI sector validation=6M\"], \"xaxis\": \"x\", \"y\": [0.15976975402116422, 0.14147559815186184, 0.011647087583327664, 0.005918664619575242, 0.1507259562687262, 0.13268955964661622, 0.025070407403429584, 0.01592810687399715, 0.06597493814922939, 0.05684628154890192, 0.06559703935408123, 0.060277410679080656, 0.041588270611064626, 0.10231300891176254, 0.0930696130056392, 0.05293999066057786, 0.0553267554958341, 0.07466721467925641, -0.01789758934283847, 0.07764134923771038, 0.10406870149016068, 0.038849077984156155, 0.017930901421609136], \"yaxis\": \"y\"}, {\"hovertemplate\": \"method=best<br>name=%{x}<br>annual returns=%{y}<extra></extra>\", \"legendgroup\": \"best\", \"marker\": {\"color\": \"#EF553B\", \"symbol\": \"circle\"}, \"mode\": \"lines+markers\", \"name\": \"best\", \"orientation\": \"v\", \"showlegend\": true, \"type\": \"scatter\", \"x\": [\"RF LR stock validation=1Y\", \"RF LR stock validation=6M\", \"RF TI stock validation=1Y\", \"RF TI stock validation=6M\", \"SVR LR stock validation=1Y\", \"SVR LR stock validation=6M\", \"SVR TI stock validation=1Y\", \"SVR TI stock validation=6M\", \"LGB LR stock validation=1Y\", \"LGB LR stock validation=6M\", \"LGB TI stock validation=1Y\", \"LGB TI stock validation=6M\", \"RF LR sector validation=1Y\", \"RF LR sector validation=6M\", \"RF TI sector validation=1Y\", \"RF TI sector validation=6M\", \"SVR LR sector validation=1Y\", \"SVR LR sector validation=6M\", \"SVR TI sector validation=1Y\", \"LGB LR sector validation=1Y\", \"LGB LR sector validation=6M\", \"LGB TI sector validation=1Y\", \"LGB TI sector validation=6M\"], \"xaxis\": \"x\", \"y\": [0.13644962712738273, 0.1231855343170789, -0.0355200299664169, 0.06392723431163105, 0.17175730254505117, 0.13084537129277773, -0.0035092968813085212, 0.01015577781231869, 0.05819919273085139, 0.04678218603296669, 0.08290334370958541, 0.08328979939988357, 0.05328207597049861, 0.11736899795293265, 0.06160976071725832, 0.030138931475676367, 0.035319356764168974, 0.0036998748825003425, 0.006763090155086138, 0.01711098834535907, 0.055899230106690734, 0.051133624998562555, 0.05478896968126579], \"yaxis\": \"y\"}, {\"hovertemplate\": \"method=worst<br>name=%{x}<br>annual returns=%{y}<extra></extra>\", \"legendgroup\": \"worst\", \"marker\": {\"color\": \"#00cc96\", \"symbol\": \"circle\"}, \"mode\": \"lines+markers\", \"name\": \"worst\", \"orientation\": \"v\", \"showlegend\": true, \"type\": \"scatter\", \"x\": [\"RF LR stock validation=1Y\", \"RF LR stock validation=6M\", \"RF TI stock validation=1Y\", \"RF TI stock validation=6M\", \"SVR LR stock validation=1Y\", \"SVR LR stock validation=6M\", \"SVR TI stock validation=1Y\", \"SVR TI stock validation=6M\", \"LGB LR stock validation=1Y\", \"LGB LR stock validation=6M\", \"LGB TI stock validation=1Y\", \"LGB TI stock validation=6M\", \"RF LR sector validation=1Y\", \"RF LR sector validation=6M\", \"RF TI sector validation=1Y\", \"RF TI sector validation=6M\", \"SVR LR sector validation=1Y\", \"SVR LR sector validation=6M\", \"SVR TI sector validation=1Y\", \"LGB LR sector validation=1Y\", \"LGB LR sector validation=6M\", \"LGB TI sector validation=1Y\", \"LGB TI sector validation=6M\"], \"xaxis\": \"x\", \"y\": [0.13582257863884384, 0.14075273860835735, -0.009495606842954252, 0.04425812624619119, 0.15473020213220812, 0.13268955964661622, 0.023524467039225616, 0.03632720476438256, 0.06537936823558099, 0.05387925272929239, 0.06958021276114956, 0.08448931130604653, 0.09917983317149037, 0.1368898334822921, 0.054849348090055816, 0.08224514730120935, 0.042955708258246794, 0.08242026629455412, -0.010035475545175365, 0.04634506653765924, 0.09720900387086773, 0.11716161175354567, 0.0763567956422937], \"yaxis\": \"y\"}, {\"hovertemplate\": \"method=running<br>name=%{x}<br>annual returns=%{y}<extra></extra>\", \"legendgroup\": \"running\", \"marker\": {\"color\": \"#ab63fa\", \"symbol\": \"circle\"}, \"mode\": \"lines+markers\", \"name\": \"running\", \"orientation\": \"v\", \"showlegend\": true, \"type\": \"scatter\", \"x\": [\"RF LR stock validation=1Y\", \"RF LR stock validation=6M\", \"RF TI stock validation=1Y\", \"RF TI stock validation=6M\", \"SVR LR stock validation=1Y\", \"SVR LR stock validation=6M\", \"SVR TI stock validation=1Y\", \"SVR TI stock validation=6M\", \"LGB LR stock validation=1Y\", \"LGB LR stock validation=6M\", \"LGB TI stock validation=1Y\", \"LGB TI stock validation=6M\", \"RF LR sector validation=1Y\", \"RF LR sector validation=6M\", \"RF TI sector validation=1Y\", \"RF TI sector validation=6M\", \"SVR LR sector validation=1Y\", \"SVR LR sector validation=6M\", \"SVR TI sector validation=1Y\", \"LGB LR sector validation=1Y\", \"LGB LR sector validation=6M\", \"LGB TI sector validation=1Y\", \"LGB TI sector validation=6M\"], \"xaxis\": \"x\", \"y\": [0.12630737746806298, 0.14887128773046454, -0.04372909456923135, 0.048973478785051094, 0.15736893895858728, 0.12352065719805805, -0.022783419400233318, -0.002935898155754346, 0.06773283498037275, 0.04430050526826612, 0.06351945494777267, 0.054831921088408286, 0.10936565510309793, 0.1243056481158813, 0.05251866602972277, 0.08316227924071184, 0.054988513998520894, 0.060708531659630305, -0.010815904956826494, 0.05653862489118944, 0.08365946205287367, 0.08436076824292771, 0.06277100831580595], \"yaxis\": \"y\"}],                        {\"legend\": {\"title\": {\"text\": \"method\"}, \"tracegroupgap\": 0}, \"margin\": {\"t\": 60}, \"template\": {\"data\": {\"bar\": [{\"error_x\": {\"color\": \"#2a3f5f\"}, \"error_y\": {\"color\": \"#2a3f5f\"}, \"marker\": {\"line\": {\"color\": \"#E5ECF6\", \"width\": 0.5}}, \"type\": \"bar\"}], \"barpolar\": [{\"marker\": {\"line\": {\"color\": \"#E5ECF6\", \"width\": 0.5}}, \"type\": \"barpolar\"}], \"carpet\": [{\"aaxis\": {\"endlinecolor\": \"#2a3f5f\", \"gridcolor\": \"white\", \"linecolor\": \"white\", \"minorgridcolor\": \"white\", \"startlinecolor\": \"#2a3f5f\"}, \"baxis\": {\"endlinecolor\": \"#2a3f5f\", \"gridcolor\": \"white\", \"linecolor\": \"white\", \"minorgridcolor\": \"white\", \"startlinecolor\": \"#2a3f5f\"}, \"type\": \"carpet\"}], \"choropleth\": [{\"colorbar\": {\"outlinewidth\": 0, \"ticks\": \"\"}, \"type\": \"choropleth\"}], \"contour\": [{\"colorbar\": {\"outlinewidth\": 0, \"ticks\": \"\"}, \"colorscale\": [[0.0, \"#0d0887\"], [0.1111111111111111, \"#46039f\"], [0.2222222222222222, \"#7201a8\"], [0.3333333333333333, \"#9c179e\"], [0.4444444444444444, \"#bd3786\"], [0.5555555555555556, \"#d8576b\"], [0.6666666666666666, \"#ed7953\"], [0.7777777777777778, \"#fb9f3a\"], [0.8888888888888888, \"#fdca26\"], [1.0, \"#f0f921\"]], \"type\": \"contour\"}], \"contourcarpet\": [{\"colorbar\": {\"outlinewidth\": 0, \"ticks\": \"\"}, \"type\": \"contourcarpet\"}], \"heatmap\": [{\"colorbar\": {\"outlinewidth\": 0, \"ticks\": \"\"}, \"colorscale\": [[0.0, \"#0d0887\"], [0.1111111111111111, \"#46039f\"], [0.2222222222222222, \"#7201a8\"], [0.3333333333333333, \"#9c179e\"], [0.4444444444444444, \"#bd3786\"], [0.5555555555555556, \"#d8576b\"], [0.6666666666666666, \"#ed7953\"], [0.7777777777777778, \"#fb9f3a\"], [0.8888888888888888, \"#fdca26\"], [1.0, \"#f0f921\"]], \"type\": \"heatmap\"}], \"heatmapgl\": [{\"colorbar\": {\"outlinewidth\": 0, \"ticks\": \"\"}, \"colorscale\": [[0.0, \"#0d0887\"], [0.1111111111111111, \"#46039f\"], [0.2222222222222222, \"#7201a8\"], [0.3333333333333333, \"#9c179e\"], [0.4444444444444444, \"#bd3786\"], [0.5555555555555556, \"#d8576b\"], [0.6666666666666666, \"#ed7953\"], [0.7777777777777778, \"#fb9f3a\"], [0.8888888888888888, \"#fdca26\"], [1.0, \"#f0f921\"]], \"type\": \"heatmapgl\"}], \"histogram\": [{\"marker\": {\"colorbar\": {\"outlinewidth\": 0, \"ticks\": \"\"}}, \"type\": \"histogram\"}], \"histogram2d\": [{\"colorbar\": {\"outlinewidth\": 0, \"ticks\": \"\"}, \"colorscale\": [[0.0, \"#0d0887\"], [0.1111111111111111, \"#46039f\"], [0.2222222222222222, \"#7201a8\"], [0.3333333333333333, \"#9c179e\"], [0.4444444444444444, \"#bd3786\"], [0.5555555555555556, \"#d8576b\"], [0.6666666666666666, \"#ed7953\"], [0.7777777777777778, \"#fb9f3a\"], [0.8888888888888888, \"#fdca26\"], [1.0, \"#f0f921\"]], \"type\": \"histogram2d\"}], \"histogram2dcontour\": [{\"colorbar\": {\"outlinewidth\": 0, \"ticks\": \"\"}, \"colorscale\": [[0.0, \"#0d0887\"], [0.1111111111111111, \"#46039f\"], [0.2222222222222222, \"#7201a8\"], [0.3333333333333333, \"#9c179e\"], [0.4444444444444444, \"#bd3786\"], [0.5555555555555556, \"#d8576b\"], [0.6666666666666666, \"#ed7953\"], [0.7777777777777778, \"#fb9f3a\"], [0.8888888888888888, \"#fdca26\"], [1.0, \"#f0f921\"]], \"type\": \"histogram2dcontour\"}], \"mesh3d\": [{\"colorbar\": {\"outlinewidth\": 0, \"ticks\": \"\"}, \"type\": \"mesh3d\"}], \"parcoords\": [{\"line\": {\"colorbar\": {\"outlinewidth\": 0, \"ticks\": \"\"}}, \"type\": \"parcoords\"}], \"pie\": [{\"automargin\": true, \"type\": \"pie\"}], \"scatter\": [{\"marker\": {\"colorbar\": {\"outlinewidth\": 0, \"ticks\": \"\"}}, \"type\": \"scatter\"}], \"scatter3d\": [{\"line\": {\"colorbar\": {\"outlinewidth\": 0, \"ticks\": \"\"}}, \"marker\": {\"colorbar\": {\"outlinewidth\": 0, \"ticks\": \"\"}}, \"type\": \"scatter3d\"}], \"scattercarpet\": [{\"marker\": {\"colorbar\": {\"outlinewidth\": 0, \"ticks\": \"\"}}, \"type\": \"scattercarpet\"}], \"scattergeo\": [{\"marker\": {\"colorbar\": {\"outlinewidth\": 0, \"ticks\": \"\"}}, \"type\": \"scattergeo\"}], \"scattergl\": [{\"marker\": {\"colorbar\": {\"outlinewidth\": 0, \"ticks\": \"\"}}, \"type\": \"scattergl\"}], \"scattermapbox\": [{\"marker\": {\"colorbar\": {\"outlinewidth\": 0, \"ticks\": \"\"}}, \"type\": \"scattermapbox\"}], \"scatterpolar\": [{\"marker\": {\"colorbar\": {\"outlinewidth\": 0, \"ticks\": \"\"}}, \"type\": \"scatterpolar\"}], \"scatterpolargl\": [{\"marker\": {\"colorbar\": {\"outlinewidth\": 0, \"ticks\": \"\"}}, \"type\": \"scatterpolargl\"}], \"scatterternary\": [{\"marker\": {\"colorbar\": {\"outlinewidth\": 0, \"ticks\": \"\"}}, \"type\": \"scatterternary\"}], \"surface\": [{\"colorbar\": {\"outlinewidth\": 0, \"ticks\": \"\"}, \"colorscale\": [[0.0, \"#0d0887\"], [0.1111111111111111, \"#46039f\"], [0.2222222222222222, \"#7201a8\"], [0.3333333333333333, \"#9c179e\"], [0.4444444444444444, \"#bd3786\"], [0.5555555555555556, \"#d8576b\"], [0.6666666666666666, \"#ed7953\"], [0.7777777777777778, \"#fb9f3a\"], [0.8888888888888888, \"#fdca26\"], [1.0, \"#f0f921\"]], \"type\": \"surface\"}], \"table\": [{\"cells\": {\"fill\": {\"color\": \"#EBF0F8\"}, \"line\": {\"color\": \"white\"}}, \"header\": {\"fill\": {\"color\": \"#C8D4E3\"}, \"line\": {\"color\": \"white\"}}, \"type\": \"table\"}]}, \"layout\": {\"annotationdefaults\": {\"arrowcolor\": \"#2a3f5f\", \"arrowhead\": 0, \"arrowwidth\": 1}, \"autotypenumbers\": \"strict\", \"coloraxis\": {\"colorbar\": {\"outlinewidth\": 0, \"ticks\": \"\"}}, \"colorscale\": {\"diverging\": [[0, \"#8e0152\"], [0.1, \"#c51b7d\"], [0.2, \"#de77ae\"], [0.3, \"#f1b6da\"], [0.4, \"#fde0ef\"], [0.5, \"#f7f7f7\"], [0.6, \"#e6f5d0\"], [0.7, \"#b8e186\"], [0.8, \"#7fbc41\"], [0.9, \"#4d9221\"], [1, \"#276419\"]], \"sequential\": [[0.0, \"#0d0887\"], [0.1111111111111111, \"#46039f\"], [0.2222222222222222, \"#7201a8\"], [0.3333333333333333, \"#9c179e\"], [0.4444444444444444, \"#bd3786\"], [0.5555555555555556, \"#d8576b\"], [0.6666666666666666, \"#ed7953\"], [0.7777777777777778, \"#fb9f3a\"], [0.8888888888888888, \"#fdca26\"], [1.0, \"#f0f921\"]], \"sequentialminus\": [[0.0, \"#0d0887\"], [0.1111111111111111, \"#46039f\"], [0.2222222222222222, \"#7201a8\"], [0.3333333333333333, \"#9c179e\"], [0.4444444444444444, \"#bd3786\"], [0.5555555555555556, \"#d8576b\"], [0.6666666666666666, \"#ed7953\"], [0.7777777777777778, \"#fb9f3a\"], [0.8888888888888888, \"#fdca26\"], [1.0, \"#f0f921\"]]}, \"colorway\": [\"#636efa\", \"#EF553B\", \"#00cc96\", \"#ab63fa\", \"#FFA15A\", \"#19d3f3\", \"#FF6692\", \"#B6E880\", \"#FF97FF\", \"#FECB52\"], \"font\": {\"color\": \"#2a3f5f\"}, \"geo\": {\"bgcolor\": \"white\", \"lakecolor\": \"white\", \"landcolor\": \"#E5ECF6\", \"showlakes\": true, \"showland\": true, \"subunitcolor\": \"white\"}, \"hoverlabel\": {\"align\": \"left\"}, \"hovermode\": \"closest\", \"mapbox\": {\"style\": \"light\"}, \"paper_bgcolor\": \"white\", \"plot_bgcolor\": \"#E5ECF6\", \"polar\": {\"angularaxis\": {\"gridcolor\": \"white\", \"linecolor\": \"white\", \"ticks\": \"\"}, \"bgcolor\": \"#E5ECF6\", \"radialaxis\": {\"gridcolor\": \"white\", \"linecolor\": \"white\", \"ticks\": \"\"}}, \"scene\": {\"xaxis\": {\"backgroundcolor\": \"#E5ECF6\", \"gridcolor\": \"white\", \"gridwidth\": 2, \"linecolor\": \"white\", \"showbackground\": true, \"ticks\": \"\", \"zerolinecolor\": \"white\"}, \"yaxis\": {\"backgroundcolor\": \"#E5ECF6\", \"gridcolor\": \"white\", \"gridwidth\": 2, \"linecolor\": \"white\", \"showbackground\": true, \"ticks\": \"\", \"zerolinecolor\": \"white\"}, \"zaxis\": {\"backgroundcolor\": \"#E5ECF6\", \"gridcolor\": \"white\", \"gridwidth\": 2, \"linecolor\": \"white\", \"showbackground\": true, \"ticks\": \"\", \"zerolinecolor\": \"white\"}}, \"shapedefaults\": {\"line\": {\"color\": \"#2a3f5f\"}}, \"ternary\": {\"aaxis\": {\"gridcolor\": \"white\", \"linecolor\": \"white\", \"ticks\": \"\"}, \"baxis\": {\"gridcolor\": \"white\", \"linecolor\": \"white\", \"ticks\": \"\"}, \"bgcolor\": \"#E5ECF6\", \"caxis\": {\"gridcolor\": \"white\", \"linecolor\": \"white\", \"ticks\": \"\"}}, \"title\": {\"x\": 0.05}, \"xaxis\": {\"automargin\": true, \"gridcolor\": \"white\", \"linecolor\": \"white\", \"ticks\": \"\", \"title\": {\"standoff\": 15}, \"zerolinecolor\": \"white\", \"zerolinewidth\": 2}, \"yaxis\": {\"automargin\": true, \"gridcolor\": \"white\", \"linecolor\": \"white\", \"ticks\": \"\", \"title\": {\"standoff\": 15}, \"zerolinecolor\": \"white\", \"zerolinewidth\": 2}}}, \"xaxis\": {\"anchor\": \"y\", \"domain\": [0.0, 1.0], \"title\": {\"text\": \"name\"}}, \"yaxis\": {\"anchor\": \"x\", \"domain\": [0.0, 1.0], \"title\": {\"text\": \"annual returns\"}}},                        {\"responsive\": true}                    ).then(function(){\n",
       "                            \n",
       "var gd = document.getElementById('0cd654b2-88b0-4872-b361-eecdef5050ea');\n",
       "var x = new MutationObserver(function (mutations, observer) {{\n",
       "        var display = window.getComputedStyle(gd).display;\n",
       "        if (!display || display === 'none') {{\n",
       "            console.log([gd, 'removed!']);\n",
       "            Plotly.purge(gd);\n",
       "            observer.disconnect();\n",
       "        }}\n",
       "}});\n",
       "\n",
       "// Listen for the removal of the full notebook cells\n",
       "var notebookContainer = gd.closest('#notebook-container');\n",
       "if (notebookContainer) {{\n",
       "    x.observe(notebookContainer, {childList: true});\n",
       "}}\n",
       "\n",
       "// Listen for the clearing of the current output cell\n",
       "var outputEl = gd.closest('.output');\n",
       "if (outputEl) {{\n",
       "    x.observe(outputEl, {childList: true});\n",
       "}}\n",
       "\n",
       "                        })                };                });            </script>        </div>"
      ]
     },
     "metadata": {},
     "output_type": "display_data"
    }
   ],
   "source": [
    "import plotly.express as px\n",
    "import matplotlib.pyplot as plt\n",
    "import plotly.graph_objects as go\n",
    "from plotly.subplots import make_subplots\n",
    "\n",
    "marker_signs = {'sector':'circle','stock':'x'}\n",
    "dashes={'sector':'dash','stock':'dashdot','PI running worst':'dot'}\n",
    "fig= px.scatter(statistics_dict,x=\"name\",y=\"annual returns\",color=\"method\",hover_data=[\"annual returns\"],)\\\n",
    "        .update_traces(mode='lines+markers')\n",
    "fig.show()"
   ]
  },
  {
   "cell_type": "code",
   "execution_count": 145,
   "id": "wooden-bulgarian",
   "metadata": {},
   "outputs": [
    {
     "data": {
      "application/vnd.plotly.v1+json": {
       "config": {
        "plotlyServerURL": "https://plot.ly"
       },
       "data": [
        {
         "marker": {
          "symbol": [
           "x",
           "x",
           "x",
           "x",
           "x",
           "x",
           "x",
           "x",
           "x",
           "x",
           "x",
           "x",
           "circle",
           "circle",
           "circle",
           "circle",
           "circle",
           "circle",
           "circle",
           "circle",
           "circle",
           "circle",
           "circle"
          ]
         },
         "mode": "lines+markers",
         "name": "baseline",
         "type": "scatter",
         "x": [
          "RF LR stock validation=1Y",
          "RF LR stock validation=6M",
          "RF TI stock validation=1Y",
          "RF TI stock validation=6M",
          "SVR LR stock validation=1Y",
          "SVR LR stock validation=6M",
          "SVR TI stock validation=1Y",
          "SVR TI stock validation=6M",
          "LGB LR stock validation=1Y",
          "LGB LR stock validation=6M",
          "LGB TI stock validation=1Y",
          "LGB TI stock validation=6M",
          "RF LR sector validation=1Y",
          "RF LR sector validation=6M",
          "RF TI sector validation=1Y",
          "RF TI sector validation=6M",
          "SVR LR sector validation=1Y",
          "SVR LR sector validation=6M",
          "SVR TI sector validation=1Y",
          "LGB LR sector validation=1Y",
          "LGB LR sector validation=6M",
          "LGB TI sector validation=1Y",
          "LGB TI sector validation=6M"
         ],
         "y": [
          0.15976975402116422,
          0.14147559815186184,
          0.011647087583327664,
          0.005918664619575242,
          0.1507259562687262,
          0.13268955964661622,
          0.025070407403429584,
          0.01592810687399715,
          0.06597493814922939,
          0.05684628154890192,
          0.06559703935408123,
          0.060277410679080656,
          0.041588270611064626,
          0.10231300891176254,
          0.0930696130056392,
          0.05293999066057786,
          0.0553267554958341,
          0.07466721467925641,
          -0.01789758934283847,
          0.07764134923771038,
          0.10406870149016068,
          0.038849077984156155,
          0.017930901421609136
         ]
        },
        {
         "marker": {
          "symbol": [
           "x",
           "x",
           "x",
           "x",
           "x",
           "x",
           "x",
           "x",
           "x",
           "x",
           "x",
           "x",
           "circle",
           "circle",
           "circle",
           "circle",
           "circle",
           "circle",
           "circle",
           "circle",
           "circle",
           "circle",
           "circle"
          ]
         },
         "mode": "lines+markers",
         "name": "best",
         "type": "scatter",
         "x": [
          "RF LR stock validation=1Y",
          "RF LR stock validation=6M",
          "RF TI stock validation=1Y",
          "RF TI stock validation=6M",
          "SVR LR stock validation=1Y",
          "SVR LR stock validation=6M",
          "SVR TI stock validation=1Y",
          "SVR TI stock validation=6M",
          "LGB LR stock validation=1Y",
          "LGB LR stock validation=6M",
          "LGB TI stock validation=1Y",
          "LGB TI stock validation=6M",
          "RF LR sector validation=1Y",
          "RF LR sector validation=6M",
          "RF TI sector validation=1Y",
          "RF TI sector validation=6M",
          "SVR LR sector validation=1Y",
          "SVR LR sector validation=6M",
          "SVR TI sector validation=1Y",
          "LGB LR sector validation=1Y",
          "LGB LR sector validation=6M",
          "LGB TI sector validation=1Y",
          "LGB TI sector validation=6M"
         ],
         "y": [
          0.13644962712738273,
          0.1231855343170789,
          -0.0355200299664169,
          0.06392723431163105,
          0.17175730254505117,
          0.13084537129277773,
          -0.0035092968813085212,
          0.01015577781231869,
          0.05819919273085139,
          0.04678218603296669,
          0.08290334370958541,
          0.08328979939988357,
          0.05328207597049861,
          0.11736899795293265,
          0.06160976071725832,
          0.030138931475676367,
          0.035319356764168974,
          0.0036998748825003425,
          0.006763090155086138,
          0.01711098834535907,
          0.055899230106690734,
          0.051133624998562555,
          0.05478896968126579
         ]
        },
        {
         "marker": {
          "symbol": [
           "x",
           "x",
           "x",
           "x",
           "x",
           "x",
           "x",
           "x",
           "x",
           "x",
           "x",
           "x",
           "circle",
           "circle",
           "circle",
           "circle",
           "circle",
           "circle",
           "circle",
           "circle",
           "circle",
           "circle",
           "circle"
          ]
         },
         "mode": "lines+markers",
         "name": "worst",
         "type": "scatter",
         "x": [
          "RF LR stock validation=1Y",
          "RF LR stock validation=6M",
          "RF TI stock validation=1Y",
          "RF TI stock validation=6M",
          "SVR LR stock validation=1Y",
          "SVR LR stock validation=6M",
          "SVR TI stock validation=1Y",
          "SVR TI stock validation=6M",
          "LGB LR stock validation=1Y",
          "LGB LR stock validation=6M",
          "LGB TI stock validation=1Y",
          "LGB TI stock validation=6M",
          "RF LR sector validation=1Y",
          "RF LR sector validation=6M",
          "RF TI sector validation=1Y",
          "RF TI sector validation=6M",
          "SVR LR sector validation=1Y",
          "SVR LR sector validation=6M",
          "SVR TI sector validation=1Y",
          "LGB LR sector validation=1Y",
          "LGB LR sector validation=6M",
          "LGB TI sector validation=1Y",
          "LGB TI sector validation=6M"
         ],
         "y": [
          0.13582257863884384,
          0.14075273860835735,
          -0.009495606842954252,
          0.04425812624619119,
          0.15473020213220812,
          0.13268955964661622,
          0.023524467039225616,
          0.03632720476438256,
          0.06537936823558099,
          0.05387925272929239,
          0.06958021276114956,
          0.08448931130604653,
          0.09917983317149037,
          0.1368898334822921,
          0.054849348090055816,
          0.08224514730120935,
          0.042955708258246794,
          0.08242026629455412,
          -0.010035475545175365,
          0.04634506653765924,
          0.09720900387086773,
          0.11716161175354567,
          0.0763567956422937
         ]
        },
        {
         "marker": {
          "symbol": [
           "x",
           "x",
           "x",
           "x",
           "x",
           "x",
           "x",
           "x",
           "x",
           "x",
           "x",
           "x",
           "circle",
           "circle",
           "circle",
           "circle",
           "circle",
           "circle",
           "circle",
           "circle",
           "circle",
           "circle",
           "circle"
          ]
         },
         "mode": "lines+markers",
         "name": "running",
         "type": "scatter",
         "x": [
          "RF LR stock validation=1Y",
          "RF LR stock validation=6M",
          "RF TI stock validation=1Y",
          "RF TI stock validation=6M",
          "SVR LR stock validation=1Y",
          "SVR LR stock validation=6M",
          "SVR TI stock validation=1Y",
          "SVR TI stock validation=6M",
          "LGB LR stock validation=1Y",
          "LGB LR stock validation=6M",
          "LGB TI stock validation=1Y",
          "LGB TI stock validation=6M",
          "RF LR sector validation=1Y",
          "RF LR sector validation=6M",
          "RF TI sector validation=1Y",
          "RF TI sector validation=6M",
          "SVR LR sector validation=1Y",
          "SVR LR sector validation=6M",
          "SVR TI sector validation=1Y",
          "LGB LR sector validation=1Y",
          "LGB LR sector validation=6M",
          "LGB TI sector validation=1Y",
          "LGB TI sector validation=6M"
         ],
         "y": [
          0.12630737746806298,
          0.14887128773046454,
          -0.04372909456923135,
          0.048973478785051094,
          0.15736893895858728,
          0.12352065719805805,
          -0.022783419400233318,
          -0.002935898155754346,
          0.06773283498037275,
          0.04430050526826612,
          0.06351945494777267,
          0.054831921088408286,
          0.10936565510309793,
          0.1243056481158813,
          0.05251866602972277,
          0.08316227924071184,
          0.054988513998520894,
          0.060708531659630305,
          -0.010815904956826494,
          0.05653862489118944,
          0.08365946205287367,
          0.08436076824292771,
          0.06277100831580595
         ]
        }
       ],
       "layout": {
        "template": {
         "data": {
          "bar": [
           {
            "error_x": {
             "color": "#2a3f5f"
            },
            "error_y": {
             "color": "#2a3f5f"
            },
            "marker": {
             "line": {
              "color": "#E5ECF6",
              "width": 0.5
             }
            },
            "type": "bar"
           }
          ],
          "barpolar": [
           {
            "marker": {
             "line": {
              "color": "#E5ECF6",
              "width": 0.5
             }
            },
            "type": "barpolar"
           }
          ],
          "carpet": [
           {
            "aaxis": {
             "endlinecolor": "#2a3f5f",
             "gridcolor": "white",
             "linecolor": "white",
             "minorgridcolor": "white",
             "startlinecolor": "#2a3f5f"
            },
            "baxis": {
             "endlinecolor": "#2a3f5f",
             "gridcolor": "white",
             "linecolor": "white",
             "minorgridcolor": "white",
             "startlinecolor": "#2a3f5f"
            },
            "type": "carpet"
           }
          ],
          "choropleth": [
           {
            "colorbar": {
             "outlinewidth": 0,
             "ticks": ""
            },
            "type": "choropleth"
           }
          ],
          "contour": [
           {
            "colorbar": {
             "outlinewidth": 0,
             "ticks": ""
            },
            "colorscale": [
             [
              0,
              "#0d0887"
             ],
             [
              0.1111111111111111,
              "#46039f"
             ],
             [
              0.2222222222222222,
              "#7201a8"
             ],
             [
              0.3333333333333333,
              "#9c179e"
             ],
             [
              0.4444444444444444,
              "#bd3786"
             ],
             [
              0.5555555555555556,
              "#d8576b"
             ],
             [
              0.6666666666666666,
              "#ed7953"
             ],
             [
              0.7777777777777778,
              "#fb9f3a"
             ],
             [
              0.8888888888888888,
              "#fdca26"
             ],
             [
              1,
              "#f0f921"
             ]
            ],
            "type": "contour"
           }
          ],
          "contourcarpet": [
           {
            "colorbar": {
             "outlinewidth": 0,
             "ticks": ""
            },
            "type": "contourcarpet"
           }
          ],
          "heatmap": [
           {
            "colorbar": {
             "outlinewidth": 0,
             "ticks": ""
            },
            "colorscale": [
             [
              0,
              "#0d0887"
             ],
             [
              0.1111111111111111,
              "#46039f"
             ],
             [
              0.2222222222222222,
              "#7201a8"
             ],
             [
              0.3333333333333333,
              "#9c179e"
             ],
             [
              0.4444444444444444,
              "#bd3786"
             ],
             [
              0.5555555555555556,
              "#d8576b"
             ],
             [
              0.6666666666666666,
              "#ed7953"
             ],
             [
              0.7777777777777778,
              "#fb9f3a"
             ],
             [
              0.8888888888888888,
              "#fdca26"
             ],
             [
              1,
              "#f0f921"
             ]
            ],
            "type": "heatmap"
           }
          ],
          "heatmapgl": [
           {
            "colorbar": {
             "outlinewidth": 0,
             "ticks": ""
            },
            "colorscale": [
             [
              0,
              "#0d0887"
             ],
             [
              0.1111111111111111,
              "#46039f"
             ],
             [
              0.2222222222222222,
              "#7201a8"
             ],
             [
              0.3333333333333333,
              "#9c179e"
             ],
             [
              0.4444444444444444,
              "#bd3786"
             ],
             [
              0.5555555555555556,
              "#d8576b"
             ],
             [
              0.6666666666666666,
              "#ed7953"
             ],
             [
              0.7777777777777778,
              "#fb9f3a"
             ],
             [
              0.8888888888888888,
              "#fdca26"
             ],
             [
              1,
              "#f0f921"
             ]
            ],
            "type": "heatmapgl"
           }
          ],
          "histogram": [
           {
            "marker": {
             "colorbar": {
              "outlinewidth": 0,
              "ticks": ""
             }
            },
            "type": "histogram"
           }
          ],
          "histogram2d": [
           {
            "colorbar": {
             "outlinewidth": 0,
             "ticks": ""
            },
            "colorscale": [
             [
              0,
              "#0d0887"
             ],
             [
              0.1111111111111111,
              "#46039f"
             ],
             [
              0.2222222222222222,
              "#7201a8"
             ],
             [
              0.3333333333333333,
              "#9c179e"
             ],
             [
              0.4444444444444444,
              "#bd3786"
             ],
             [
              0.5555555555555556,
              "#d8576b"
             ],
             [
              0.6666666666666666,
              "#ed7953"
             ],
             [
              0.7777777777777778,
              "#fb9f3a"
             ],
             [
              0.8888888888888888,
              "#fdca26"
             ],
             [
              1,
              "#f0f921"
             ]
            ],
            "type": "histogram2d"
           }
          ],
          "histogram2dcontour": [
           {
            "colorbar": {
             "outlinewidth": 0,
             "ticks": ""
            },
            "colorscale": [
             [
              0,
              "#0d0887"
             ],
             [
              0.1111111111111111,
              "#46039f"
             ],
             [
              0.2222222222222222,
              "#7201a8"
             ],
             [
              0.3333333333333333,
              "#9c179e"
             ],
             [
              0.4444444444444444,
              "#bd3786"
             ],
             [
              0.5555555555555556,
              "#d8576b"
             ],
             [
              0.6666666666666666,
              "#ed7953"
             ],
             [
              0.7777777777777778,
              "#fb9f3a"
             ],
             [
              0.8888888888888888,
              "#fdca26"
             ],
             [
              1,
              "#f0f921"
             ]
            ],
            "type": "histogram2dcontour"
           }
          ],
          "mesh3d": [
           {
            "colorbar": {
             "outlinewidth": 0,
             "ticks": ""
            },
            "type": "mesh3d"
           }
          ],
          "parcoords": [
           {
            "line": {
             "colorbar": {
              "outlinewidth": 0,
              "ticks": ""
             }
            },
            "type": "parcoords"
           }
          ],
          "pie": [
           {
            "automargin": true,
            "type": "pie"
           }
          ],
          "scatter": [
           {
            "marker": {
             "colorbar": {
              "outlinewidth": 0,
              "ticks": ""
             }
            },
            "type": "scatter"
           }
          ],
          "scatter3d": [
           {
            "line": {
             "colorbar": {
              "outlinewidth": 0,
              "ticks": ""
             }
            },
            "marker": {
             "colorbar": {
              "outlinewidth": 0,
              "ticks": ""
             }
            },
            "type": "scatter3d"
           }
          ],
          "scattercarpet": [
           {
            "marker": {
             "colorbar": {
              "outlinewidth": 0,
              "ticks": ""
             }
            },
            "type": "scattercarpet"
           }
          ],
          "scattergeo": [
           {
            "marker": {
             "colorbar": {
              "outlinewidth": 0,
              "ticks": ""
             }
            },
            "type": "scattergeo"
           }
          ],
          "scattergl": [
           {
            "marker": {
             "colorbar": {
              "outlinewidth": 0,
              "ticks": ""
             }
            },
            "type": "scattergl"
           }
          ],
          "scattermapbox": [
           {
            "marker": {
             "colorbar": {
              "outlinewidth": 0,
              "ticks": ""
             }
            },
            "type": "scattermapbox"
           }
          ],
          "scatterpolar": [
           {
            "marker": {
             "colorbar": {
              "outlinewidth": 0,
              "ticks": ""
             }
            },
            "type": "scatterpolar"
           }
          ],
          "scatterpolargl": [
           {
            "marker": {
             "colorbar": {
              "outlinewidth": 0,
              "ticks": ""
             }
            },
            "type": "scatterpolargl"
           }
          ],
          "scatterternary": [
           {
            "marker": {
             "colorbar": {
              "outlinewidth": 0,
              "ticks": ""
             }
            },
            "type": "scatterternary"
           }
          ],
          "surface": [
           {
            "colorbar": {
             "outlinewidth": 0,
             "ticks": ""
            },
            "colorscale": [
             [
              0,
              "#0d0887"
             ],
             [
              0.1111111111111111,
              "#46039f"
             ],
             [
              0.2222222222222222,
              "#7201a8"
             ],
             [
              0.3333333333333333,
              "#9c179e"
             ],
             [
              0.4444444444444444,
              "#bd3786"
             ],
             [
              0.5555555555555556,
              "#d8576b"
             ],
             [
              0.6666666666666666,
              "#ed7953"
             ],
             [
              0.7777777777777778,
              "#fb9f3a"
             ],
             [
              0.8888888888888888,
              "#fdca26"
             ],
             [
              1,
              "#f0f921"
             ]
            ],
            "type": "surface"
           }
          ],
          "table": [
           {
            "cells": {
             "fill": {
              "color": "#EBF0F8"
             },
             "line": {
              "color": "white"
             }
            },
            "header": {
             "fill": {
              "color": "#C8D4E3"
             },
             "line": {
              "color": "white"
             }
            },
            "type": "table"
           }
          ]
         },
         "layout": {
          "annotationdefaults": {
           "arrowcolor": "#2a3f5f",
           "arrowhead": 0,
           "arrowwidth": 1
          },
          "autotypenumbers": "strict",
          "coloraxis": {
           "colorbar": {
            "outlinewidth": 0,
            "ticks": ""
           }
          },
          "colorscale": {
           "diverging": [
            [
             0,
             "#8e0152"
            ],
            [
             0.1,
             "#c51b7d"
            ],
            [
             0.2,
             "#de77ae"
            ],
            [
             0.3,
             "#f1b6da"
            ],
            [
             0.4,
             "#fde0ef"
            ],
            [
             0.5,
             "#f7f7f7"
            ],
            [
             0.6,
             "#e6f5d0"
            ],
            [
             0.7,
             "#b8e186"
            ],
            [
             0.8,
             "#7fbc41"
            ],
            [
             0.9,
             "#4d9221"
            ],
            [
             1,
             "#276419"
            ]
           ],
           "sequential": [
            [
             0,
             "#0d0887"
            ],
            [
             0.1111111111111111,
             "#46039f"
            ],
            [
             0.2222222222222222,
             "#7201a8"
            ],
            [
             0.3333333333333333,
             "#9c179e"
            ],
            [
             0.4444444444444444,
             "#bd3786"
            ],
            [
             0.5555555555555556,
             "#d8576b"
            ],
            [
             0.6666666666666666,
             "#ed7953"
            ],
            [
             0.7777777777777778,
             "#fb9f3a"
            ],
            [
             0.8888888888888888,
             "#fdca26"
            ],
            [
             1,
             "#f0f921"
            ]
           ],
           "sequentialminus": [
            [
             0,
             "#0d0887"
            ],
            [
             0.1111111111111111,
             "#46039f"
            ],
            [
             0.2222222222222222,
             "#7201a8"
            ],
            [
             0.3333333333333333,
             "#9c179e"
            ],
            [
             0.4444444444444444,
             "#bd3786"
            ],
            [
             0.5555555555555556,
             "#d8576b"
            ],
            [
             0.6666666666666666,
             "#ed7953"
            ],
            [
             0.7777777777777778,
             "#fb9f3a"
            ],
            [
             0.8888888888888888,
             "#fdca26"
            ],
            [
             1,
             "#f0f921"
            ]
           ]
          },
          "colorway": [
           "#636efa",
           "#EF553B",
           "#00cc96",
           "#ab63fa",
           "#FFA15A",
           "#19d3f3",
           "#FF6692",
           "#B6E880",
           "#FF97FF",
           "#FECB52"
          ],
          "font": {
           "color": "#2a3f5f"
          },
          "geo": {
           "bgcolor": "white",
           "lakecolor": "white",
           "landcolor": "#E5ECF6",
           "showlakes": true,
           "showland": true,
           "subunitcolor": "white"
          },
          "hoverlabel": {
           "align": "left"
          },
          "hovermode": "closest",
          "mapbox": {
           "style": "light"
          },
          "paper_bgcolor": "white",
          "plot_bgcolor": "#E5ECF6",
          "polar": {
           "angularaxis": {
            "gridcolor": "white",
            "linecolor": "white",
            "ticks": ""
           },
           "bgcolor": "#E5ECF6",
           "radialaxis": {
            "gridcolor": "white",
            "linecolor": "white",
            "ticks": ""
           }
          },
          "scene": {
           "xaxis": {
            "backgroundcolor": "#E5ECF6",
            "gridcolor": "white",
            "gridwidth": 2,
            "linecolor": "white",
            "showbackground": true,
            "ticks": "",
            "zerolinecolor": "white"
           },
           "yaxis": {
            "backgroundcolor": "#E5ECF6",
            "gridcolor": "white",
            "gridwidth": 2,
            "linecolor": "white",
            "showbackground": true,
            "ticks": "",
            "zerolinecolor": "white"
           },
           "zaxis": {
            "backgroundcolor": "#E5ECF6",
            "gridcolor": "white",
            "gridwidth": 2,
            "linecolor": "white",
            "showbackground": true,
            "ticks": "",
            "zerolinecolor": "white"
           }
          },
          "shapedefaults": {
           "line": {
            "color": "#2a3f5f"
           }
          },
          "ternary": {
           "aaxis": {
            "gridcolor": "white",
            "linecolor": "white",
            "ticks": ""
           },
           "baxis": {
            "gridcolor": "white",
            "linecolor": "white",
            "ticks": ""
           },
           "bgcolor": "#E5ECF6",
           "caxis": {
            "gridcolor": "white",
            "linecolor": "white",
            "ticks": ""
           }
          },
          "title": {
           "x": 0.05
          },
          "xaxis": {
           "automargin": true,
           "gridcolor": "white",
           "linecolor": "white",
           "ticks": "",
           "title": {
            "standoff": 15
           },
           "zerolinecolor": "white",
           "zerolinewidth": 2
          },
          "yaxis": {
           "automargin": true,
           "gridcolor": "white",
           "linecolor": "white",
           "ticks": "",
           "title": {
            "standoff": 15
           },
           "zerolinecolor": "white",
           "zerolinewidth": 2
          }
         }
        }
       }
      },
      "text/html": [
       "<div>                            <div id=\"a52eb5b5-94d8-431d-ac88-622ff3f99ed7\" class=\"plotly-graph-div\" style=\"height:525px; width:100%;\"></div>            <script type=\"text/javascript\">                require([\"plotly\"], function(Plotly) {                    window.PLOTLYENV=window.PLOTLYENV || {};                                    if (document.getElementById(\"a52eb5b5-94d8-431d-ac88-622ff3f99ed7\")) {                    Plotly.newPlot(                        \"a52eb5b5-94d8-431d-ac88-622ff3f99ed7\",                        [{\"marker\": {\"symbol\": [\"x\", \"x\", \"x\", \"x\", \"x\", \"x\", \"x\", \"x\", \"x\", \"x\", \"x\", \"x\", \"circle\", \"circle\", \"circle\", \"circle\", \"circle\", \"circle\", \"circle\", \"circle\", \"circle\", \"circle\", \"circle\"]}, \"mode\": \"lines+markers\", \"name\": \"baseline\", \"type\": \"scatter\", \"x\": [\"RF LR stock validation=1Y\", \"RF LR stock validation=6M\", \"RF TI stock validation=1Y\", \"RF TI stock validation=6M\", \"SVR LR stock validation=1Y\", \"SVR LR stock validation=6M\", \"SVR TI stock validation=1Y\", \"SVR TI stock validation=6M\", \"LGB LR stock validation=1Y\", \"LGB LR stock validation=6M\", \"LGB TI stock validation=1Y\", \"LGB TI stock validation=6M\", \"RF LR sector validation=1Y\", \"RF LR sector validation=6M\", \"RF TI sector validation=1Y\", \"RF TI sector validation=6M\", \"SVR LR sector validation=1Y\", \"SVR LR sector validation=6M\", \"SVR TI sector validation=1Y\", \"LGB LR sector validation=1Y\", \"LGB LR sector validation=6M\", \"LGB TI sector validation=1Y\", \"LGB TI sector validation=6M\"], \"y\": [0.15976975402116422, 0.14147559815186184, 0.011647087583327664, 0.005918664619575242, 0.1507259562687262, 0.13268955964661622, 0.025070407403429584, 0.01592810687399715, 0.06597493814922939, 0.05684628154890192, 0.06559703935408123, 0.060277410679080656, 0.041588270611064626, 0.10231300891176254, 0.0930696130056392, 0.05293999066057786, 0.0553267554958341, 0.07466721467925641, -0.01789758934283847, 0.07764134923771038, 0.10406870149016068, 0.038849077984156155, 0.017930901421609136]}, {\"marker\": {\"symbol\": [\"x\", \"x\", \"x\", \"x\", \"x\", \"x\", \"x\", \"x\", \"x\", \"x\", \"x\", \"x\", \"circle\", \"circle\", \"circle\", \"circle\", \"circle\", \"circle\", \"circle\", \"circle\", \"circle\", \"circle\", \"circle\"]}, \"mode\": \"lines+markers\", \"name\": \"best\", \"type\": \"scatter\", \"x\": [\"RF LR stock validation=1Y\", \"RF LR stock validation=6M\", \"RF TI stock validation=1Y\", \"RF TI stock validation=6M\", \"SVR LR stock validation=1Y\", \"SVR LR stock validation=6M\", \"SVR TI stock validation=1Y\", \"SVR TI stock validation=6M\", \"LGB LR stock validation=1Y\", \"LGB LR stock validation=6M\", \"LGB TI stock validation=1Y\", \"LGB TI stock validation=6M\", \"RF LR sector validation=1Y\", \"RF LR sector validation=6M\", \"RF TI sector validation=1Y\", \"RF TI sector validation=6M\", \"SVR LR sector validation=1Y\", \"SVR LR sector validation=6M\", \"SVR TI sector validation=1Y\", \"LGB LR sector validation=1Y\", \"LGB LR sector validation=6M\", \"LGB TI sector validation=1Y\", \"LGB TI sector validation=6M\"], \"y\": [0.13644962712738273, 0.1231855343170789, -0.0355200299664169, 0.06392723431163105, 0.17175730254505117, 0.13084537129277773, -0.0035092968813085212, 0.01015577781231869, 0.05819919273085139, 0.04678218603296669, 0.08290334370958541, 0.08328979939988357, 0.05328207597049861, 0.11736899795293265, 0.06160976071725832, 0.030138931475676367, 0.035319356764168974, 0.0036998748825003425, 0.006763090155086138, 0.01711098834535907, 0.055899230106690734, 0.051133624998562555, 0.05478896968126579]}, {\"marker\": {\"symbol\": [\"x\", \"x\", \"x\", \"x\", \"x\", \"x\", \"x\", \"x\", \"x\", \"x\", \"x\", \"x\", \"circle\", \"circle\", \"circle\", \"circle\", \"circle\", \"circle\", \"circle\", \"circle\", \"circle\", \"circle\", \"circle\"]}, \"mode\": \"lines+markers\", \"name\": \"worst\", \"type\": \"scatter\", \"x\": [\"RF LR stock validation=1Y\", \"RF LR stock validation=6M\", \"RF TI stock validation=1Y\", \"RF TI stock validation=6M\", \"SVR LR stock validation=1Y\", \"SVR LR stock validation=6M\", \"SVR TI stock validation=1Y\", \"SVR TI stock validation=6M\", \"LGB LR stock validation=1Y\", \"LGB LR stock validation=6M\", \"LGB TI stock validation=1Y\", \"LGB TI stock validation=6M\", \"RF LR sector validation=1Y\", \"RF LR sector validation=6M\", \"RF TI sector validation=1Y\", \"RF TI sector validation=6M\", \"SVR LR sector validation=1Y\", \"SVR LR sector validation=6M\", \"SVR TI sector validation=1Y\", \"LGB LR sector validation=1Y\", \"LGB LR sector validation=6M\", \"LGB TI sector validation=1Y\", \"LGB TI sector validation=6M\"], \"y\": [0.13582257863884384, 0.14075273860835735, -0.009495606842954252, 0.04425812624619119, 0.15473020213220812, 0.13268955964661622, 0.023524467039225616, 0.03632720476438256, 0.06537936823558099, 0.05387925272929239, 0.06958021276114956, 0.08448931130604653, 0.09917983317149037, 0.1368898334822921, 0.054849348090055816, 0.08224514730120935, 0.042955708258246794, 0.08242026629455412, -0.010035475545175365, 0.04634506653765924, 0.09720900387086773, 0.11716161175354567, 0.0763567956422937]}, {\"marker\": {\"symbol\": [\"x\", \"x\", \"x\", \"x\", \"x\", \"x\", \"x\", \"x\", \"x\", \"x\", \"x\", \"x\", \"circle\", \"circle\", \"circle\", \"circle\", \"circle\", \"circle\", \"circle\", \"circle\", \"circle\", \"circle\", \"circle\"]}, \"mode\": \"lines+markers\", \"name\": \"running\", \"type\": \"scatter\", \"x\": [\"RF LR stock validation=1Y\", \"RF LR stock validation=6M\", \"RF TI stock validation=1Y\", \"RF TI stock validation=6M\", \"SVR LR stock validation=1Y\", \"SVR LR stock validation=6M\", \"SVR TI stock validation=1Y\", \"SVR TI stock validation=6M\", \"LGB LR stock validation=1Y\", \"LGB LR stock validation=6M\", \"LGB TI stock validation=1Y\", \"LGB TI stock validation=6M\", \"RF LR sector validation=1Y\", \"RF LR sector validation=6M\", \"RF TI sector validation=1Y\", \"RF TI sector validation=6M\", \"SVR LR sector validation=1Y\", \"SVR LR sector validation=6M\", \"SVR TI sector validation=1Y\", \"LGB LR sector validation=1Y\", \"LGB LR sector validation=6M\", \"LGB TI sector validation=1Y\", \"LGB TI sector validation=6M\"], \"y\": [0.12630737746806298, 0.14887128773046454, -0.04372909456923135, 0.048973478785051094, 0.15736893895858728, 0.12352065719805805, -0.022783419400233318, -0.002935898155754346, 0.06773283498037275, 0.04430050526826612, 0.06351945494777267, 0.054831921088408286, 0.10936565510309793, 0.1243056481158813, 0.05251866602972277, 0.08316227924071184, 0.054988513998520894, 0.060708531659630305, -0.010815904956826494, 0.05653862489118944, 0.08365946205287367, 0.08436076824292771, 0.06277100831580595]}],                        {\"template\": {\"data\": {\"bar\": [{\"error_x\": {\"color\": \"#2a3f5f\"}, \"error_y\": {\"color\": \"#2a3f5f\"}, \"marker\": {\"line\": {\"color\": \"#E5ECF6\", \"width\": 0.5}}, \"type\": \"bar\"}], \"barpolar\": [{\"marker\": {\"line\": {\"color\": \"#E5ECF6\", \"width\": 0.5}}, \"type\": \"barpolar\"}], \"carpet\": [{\"aaxis\": {\"endlinecolor\": \"#2a3f5f\", \"gridcolor\": \"white\", \"linecolor\": \"white\", \"minorgridcolor\": \"white\", \"startlinecolor\": \"#2a3f5f\"}, \"baxis\": {\"endlinecolor\": \"#2a3f5f\", \"gridcolor\": \"white\", \"linecolor\": \"white\", \"minorgridcolor\": \"white\", \"startlinecolor\": \"#2a3f5f\"}, \"type\": \"carpet\"}], \"choropleth\": [{\"colorbar\": {\"outlinewidth\": 0, \"ticks\": \"\"}, \"type\": \"choropleth\"}], \"contour\": [{\"colorbar\": {\"outlinewidth\": 0, \"ticks\": \"\"}, \"colorscale\": [[0.0, \"#0d0887\"], [0.1111111111111111, \"#46039f\"], [0.2222222222222222, \"#7201a8\"], [0.3333333333333333, \"#9c179e\"], [0.4444444444444444, \"#bd3786\"], [0.5555555555555556, \"#d8576b\"], [0.6666666666666666, \"#ed7953\"], [0.7777777777777778, \"#fb9f3a\"], [0.8888888888888888, \"#fdca26\"], [1.0, \"#f0f921\"]], \"type\": \"contour\"}], \"contourcarpet\": [{\"colorbar\": {\"outlinewidth\": 0, \"ticks\": \"\"}, \"type\": \"contourcarpet\"}], \"heatmap\": [{\"colorbar\": {\"outlinewidth\": 0, \"ticks\": \"\"}, \"colorscale\": [[0.0, \"#0d0887\"], [0.1111111111111111, \"#46039f\"], [0.2222222222222222, \"#7201a8\"], [0.3333333333333333, \"#9c179e\"], [0.4444444444444444, \"#bd3786\"], [0.5555555555555556, \"#d8576b\"], [0.6666666666666666, \"#ed7953\"], [0.7777777777777778, \"#fb9f3a\"], [0.8888888888888888, \"#fdca26\"], [1.0, \"#f0f921\"]], \"type\": \"heatmap\"}], \"heatmapgl\": [{\"colorbar\": {\"outlinewidth\": 0, \"ticks\": \"\"}, \"colorscale\": [[0.0, \"#0d0887\"], [0.1111111111111111, \"#46039f\"], [0.2222222222222222, \"#7201a8\"], [0.3333333333333333, \"#9c179e\"], [0.4444444444444444, \"#bd3786\"], [0.5555555555555556, \"#d8576b\"], [0.6666666666666666, \"#ed7953\"], [0.7777777777777778, \"#fb9f3a\"], [0.8888888888888888, \"#fdca26\"], [1.0, \"#f0f921\"]], \"type\": \"heatmapgl\"}], \"histogram\": [{\"marker\": {\"colorbar\": {\"outlinewidth\": 0, \"ticks\": \"\"}}, \"type\": \"histogram\"}], \"histogram2d\": [{\"colorbar\": {\"outlinewidth\": 0, \"ticks\": \"\"}, \"colorscale\": [[0.0, \"#0d0887\"], [0.1111111111111111, \"#46039f\"], [0.2222222222222222, \"#7201a8\"], [0.3333333333333333, \"#9c179e\"], [0.4444444444444444, \"#bd3786\"], [0.5555555555555556, \"#d8576b\"], [0.6666666666666666, \"#ed7953\"], [0.7777777777777778, \"#fb9f3a\"], [0.8888888888888888, \"#fdca26\"], [1.0, \"#f0f921\"]], \"type\": \"histogram2d\"}], \"histogram2dcontour\": [{\"colorbar\": {\"outlinewidth\": 0, \"ticks\": \"\"}, \"colorscale\": [[0.0, \"#0d0887\"], [0.1111111111111111, \"#46039f\"], [0.2222222222222222, \"#7201a8\"], [0.3333333333333333, \"#9c179e\"], [0.4444444444444444, \"#bd3786\"], [0.5555555555555556, \"#d8576b\"], [0.6666666666666666, \"#ed7953\"], [0.7777777777777778, \"#fb9f3a\"], [0.8888888888888888, \"#fdca26\"], [1.0, \"#f0f921\"]], \"type\": \"histogram2dcontour\"}], \"mesh3d\": [{\"colorbar\": {\"outlinewidth\": 0, \"ticks\": \"\"}, \"type\": \"mesh3d\"}], \"parcoords\": [{\"line\": {\"colorbar\": {\"outlinewidth\": 0, \"ticks\": \"\"}}, \"type\": \"parcoords\"}], \"pie\": [{\"automargin\": true, \"type\": \"pie\"}], \"scatter\": [{\"marker\": {\"colorbar\": {\"outlinewidth\": 0, \"ticks\": \"\"}}, \"type\": \"scatter\"}], \"scatter3d\": [{\"line\": {\"colorbar\": {\"outlinewidth\": 0, \"ticks\": \"\"}}, \"marker\": {\"colorbar\": {\"outlinewidth\": 0, \"ticks\": \"\"}}, \"type\": \"scatter3d\"}], \"scattercarpet\": [{\"marker\": {\"colorbar\": {\"outlinewidth\": 0, \"ticks\": \"\"}}, \"type\": \"scattercarpet\"}], \"scattergeo\": [{\"marker\": {\"colorbar\": {\"outlinewidth\": 0, \"ticks\": \"\"}}, \"type\": \"scattergeo\"}], \"scattergl\": [{\"marker\": {\"colorbar\": {\"outlinewidth\": 0, \"ticks\": \"\"}}, \"type\": \"scattergl\"}], \"scattermapbox\": [{\"marker\": {\"colorbar\": {\"outlinewidth\": 0, \"ticks\": \"\"}}, \"type\": \"scattermapbox\"}], \"scatterpolar\": [{\"marker\": {\"colorbar\": {\"outlinewidth\": 0, \"ticks\": \"\"}}, \"type\": \"scatterpolar\"}], \"scatterpolargl\": [{\"marker\": {\"colorbar\": {\"outlinewidth\": 0, \"ticks\": \"\"}}, \"type\": \"scatterpolargl\"}], \"scatterternary\": [{\"marker\": {\"colorbar\": {\"outlinewidth\": 0, \"ticks\": \"\"}}, \"type\": \"scatterternary\"}], \"surface\": [{\"colorbar\": {\"outlinewidth\": 0, \"ticks\": \"\"}, \"colorscale\": [[0.0, \"#0d0887\"], [0.1111111111111111, \"#46039f\"], [0.2222222222222222, \"#7201a8\"], [0.3333333333333333, \"#9c179e\"], [0.4444444444444444, \"#bd3786\"], [0.5555555555555556, \"#d8576b\"], [0.6666666666666666, \"#ed7953\"], [0.7777777777777778, \"#fb9f3a\"], [0.8888888888888888, \"#fdca26\"], [1.0, \"#f0f921\"]], \"type\": \"surface\"}], \"table\": [{\"cells\": {\"fill\": {\"color\": \"#EBF0F8\"}, \"line\": {\"color\": \"white\"}}, \"header\": {\"fill\": {\"color\": \"#C8D4E3\"}, \"line\": {\"color\": \"white\"}}, \"type\": \"table\"}]}, \"layout\": {\"annotationdefaults\": {\"arrowcolor\": \"#2a3f5f\", \"arrowhead\": 0, \"arrowwidth\": 1}, \"autotypenumbers\": \"strict\", \"coloraxis\": {\"colorbar\": {\"outlinewidth\": 0, \"ticks\": \"\"}}, \"colorscale\": {\"diverging\": [[0, \"#8e0152\"], [0.1, \"#c51b7d\"], [0.2, \"#de77ae\"], [0.3, \"#f1b6da\"], [0.4, \"#fde0ef\"], [0.5, \"#f7f7f7\"], [0.6, \"#e6f5d0\"], [0.7, \"#b8e186\"], [0.8, \"#7fbc41\"], [0.9, \"#4d9221\"], [1, \"#276419\"]], \"sequential\": [[0.0, \"#0d0887\"], [0.1111111111111111, \"#46039f\"], [0.2222222222222222, \"#7201a8\"], [0.3333333333333333, \"#9c179e\"], [0.4444444444444444, \"#bd3786\"], [0.5555555555555556, \"#d8576b\"], [0.6666666666666666, \"#ed7953\"], [0.7777777777777778, \"#fb9f3a\"], [0.8888888888888888, \"#fdca26\"], [1.0, \"#f0f921\"]], \"sequentialminus\": [[0.0, \"#0d0887\"], [0.1111111111111111, \"#46039f\"], [0.2222222222222222, \"#7201a8\"], [0.3333333333333333, \"#9c179e\"], [0.4444444444444444, \"#bd3786\"], [0.5555555555555556, \"#d8576b\"], [0.6666666666666666, \"#ed7953\"], [0.7777777777777778, \"#fb9f3a\"], [0.8888888888888888, \"#fdca26\"], [1.0, \"#f0f921\"]]}, \"colorway\": [\"#636efa\", \"#EF553B\", \"#00cc96\", \"#ab63fa\", \"#FFA15A\", \"#19d3f3\", \"#FF6692\", \"#B6E880\", \"#FF97FF\", \"#FECB52\"], \"font\": {\"color\": \"#2a3f5f\"}, \"geo\": {\"bgcolor\": \"white\", \"lakecolor\": \"white\", \"landcolor\": \"#E5ECF6\", \"showlakes\": true, \"showland\": true, \"subunitcolor\": \"white\"}, \"hoverlabel\": {\"align\": \"left\"}, \"hovermode\": \"closest\", \"mapbox\": {\"style\": \"light\"}, \"paper_bgcolor\": \"white\", \"plot_bgcolor\": \"#E5ECF6\", \"polar\": {\"angularaxis\": {\"gridcolor\": \"white\", \"linecolor\": \"white\", \"ticks\": \"\"}, \"bgcolor\": \"#E5ECF6\", \"radialaxis\": {\"gridcolor\": \"white\", \"linecolor\": \"white\", \"ticks\": \"\"}}, \"scene\": {\"xaxis\": {\"backgroundcolor\": \"#E5ECF6\", \"gridcolor\": \"white\", \"gridwidth\": 2, \"linecolor\": \"white\", \"showbackground\": true, \"ticks\": \"\", \"zerolinecolor\": \"white\"}, \"yaxis\": {\"backgroundcolor\": \"#E5ECF6\", \"gridcolor\": \"white\", \"gridwidth\": 2, \"linecolor\": \"white\", \"showbackground\": true, \"ticks\": \"\", \"zerolinecolor\": \"white\"}, \"zaxis\": {\"backgroundcolor\": \"#E5ECF6\", \"gridcolor\": \"white\", \"gridwidth\": 2, \"linecolor\": \"white\", \"showbackground\": true, \"ticks\": \"\", \"zerolinecolor\": \"white\"}}, \"shapedefaults\": {\"line\": {\"color\": \"#2a3f5f\"}}, \"ternary\": {\"aaxis\": {\"gridcolor\": \"white\", \"linecolor\": \"white\", \"ticks\": \"\"}, \"baxis\": {\"gridcolor\": \"white\", \"linecolor\": \"white\", \"ticks\": \"\"}, \"bgcolor\": \"#E5ECF6\", \"caxis\": {\"gridcolor\": \"white\", \"linecolor\": \"white\", \"ticks\": \"\"}}, \"title\": {\"x\": 0.05}, \"xaxis\": {\"automargin\": true, \"gridcolor\": \"white\", \"linecolor\": \"white\", \"ticks\": \"\", \"title\": {\"standoff\": 15}, \"zerolinecolor\": \"white\", \"zerolinewidth\": 2}, \"yaxis\": {\"automargin\": true, \"gridcolor\": \"white\", \"linecolor\": \"white\", \"ticks\": \"\", \"title\": {\"standoff\": 15}, \"zerolinecolor\": \"white\", \"zerolinewidth\": 2}}}},                        {\"responsive\": true}                    ).then(function(){\n",
       "                            \n",
       "var gd = document.getElementById('a52eb5b5-94d8-431d-ac88-622ff3f99ed7');\n",
       "var x = new MutationObserver(function (mutations, observer) {{\n",
       "        var display = window.getComputedStyle(gd).display;\n",
       "        if (!display || display === 'none') {{\n",
       "            console.log([gd, 'removed!']);\n",
       "            Plotly.purge(gd);\n",
       "            observer.disconnect();\n",
       "        }}\n",
       "}});\n",
       "\n",
       "// Listen for the removal of the full notebook cells\n",
       "var notebookContainer = gd.closest('#notebook-container');\n",
       "if (notebookContainer) {{\n",
       "    x.observe(notebookContainer, {childList: true});\n",
       "}}\n",
       "\n",
       "// Listen for the clearing of the current output cell\n",
       "var outputEl = gd.closest('.output');\n",
       "if (outputEl) {{\n",
       "    x.observe(outputEl, {childList: true});\n",
       "}}\n",
       "\n",
       "                        })                };                });            </script>        </div>"
      ]
     },
     "metadata": {},
     "output_type": "display_data"
    }
   ],
   "source": [
    "import plotly.express as px\n",
    "import matplotlib.pyplot as plt\n",
    "import plotly.graph_objects as go\n",
    "from plotly.subplots import make_subplots\n",
    "\n",
    "marker_signs = {'sector':'circle','stock':'x'}\n",
    "dashes={'sector':'dash','stock':'dashdot','PI running worst':'dot'}\n",
    "fig = go.Figure()\n",
    "for tr_name in ['baseline','best','worst','running']:\n",
    "    stats=statistics_dict[statistics_dict['method']==tr_name]\n",
    "    symbol = [marker_signs[i] for i in stats['level']]\n",
    "    line_symbol = [dashes[i] for i in stats['level']]\n",
    "    fig.add_trace(\n",
    "        go.Scatter(x=stats[\"name\"],y=stats[\"annual returns\"],name=stats['method'].values[0],\n",
    "                  marker_symbol=symbol))\\\n",
    "            .update_traces(mode='lines+markers')\n",
    "fig.show()\n"
   ]
  },
  {
   "cell_type": "code",
   "execution_count": 138,
   "id": "sudden-sheriff",
   "metadata": {},
   "outputs": [
    {
     "data": {
      "text/html": [
       "<div>\n",
       "<style scoped>\n",
       "    .dataframe tbody tr th:only-of-type {\n",
       "        vertical-align: middle;\n",
       "    }\n",
       "\n",
       "    .dataframe tbody tr th {\n",
       "        vertical-align: top;\n",
       "    }\n",
       "\n",
       "    .dataframe thead th {\n",
       "        text-align: right;\n",
       "    }\n",
       "</style>\n",
       "<table border=\"1\" class=\"dataframe\">\n",
       "  <thead>\n",
       "    <tr style=\"text-align: right;\">\n",
       "      <th></th>\n",
       "      <th>MDD</th>\n",
       "      <th>MSE</th>\n",
       "      <th>RMSE</th>\n",
       "      <th>Sharpe Ratio</th>\n",
       "      <th>annual returns</th>\n",
       "      <th>feature</th>\n",
       "      <th>label</th>\n",
       "      <th>level</th>\n",
       "      <th>method</th>\n",
       "      <th>model</th>\n",
       "      <th>name</th>\n",
       "      <th>validation length</th>\n",
       "    </tr>\n",
       "  </thead>\n",
       "  <tbody>\n",
       "    <tr>\n",
       "      <th>4</th>\n",
       "      <td>33.306810</td>\n",
       "      <td>43760.583244</td>\n",
       "      <td>0.018023</td>\n",
       "      <td>0.110114</td>\n",
       "      <td>0.005919</td>\n",
       "      <td>TI</td>\n",
       "      <td>C_RF_TI_6M</td>\n",
       "      <td>stock</td>\n",
       "      <td>baseline</td>\n",
       "      <td>RF</td>\n",
       "      <td>RF TI stock validation=6M</td>\n",
       "      <td>6M</td>\n",
       "    </tr>\n",
       "    <tr>\n",
       "      <th>12</th>\n",
       "      <td>26.275844</td>\n",
       "      <td>39622.649064</td>\n",
       "      <td>0.017024</td>\n",
       "      <td>1.082450</td>\n",
       "      <td>0.141476</td>\n",
       "      <td>LR</td>\n",
       "      <td>C_RF_LR_6M</td>\n",
       "      <td>stock</td>\n",
       "      <td>baseline</td>\n",
       "      <td>RF</td>\n",
       "      <td>RF LR stock validation=6M</td>\n",
       "      <td>6M</td>\n",
       "    </tr>\n",
       "    <tr>\n",
       "      <th>20</th>\n",
       "      <td>19.980148</td>\n",
       "      <td>39454.776359</td>\n",
       "      <td>0.017001</td>\n",
       "      <td>1.097744</td>\n",
       "      <td>0.132690</td>\n",
       "      <td>LR</td>\n",
       "      <td>C_SVR_LR_6M_2</td>\n",
       "      <td>stock</td>\n",
       "      <td>baseline</td>\n",
       "      <td>SVR</td>\n",
       "      <td>SVR LR stock validation=6M</td>\n",
       "      <td>6M</td>\n",
       "    </tr>\n",
       "    <tr>\n",
       "      <th>28</th>\n",
       "      <td>20.263249</td>\n",
       "      <td>100386.074836</td>\n",
       "      <td>0.028949</td>\n",
       "      <td>0.196802</td>\n",
       "      <td>0.015928</td>\n",
       "      <td>TI</td>\n",
       "      <td>C_SVR_TI_6M</td>\n",
       "      <td>stock</td>\n",
       "      <td>baseline</td>\n",
       "      <td>SVR</td>\n",
       "      <td>SVR TI stock validation=6M</td>\n",
       "      <td>6M</td>\n",
       "    </tr>\n",
       "    <tr>\n",
       "      <th>36</th>\n",
       "      <td>14.327971</td>\n",
       "      <td>41590.343258</td>\n",
       "      <td>0.017658</td>\n",
       "      <td>0.599615</td>\n",
       "      <td>0.056846</td>\n",
       "      <td>LR</td>\n",
       "      <td>C_LGB_CR_6M</td>\n",
       "      <td>stock</td>\n",
       "      <td>baseline</td>\n",
       "      <td>LGB</td>\n",
       "      <td>LGB LR stock validation=6M</td>\n",
       "      <td>6M</td>\n",
       "    </tr>\n",
       "  </tbody>\n",
       "</table>\n",
       "</div>"
      ],
      "text/plain": [
       "          MDD            MSE      RMSE  Sharpe Ratio  annual returns feature  \\\n",
       "4   33.306810   43760.583244  0.018023      0.110114        0.005919      TI   \n",
       "12  26.275844   39622.649064  0.017024      1.082450        0.141476      LR   \n",
       "20  19.980148   39454.776359  0.017001      1.097744        0.132690      LR   \n",
       "28  20.263249  100386.074836  0.028949      0.196802        0.015928      TI   \n",
       "36  14.327971   41590.343258  0.017658      0.599615        0.056846      LR   \n",
       "\n",
       "            label  level    method model                        name  \\\n",
       "4      C_RF_TI_6M  stock  baseline    RF   RF TI stock validation=6M   \n",
       "12     C_RF_LR_6M  stock  baseline    RF   RF LR stock validation=6M   \n",
       "20  C_SVR_LR_6M_2  stock  baseline   SVR  SVR LR stock validation=6M   \n",
       "28    C_SVR_TI_6M  stock  baseline   SVR  SVR TI stock validation=6M   \n",
       "36    C_LGB_CR_6M  stock  baseline   LGB  LGB LR stock validation=6M   \n",
       "\n",
       "   validation length  \n",
       "4                 6M  \n",
       "12                6M  \n",
       "20                6M  \n",
       "28                6M  \n",
       "36                6M  "
      ]
     },
     "execution_count": 138,
     "metadata": {},
     "output_type": "execute_result"
    }
   ],
   "source": [
    "stats=statistics_dict[(statistics_dict['method']=='baseline') & (statistics_dict['validation length']=='6M')]\n",
    "stats.head()"
   ]
  },
  {
   "cell_type": "code",
   "execution_count": 12,
   "id": "demanding-vessel",
   "metadata": {},
   "outputs": [
    {
     "name": "stdout",
     "output_type": "stream",
     "text": [
      "Requirement already satisfied: kaleido in c:\\users\\madalina.stanciu\\miniconda3\\envs\\pythonproject\\lib\\site-packages (0.2.1)\n"
     ]
    }
   ],
   "source": [
    "!pip install -U kaleido"
   ]
  },
  {
   "cell_type": "code",
   "execution_count": 7,
   "id": "rolled-suite",
   "metadata": {},
   "outputs": [],
   "source": [
    "import os\n",
    "\n",
    "if not os.path.exists(\"../imgs\"):\n",
    "    os.mkdir(\"../imgs\")"
   ]
  },
  {
   "cell_type": "code",
   "execution_count": 4,
   "id": "constitutional-andrew",
   "metadata": {},
   "outputs": [
    {
     "data": {
      "application/vnd.plotly.v1+json": {
       "config": {
        "plotlyServerURL": "https://plot.ly"
       },
       "data": [
        {
         "line": {
          "color": "black",
          "dash": "solid"
         },
         "marker": {
          "symbol": [
           "circle",
           "circle",
           "circle",
           "circle",
           "circle",
           "x",
           "x",
           "x",
           "x",
           "x",
           "x"
          ]
         },
         "mode": "lines+markers",
         "name": "baseline 6M",
         "type": "scatter",
         "x": [
          "LGB LR sector",
          "LGB TI sector",
          "RF LR sector",
          "RF TI sector",
          "SVR LR sector",
          "LGB LR stock",
          "LGB TI stock",
          "RF LR stock",
          "RF TI stock",
          "SVR LR stock",
          "SVR TI stock"
         ],
         "xaxis": "x",
         "y": [
          0.10406870149016068,
          0.017930901421609136,
          0.10231300891176254,
          0.05293999066057786,
          0.07466721467925641,
          0.05684628154890192,
          0.060277410679080656,
          0.14147559815186184,
          0.005918664619575242,
          0.13268955964661622,
          0.01592810687399715
         ],
         "yaxis": "y"
        },
        {
         "line": {
          "color": "#2CA02C",
          "dash": "solid"
         },
         "marker": {
          "symbol": [
           "circle",
           "circle",
           "circle",
           "circle",
           "circle",
           "x",
           "x",
           "x",
           "x",
           "x",
           "x"
          ]
         },
         "mode": "lines+markers",
         "name": "best 6M",
         "type": "scatter",
         "x": [
          "LGB LR sector",
          "LGB TI sector",
          "RF LR sector",
          "RF TI sector",
          "SVR LR sector",
          "LGB LR stock",
          "LGB TI stock",
          "RF LR stock",
          "RF TI stock",
          "SVR LR stock",
          "SVR TI stock"
         ],
         "xaxis": "x",
         "y": [
          0.055899230106690734,
          0.05478896968126579,
          0.11736899795293265,
          0.030138931475676367,
          0.0036998748825003425,
          0.04678218603296669,
          0.08328979939988357,
          0.1231855343170789,
          0.06392723431163105,
          0.13084537129277773,
          0.01015577781231869
         ],
         "yaxis": "y"
        },
        {
         "line": {
          "color": "#D62728",
          "dash": "solid"
         },
         "marker": {
          "symbol": [
           "circle",
           "circle",
           "circle",
           "circle",
           "circle",
           "x",
           "x",
           "x",
           "x",
           "x",
           "x"
          ]
         },
         "mode": "lines+markers",
         "name": "worst 6M",
         "type": "scatter",
         "x": [
          "LGB LR sector",
          "LGB TI sector",
          "RF LR sector",
          "RF TI sector",
          "SVR LR sector",
          "LGB LR stock",
          "LGB TI stock",
          "RF LR stock",
          "RF TI stock",
          "SVR LR stock",
          "SVR TI stock"
         ],
         "xaxis": "x",
         "y": [
          0.09720900387086773,
          0.0763567956422937,
          0.1368898334822921,
          0.08224514730120935,
          0.08242026629455412,
          0.05387925272929239,
          0.08448931130604653,
          0.14075273860835735,
          0.04425812624619119,
          0.13268955964661622,
          0.03632720476438256
         ],
         "yaxis": "y"
        },
        {
         "line": {
          "color": "#511CFB",
          "dash": "solid"
         },
         "marker": {
          "symbol": [
           "circle",
           "circle",
           "circle",
           "circle",
           "circle",
           "x",
           "x",
           "x",
           "x",
           "x",
           "x"
          ]
         },
         "mode": "lines+markers",
         "name": "running 6M",
         "type": "scatter",
         "x": [
          "LGB LR sector",
          "LGB TI sector",
          "RF LR sector",
          "RF TI sector",
          "SVR LR sector",
          "LGB LR stock",
          "LGB TI stock",
          "RF LR stock",
          "RF TI stock",
          "SVR LR stock",
          "SVR TI stock"
         ],
         "xaxis": "x",
         "y": [
          0.08365946205287367,
          0.06277100831580595,
          0.1243056481158813,
          0.08316227924071184,
          0.060708531659630305,
          0.04430050526826612,
          0.054831921088408286,
          0.14887128773046454,
          0.048973478785051094,
          0.12352065719805805,
          -0.002935898155754346
         ],
         "yaxis": "y"
        },
        {
         "line": {
          "color": "black",
          "dash": "dash"
         },
         "marker": {
          "symbol": [
           "circle",
           "circle",
           "circle",
           "circle",
           "circle",
           "circle",
           "x",
           "x",
           "x",
           "x",
           "x",
           "x"
          ]
         },
         "mode": "lines+markers",
         "name": "baseline 1Y",
         "type": "scatter",
         "x": [
          "LGB LR sector",
          "LGB TI sector",
          "RF LR sector",
          "RF TI sector",
          "SVR LR sector",
          "SVR TI sector",
          "LGB LR stock",
          "LGB TI stock",
          "RF LR stock",
          "RF TI stock",
          "SVR LR stock",
          "SVR TI stock"
         ],
         "xaxis": "x2",
         "y": [
          0.07764134923771038,
          0.038849077984156155,
          0.041588270611064626,
          0.0930696130056392,
          0.0553267554958341,
          -0.01789758934283847,
          0.06597493814922939,
          0.06559703935408123,
          0.15976975402116422,
          0.011647087583327664,
          0.1507259562687262,
          0.025070407403429584
         ],
         "yaxis": "y2"
        },
        {
         "line": {
          "color": "#2CA02C",
          "dash": "dash"
         },
         "marker": {
          "symbol": [
           "circle",
           "circle",
           "circle",
           "circle",
           "circle",
           "circle",
           "x",
           "x",
           "x",
           "x",
           "x",
           "x"
          ]
         },
         "mode": "lines+markers",
         "name": "best 1Y",
         "type": "scatter",
         "x": [
          "LGB LR sector",
          "LGB TI sector",
          "RF LR sector",
          "RF TI sector",
          "SVR LR sector",
          "SVR TI sector",
          "LGB LR stock",
          "LGB TI stock",
          "RF LR stock",
          "RF TI stock",
          "SVR LR stock",
          "SVR TI stock"
         ],
         "xaxis": "x2",
         "y": [
          0.01711098834535907,
          0.051133624998562555,
          0.05328207597049861,
          0.06160976071725832,
          0.035319356764168974,
          0.006763090155086138,
          0.05819919273085139,
          0.08290334370958541,
          0.13644962712738273,
          -0.0355200299664169,
          0.17175730254505117,
          -0.0035092968813085212
         ],
         "yaxis": "y2"
        },
        {
         "line": {
          "color": "#D62728",
          "dash": "dash"
         },
         "marker": {
          "symbol": [
           "circle",
           "circle",
           "circle",
           "circle",
           "circle",
           "circle",
           "x",
           "x",
           "x",
           "x",
           "x",
           "x"
          ]
         },
         "mode": "lines+markers",
         "name": "worst 1Y",
         "type": "scatter",
         "x": [
          "LGB LR sector",
          "LGB TI sector",
          "RF LR sector",
          "RF TI sector",
          "SVR LR sector",
          "SVR TI sector",
          "LGB LR stock",
          "LGB TI stock",
          "RF LR stock",
          "RF TI stock",
          "SVR LR stock",
          "SVR TI stock"
         ],
         "xaxis": "x2",
         "y": [
          0.04634506653765924,
          0.11716161175354567,
          0.09917983317149037,
          0.054849348090055816,
          0.042955708258246794,
          -0.010035475545175365,
          0.06537936823558099,
          0.06958021276114956,
          0.13582257863884384,
          -0.009495606842954252,
          0.15473020213220812,
          0.023524467039225616
         ],
         "yaxis": "y2"
        },
        {
         "line": {
          "color": "#511CFB",
          "dash": "dash"
         },
         "marker": {
          "symbol": [
           "circle",
           "circle",
           "circle",
           "circle",
           "circle",
           "circle",
           "x",
           "x",
           "x",
           "x",
           "x",
           "x"
          ]
         },
         "mode": "lines+markers",
         "name": "running 1Y",
         "type": "scatter",
         "x": [
          "LGB LR sector",
          "LGB TI sector",
          "RF LR sector",
          "RF TI sector",
          "SVR LR sector",
          "SVR TI sector",
          "LGB LR stock",
          "LGB TI stock",
          "RF LR stock",
          "RF TI stock",
          "SVR LR stock",
          "SVR TI stock"
         ],
         "xaxis": "x2",
         "y": [
          0.05653862489118944,
          0.08436076824292771,
          0.10936565510309793,
          0.05251866602972277,
          0.054988513998520894,
          -0.010815904956826494,
          0.06773283498037275,
          0.06351945494777267,
          0.12630737746806298,
          -0.04372909456923135,
          0.15736893895858728,
          -0.022783419400233318
         ],
         "yaxis": "y2"
        }
       ],
       "layout": {
        "annotations": [
         {
          "font": {
           "size": 16
          },
          "showarrow": false,
          "text": "6M",
          "x": 0.5,
          "xanchor": "center",
          "xref": "paper",
          "y": 1,
          "yanchor": "bottom",
          "yref": "paper"
         },
         {
          "font": {
           "size": 16
          },
          "showarrow": false,
          "text": "1Y",
          "x": 0.5,
          "xanchor": "center",
          "xref": "paper",
          "y": 0.375,
          "yanchor": "bottom",
          "yref": "paper"
         }
        ],
        "template": {
         "data": {
          "bar": [
           {
            "error_x": {
             "color": "#2a3f5f"
            },
            "error_y": {
             "color": "#2a3f5f"
            },
            "marker": {
             "line": {
              "color": "#E5ECF6",
              "width": 0.5
             }
            },
            "type": "bar"
           }
          ],
          "barpolar": [
           {
            "marker": {
             "line": {
              "color": "#E5ECF6",
              "width": 0.5
             }
            },
            "type": "barpolar"
           }
          ],
          "carpet": [
           {
            "aaxis": {
             "endlinecolor": "#2a3f5f",
             "gridcolor": "white",
             "linecolor": "white",
             "minorgridcolor": "white",
             "startlinecolor": "#2a3f5f"
            },
            "baxis": {
             "endlinecolor": "#2a3f5f",
             "gridcolor": "white",
             "linecolor": "white",
             "minorgridcolor": "white",
             "startlinecolor": "#2a3f5f"
            },
            "type": "carpet"
           }
          ],
          "choropleth": [
           {
            "colorbar": {
             "outlinewidth": 0,
             "ticks": ""
            },
            "type": "choropleth"
           }
          ],
          "contour": [
           {
            "colorbar": {
             "outlinewidth": 0,
             "ticks": ""
            },
            "colorscale": [
             [
              0,
              "#0d0887"
             ],
             [
              0.1111111111111111,
              "#46039f"
             ],
             [
              0.2222222222222222,
              "#7201a8"
             ],
             [
              0.3333333333333333,
              "#9c179e"
             ],
             [
              0.4444444444444444,
              "#bd3786"
             ],
             [
              0.5555555555555556,
              "#d8576b"
             ],
             [
              0.6666666666666666,
              "#ed7953"
             ],
             [
              0.7777777777777778,
              "#fb9f3a"
             ],
             [
              0.8888888888888888,
              "#fdca26"
             ],
             [
              1,
              "#f0f921"
             ]
            ],
            "type": "contour"
           }
          ],
          "contourcarpet": [
           {
            "colorbar": {
             "outlinewidth": 0,
             "ticks": ""
            },
            "type": "contourcarpet"
           }
          ],
          "heatmap": [
           {
            "colorbar": {
             "outlinewidth": 0,
             "ticks": ""
            },
            "colorscale": [
             [
              0,
              "#0d0887"
             ],
             [
              0.1111111111111111,
              "#46039f"
             ],
             [
              0.2222222222222222,
              "#7201a8"
             ],
             [
              0.3333333333333333,
              "#9c179e"
             ],
             [
              0.4444444444444444,
              "#bd3786"
             ],
             [
              0.5555555555555556,
              "#d8576b"
             ],
             [
              0.6666666666666666,
              "#ed7953"
             ],
             [
              0.7777777777777778,
              "#fb9f3a"
             ],
             [
              0.8888888888888888,
              "#fdca26"
             ],
             [
              1,
              "#f0f921"
             ]
            ],
            "type": "heatmap"
           }
          ],
          "heatmapgl": [
           {
            "colorbar": {
             "outlinewidth": 0,
             "ticks": ""
            },
            "colorscale": [
             [
              0,
              "#0d0887"
             ],
             [
              0.1111111111111111,
              "#46039f"
             ],
             [
              0.2222222222222222,
              "#7201a8"
             ],
             [
              0.3333333333333333,
              "#9c179e"
             ],
             [
              0.4444444444444444,
              "#bd3786"
             ],
             [
              0.5555555555555556,
              "#d8576b"
             ],
             [
              0.6666666666666666,
              "#ed7953"
             ],
             [
              0.7777777777777778,
              "#fb9f3a"
             ],
             [
              0.8888888888888888,
              "#fdca26"
             ],
             [
              1,
              "#f0f921"
             ]
            ],
            "type": "heatmapgl"
           }
          ],
          "histogram": [
           {
            "marker": {
             "colorbar": {
              "outlinewidth": 0,
              "ticks": ""
             }
            },
            "type": "histogram"
           }
          ],
          "histogram2d": [
           {
            "colorbar": {
             "outlinewidth": 0,
             "ticks": ""
            },
            "colorscale": [
             [
              0,
              "#0d0887"
             ],
             [
              0.1111111111111111,
              "#46039f"
             ],
             [
              0.2222222222222222,
              "#7201a8"
             ],
             [
              0.3333333333333333,
              "#9c179e"
             ],
             [
              0.4444444444444444,
              "#bd3786"
             ],
             [
              0.5555555555555556,
              "#d8576b"
             ],
             [
              0.6666666666666666,
              "#ed7953"
             ],
             [
              0.7777777777777778,
              "#fb9f3a"
             ],
             [
              0.8888888888888888,
              "#fdca26"
             ],
             [
              1,
              "#f0f921"
             ]
            ],
            "type": "histogram2d"
           }
          ],
          "histogram2dcontour": [
           {
            "colorbar": {
             "outlinewidth": 0,
             "ticks": ""
            },
            "colorscale": [
             [
              0,
              "#0d0887"
             ],
             [
              0.1111111111111111,
              "#46039f"
             ],
             [
              0.2222222222222222,
              "#7201a8"
             ],
             [
              0.3333333333333333,
              "#9c179e"
             ],
             [
              0.4444444444444444,
              "#bd3786"
             ],
             [
              0.5555555555555556,
              "#d8576b"
             ],
             [
              0.6666666666666666,
              "#ed7953"
             ],
             [
              0.7777777777777778,
              "#fb9f3a"
             ],
             [
              0.8888888888888888,
              "#fdca26"
             ],
             [
              1,
              "#f0f921"
             ]
            ],
            "type": "histogram2dcontour"
           }
          ],
          "mesh3d": [
           {
            "colorbar": {
             "outlinewidth": 0,
             "ticks": ""
            },
            "type": "mesh3d"
           }
          ],
          "parcoords": [
           {
            "line": {
             "colorbar": {
              "outlinewidth": 0,
              "ticks": ""
             }
            },
            "type": "parcoords"
           }
          ],
          "pie": [
           {
            "automargin": true,
            "type": "pie"
           }
          ],
          "scatter": [
           {
            "marker": {
             "colorbar": {
              "outlinewidth": 0,
              "ticks": ""
             }
            },
            "type": "scatter"
           }
          ],
          "scatter3d": [
           {
            "line": {
             "colorbar": {
              "outlinewidth": 0,
              "ticks": ""
             }
            },
            "marker": {
             "colorbar": {
              "outlinewidth": 0,
              "ticks": ""
             }
            },
            "type": "scatter3d"
           }
          ],
          "scattercarpet": [
           {
            "marker": {
             "colorbar": {
              "outlinewidth": 0,
              "ticks": ""
             }
            },
            "type": "scattercarpet"
           }
          ],
          "scattergeo": [
           {
            "marker": {
             "colorbar": {
              "outlinewidth": 0,
              "ticks": ""
             }
            },
            "type": "scattergeo"
           }
          ],
          "scattergl": [
           {
            "marker": {
             "colorbar": {
              "outlinewidth": 0,
              "ticks": ""
             }
            },
            "type": "scattergl"
           }
          ],
          "scattermapbox": [
           {
            "marker": {
             "colorbar": {
              "outlinewidth": 0,
              "ticks": ""
             }
            },
            "type": "scattermapbox"
           }
          ],
          "scatterpolar": [
           {
            "marker": {
             "colorbar": {
              "outlinewidth": 0,
              "ticks": ""
             }
            },
            "type": "scatterpolar"
           }
          ],
          "scatterpolargl": [
           {
            "marker": {
             "colorbar": {
              "outlinewidth": 0,
              "ticks": ""
             }
            },
            "type": "scatterpolargl"
           }
          ],
          "scatterternary": [
           {
            "marker": {
             "colorbar": {
              "outlinewidth": 0,
              "ticks": ""
             }
            },
            "type": "scatterternary"
           }
          ],
          "surface": [
           {
            "colorbar": {
             "outlinewidth": 0,
             "ticks": ""
            },
            "colorscale": [
             [
              0,
              "#0d0887"
             ],
             [
              0.1111111111111111,
              "#46039f"
             ],
             [
              0.2222222222222222,
              "#7201a8"
             ],
             [
              0.3333333333333333,
              "#9c179e"
             ],
             [
              0.4444444444444444,
              "#bd3786"
             ],
             [
              0.5555555555555556,
              "#d8576b"
             ],
             [
              0.6666666666666666,
              "#ed7953"
             ],
             [
              0.7777777777777778,
              "#fb9f3a"
             ],
             [
              0.8888888888888888,
              "#fdca26"
             ],
             [
              1,
              "#f0f921"
             ]
            ],
            "type": "surface"
           }
          ],
          "table": [
           {
            "cells": {
             "fill": {
              "color": "#EBF0F8"
             },
             "line": {
              "color": "white"
             }
            },
            "header": {
             "fill": {
              "color": "#C8D4E3"
             },
             "line": {
              "color": "white"
             }
            },
            "type": "table"
           }
          ]
         },
         "layout": {
          "annotationdefaults": {
           "arrowcolor": "#2a3f5f",
           "arrowhead": 0,
           "arrowwidth": 1
          },
          "autotypenumbers": "strict",
          "coloraxis": {
           "colorbar": {
            "outlinewidth": 0,
            "ticks": ""
           }
          },
          "colorscale": {
           "diverging": [
            [
             0,
             "#8e0152"
            ],
            [
             0.1,
             "#c51b7d"
            ],
            [
             0.2,
             "#de77ae"
            ],
            [
             0.3,
             "#f1b6da"
            ],
            [
             0.4,
             "#fde0ef"
            ],
            [
             0.5,
             "#f7f7f7"
            ],
            [
             0.6,
             "#e6f5d0"
            ],
            [
             0.7,
             "#b8e186"
            ],
            [
             0.8,
             "#7fbc41"
            ],
            [
             0.9,
             "#4d9221"
            ],
            [
             1,
             "#276419"
            ]
           ],
           "sequential": [
            [
             0,
             "#0d0887"
            ],
            [
             0.1111111111111111,
             "#46039f"
            ],
            [
             0.2222222222222222,
             "#7201a8"
            ],
            [
             0.3333333333333333,
             "#9c179e"
            ],
            [
             0.4444444444444444,
             "#bd3786"
            ],
            [
             0.5555555555555556,
             "#d8576b"
            ],
            [
             0.6666666666666666,
             "#ed7953"
            ],
            [
             0.7777777777777778,
             "#fb9f3a"
            ],
            [
             0.8888888888888888,
             "#fdca26"
            ],
            [
             1,
             "#f0f921"
            ]
           ],
           "sequentialminus": [
            [
             0,
             "#0d0887"
            ],
            [
             0.1111111111111111,
             "#46039f"
            ],
            [
             0.2222222222222222,
             "#7201a8"
            ],
            [
             0.3333333333333333,
             "#9c179e"
            ],
            [
             0.4444444444444444,
             "#bd3786"
            ],
            [
             0.5555555555555556,
             "#d8576b"
            ],
            [
             0.6666666666666666,
             "#ed7953"
            ],
            [
             0.7777777777777778,
             "#fb9f3a"
            ],
            [
             0.8888888888888888,
             "#fdca26"
            ],
            [
             1,
             "#f0f921"
            ]
           ]
          },
          "colorway": [
           "#636efa",
           "#EF553B",
           "#00cc96",
           "#ab63fa",
           "#FFA15A",
           "#19d3f3",
           "#FF6692",
           "#B6E880",
           "#FF97FF",
           "#FECB52"
          ],
          "font": {
           "color": "#2a3f5f"
          },
          "geo": {
           "bgcolor": "white",
           "lakecolor": "white",
           "landcolor": "#E5ECF6",
           "showlakes": true,
           "showland": true,
           "subunitcolor": "white"
          },
          "hoverlabel": {
           "align": "left"
          },
          "hovermode": "closest",
          "mapbox": {
           "style": "light"
          },
          "paper_bgcolor": "white",
          "plot_bgcolor": "#E5ECF6",
          "polar": {
           "angularaxis": {
            "gridcolor": "white",
            "linecolor": "white",
            "ticks": ""
           },
           "bgcolor": "#E5ECF6",
           "radialaxis": {
            "gridcolor": "white",
            "linecolor": "white",
            "ticks": ""
           }
          },
          "scene": {
           "xaxis": {
            "backgroundcolor": "#E5ECF6",
            "gridcolor": "white",
            "gridwidth": 2,
            "linecolor": "white",
            "showbackground": true,
            "ticks": "",
            "zerolinecolor": "white"
           },
           "yaxis": {
            "backgroundcolor": "#E5ECF6",
            "gridcolor": "white",
            "gridwidth": 2,
            "linecolor": "white",
            "showbackground": true,
            "ticks": "",
            "zerolinecolor": "white"
           },
           "zaxis": {
            "backgroundcolor": "#E5ECF6",
            "gridcolor": "white",
            "gridwidth": 2,
            "linecolor": "white",
            "showbackground": true,
            "ticks": "",
            "zerolinecolor": "white"
           }
          },
          "shapedefaults": {
           "line": {
            "color": "#2a3f5f"
           }
          },
          "ternary": {
           "aaxis": {
            "gridcolor": "white",
            "linecolor": "white",
            "ticks": ""
           },
           "baxis": {
            "gridcolor": "white",
            "linecolor": "white",
            "ticks": ""
           },
           "bgcolor": "#E5ECF6",
           "caxis": {
            "gridcolor": "white",
            "linecolor": "white",
            "ticks": ""
           }
          },
          "title": {
           "x": 0.05
          },
          "xaxis": {
           "automargin": true,
           "gridcolor": "white",
           "linecolor": "white",
           "ticks": "",
           "title": {
            "standoff": 15
           },
           "zerolinecolor": "white",
           "zerolinewidth": 2
          },
          "yaxis": {
           "automargin": true,
           "gridcolor": "white",
           "linecolor": "white",
           "ticks": "",
           "title": {
            "standoff": 15
           },
           "zerolinecolor": "white",
           "zerolinewidth": 2
          }
         }
        },
        "title": {
         "text": "Performance of 6M validation vs. 1Y validation"
        },
        "xaxis": {
         "anchor": "y",
         "categoryarray": [
          "LGB LR sector",
          "LGB TI sector",
          "RF LR sector",
          "RF TI sector",
          "SVR LR sector",
          "SVR TI sector",
          "LGB LR stock",
          "LGB TI stock",
          "RF LR stock",
          "RF TI stock",
          "SVR LR stock",
          "SVR TI stock"
         ],
         "domain": [
          0,
          1
         ],
         "type": "category"
        },
        "xaxis2": {
         "anchor": "y2",
         "domain": [
          0,
          1
         ]
        },
        "yaxis": {
         "anchor": "x",
         "domain": [
          0.625,
          1
         ],
         "fixedrange": true,
         "range": [
          -0.05,
          0.2
         ],
         "tickvals": [
          -0.05,
          0,
          0.05,
          0.10000000000000002,
          0.15000000000000002
         ],
         "title": {
          "text": "annual returns"
         }
        },
        "yaxis2": {
         "anchor": "x2",
         "domain": [
          0,
          0.375
         ],
         "fixedrange": true,
         "range": [
          -0.05,
          0.2
         ],
         "tickvals": [
          -0.05,
          0,
          0.05,
          0.10000000000000002,
          0.15000000000000002
         ]
        }
       }
      },
      "text/html": [
       "<div>                            <div id=\"7c1f4163-510c-4bf9-84e3-22062a27490f\" class=\"plotly-graph-div\" style=\"height:525px; width:100%;\"></div>            <script type=\"text/javascript\">                require([\"plotly\"], function(Plotly) {                    window.PLOTLYENV=window.PLOTLYENV || {};                                    if (document.getElementById(\"7c1f4163-510c-4bf9-84e3-22062a27490f\")) {                    Plotly.newPlot(                        \"7c1f4163-510c-4bf9-84e3-22062a27490f\",                        [{\"line\": {\"color\": \"black\", \"dash\": \"solid\"}, \"marker\": {\"symbol\": [\"circle\", \"circle\", \"circle\", \"circle\", \"circle\", \"x\", \"x\", \"x\", \"x\", \"x\", \"x\"]}, \"mode\": \"lines+markers\", \"name\": \"baseline 6M\", \"type\": \"scatter\", \"x\": [\"LGB LR sector\", \"LGB TI sector\", \"RF LR sector\", \"RF TI sector\", \"SVR LR sector\", \"LGB LR stock\", \"LGB TI stock\", \"RF LR stock\", \"RF TI stock\", \"SVR LR stock\", \"SVR TI stock\"], \"xaxis\": \"x\", \"y\": [0.10406870149016068, 0.017930901421609136, 0.10231300891176254, 0.05293999066057786, 0.07466721467925641, 0.05684628154890192, 0.060277410679080656, 0.14147559815186184, 0.005918664619575242, 0.13268955964661622, 0.01592810687399715], \"yaxis\": \"y\"}, {\"line\": {\"color\": \"#2CA02C\", \"dash\": \"solid\"}, \"marker\": {\"symbol\": [\"circle\", \"circle\", \"circle\", \"circle\", \"circle\", \"x\", \"x\", \"x\", \"x\", \"x\", \"x\"]}, \"mode\": \"lines+markers\", \"name\": \"best 6M\", \"type\": \"scatter\", \"x\": [\"LGB LR sector\", \"LGB TI sector\", \"RF LR sector\", \"RF TI sector\", \"SVR LR sector\", \"LGB LR stock\", \"LGB TI stock\", \"RF LR stock\", \"RF TI stock\", \"SVR LR stock\", \"SVR TI stock\"], \"xaxis\": \"x\", \"y\": [0.055899230106690734, 0.05478896968126579, 0.11736899795293265, 0.030138931475676367, 0.0036998748825003425, 0.04678218603296669, 0.08328979939988357, 0.1231855343170789, 0.06392723431163105, 0.13084537129277773, 0.01015577781231869], \"yaxis\": \"y\"}, {\"line\": {\"color\": \"#D62728\", \"dash\": \"solid\"}, \"marker\": {\"symbol\": [\"circle\", \"circle\", \"circle\", \"circle\", \"circle\", \"x\", \"x\", \"x\", \"x\", \"x\", \"x\"]}, \"mode\": \"lines+markers\", \"name\": \"worst 6M\", \"type\": \"scatter\", \"x\": [\"LGB LR sector\", \"LGB TI sector\", \"RF LR sector\", \"RF TI sector\", \"SVR LR sector\", \"LGB LR stock\", \"LGB TI stock\", \"RF LR stock\", \"RF TI stock\", \"SVR LR stock\", \"SVR TI stock\"], \"xaxis\": \"x\", \"y\": [0.09720900387086773, 0.0763567956422937, 0.1368898334822921, 0.08224514730120935, 0.08242026629455412, 0.05387925272929239, 0.08448931130604653, 0.14075273860835735, 0.04425812624619119, 0.13268955964661622, 0.03632720476438256], \"yaxis\": \"y\"}, {\"line\": {\"color\": \"#511CFB\", \"dash\": \"solid\"}, \"marker\": {\"symbol\": [\"circle\", \"circle\", \"circle\", \"circle\", \"circle\", \"x\", \"x\", \"x\", \"x\", \"x\", \"x\"]}, \"mode\": \"lines+markers\", \"name\": \"running 6M\", \"type\": \"scatter\", \"x\": [\"LGB LR sector\", \"LGB TI sector\", \"RF LR sector\", \"RF TI sector\", \"SVR LR sector\", \"LGB LR stock\", \"LGB TI stock\", \"RF LR stock\", \"RF TI stock\", \"SVR LR stock\", \"SVR TI stock\"], \"xaxis\": \"x\", \"y\": [0.08365946205287367, 0.06277100831580595, 0.1243056481158813, 0.08316227924071184, 0.060708531659630305, 0.04430050526826612, 0.054831921088408286, 0.14887128773046454, 0.048973478785051094, 0.12352065719805805, -0.002935898155754346], \"yaxis\": \"y\"}, {\"line\": {\"color\": \"black\", \"dash\": \"dash\"}, \"marker\": {\"symbol\": [\"circle\", \"circle\", \"circle\", \"circle\", \"circle\", \"circle\", \"x\", \"x\", \"x\", \"x\", \"x\", \"x\"]}, \"mode\": \"lines+markers\", \"name\": \"baseline 1Y\", \"type\": \"scatter\", \"x\": [\"LGB LR sector\", \"LGB TI sector\", \"RF LR sector\", \"RF TI sector\", \"SVR LR sector\", \"SVR TI sector\", \"LGB LR stock\", \"LGB TI stock\", \"RF LR stock\", \"RF TI stock\", \"SVR LR stock\", \"SVR TI stock\"], \"xaxis\": \"x2\", \"y\": [0.07764134923771038, 0.038849077984156155, 0.041588270611064626, 0.0930696130056392, 0.0553267554958341, -0.01789758934283847, 0.06597493814922939, 0.06559703935408123, 0.15976975402116422, 0.011647087583327664, 0.1507259562687262, 0.025070407403429584], \"yaxis\": \"y2\"}, {\"line\": {\"color\": \"#2CA02C\", \"dash\": \"dash\"}, \"marker\": {\"symbol\": [\"circle\", \"circle\", \"circle\", \"circle\", \"circle\", \"circle\", \"x\", \"x\", \"x\", \"x\", \"x\", \"x\"]}, \"mode\": \"lines+markers\", \"name\": \"best 1Y\", \"type\": \"scatter\", \"x\": [\"LGB LR sector\", \"LGB TI sector\", \"RF LR sector\", \"RF TI sector\", \"SVR LR sector\", \"SVR TI sector\", \"LGB LR stock\", \"LGB TI stock\", \"RF LR stock\", \"RF TI stock\", \"SVR LR stock\", \"SVR TI stock\"], \"xaxis\": \"x2\", \"y\": [0.01711098834535907, 0.051133624998562555, 0.05328207597049861, 0.06160976071725832, 0.035319356764168974, 0.006763090155086138, 0.05819919273085139, 0.08290334370958541, 0.13644962712738273, -0.0355200299664169, 0.17175730254505117, -0.0035092968813085212], \"yaxis\": \"y2\"}, {\"line\": {\"color\": \"#D62728\", \"dash\": \"dash\"}, \"marker\": {\"symbol\": [\"circle\", \"circle\", \"circle\", \"circle\", \"circle\", \"circle\", \"x\", \"x\", \"x\", \"x\", \"x\", \"x\"]}, \"mode\": \"lines+markers\", \"name\": \"worst 1Y\", \"type\": \"scatter\", \"x\": [\"LGB LR sector\", \"LGB TI sector\", \"RF LR sector\", \"RF TI sector\", \"SVR LR sector\", \"SVR TI sector\", \"LGB LR stock\", \"LGB TI stock\", \"RF LR stock\", \"RF TI stock\", \"SVR LR stock\", \"SVR TI stock\"], \"xaxis\": \"x2\", \"y\": [0.04634506653765924, 0.11716161175354567, 0.09917983317149037, 0.054849348090055816, 0.042955708258246794, -0.010035475545175365, 0.06537936823558099, 0.06958021276114956, 0.13582257863884384, -0.009495606842954252, 0.15473020213220812, 0.023524467039225616], \"yaxis\": \"y2\"}, {\"line\": {\"color\": \"#511CFB\", \"dash\": \"dash\"}, \"marker\": {\"symbol\": [\"circle\", \"circle\", \"circle\", \"circle\", \"circle\", \"circle\", \"x\", \"x\", \"x\", \"x\", \"x\", \"x\"]}, \"mode\": \"lines+markers\", \"name\": \"running 1Y\", \"type\": \"scatter\", \"x\": [\"LGB LR sector\", \"LGB TI sector\", \"RF LR sector\", \"RF TI sector\", \"SVR LR sector\", \"SVR TI sector\", \"LGB LR stock\", \"LGB TI stock\", \"RF LR stock\", \"RF TI stock\", \"SVR LR stock\", \"SVR TI stock\"], \"xaxis\": \"x2\", \"y\": [0.05653862489118944, 0.08436076824292771, 0.10936565510309793, 0.05251866602972277, 0.054988513998520894, -0.010815904956826494, 0.06773283498037275, 0.06351945494777267, 0.12630737746806298, -0.04372909456923135, 0.15736893895858728, -0.022783419400233318], \"yaxis\": \"y2\"}],                        {\"annotations\": [{\"font\": {\"size\": 16}, \"showarrow\": false, \"text\": \"6M\", \"x\": 0.5, \"xanchor\": \"center\", \"xref\": \"paper\", \"y\": 1.0, \"yanchor\": \"bottom\", \"yref\": \"paper\"}, {\"font\": {\"size\": 16}, \"showarrow\": false, \"text\": \"1Y\", \"x\": 0.5, \"xanchor\": \"center\", \"xref\": \"paper\", \"y\": 0.375, \"yanchor\": \"bottom\", \"yref\": \"paper\"}], \"template\": {\"data\": {\"bar\": [{\"error_x\": {\"color\": \"#2a3f5f\"}, \"error_y\": {\"color\": \"#2a3f5f\"}, \"marker\": {\"line\": {\"color\": \"#E5ECF6\", \"width\": 0.5}}, \"type\": \"bar\"}], \"barpolar\": [{\"marker\": {\"line\": {\"color\": \"#E5ECF6\", \"width\": 0.5}}, \"type\": \"barpolar\"}], \"carpet\": [{\"aaxis\": {\"endlinecolor\": \"#2a3f5f\", \"gridcolor\": \"white\", \"linecolor\": \"white\", \"minorgridcolor\": \"white\", \"startlinecolor\": \"#2a3f5f\"}, \"baxis\": {\"endlinecolor\": \"#2a3f5f\", \"gridcolor\": \"white\", \"linecolor\": \"white\", \"minorgridcolor\": \"white\", \"startlinecolor\": \"#2a3f5f\"}, \"type\": \"carpet\"}], \"choropleth\": [{\"colorbar\": {\"outlinewidth\": 0, \"ticks\": \"\"}, \"type\": \"choropleth\"}], \"contour\": [{\"colorbar\": {\"outlinewidth\": 0, \"ticks\": \"\"}, \"colorscale\": [[0.0, \"#0d0887\"], [0.1111111111111111, \"#46039f\"], [0.2222222222222222, \"#7201a8\"], [0.3333333333333333, \"#9c179e\"], [0.4444444444444444, \"#bd3786\"], [0.5555555555555556, \"#d8576b\"], [0.6666666666666666, \"#ed7953\"], [0.7777777777777778, \"#fb9f3a\"], [0.8888888888888888, \"#fdca26\"], [1.0, \"#f0f921\"]], \"type\": \"contour\"}], \"contourcarpet\": [{\"colorbar\": {\"outlinewidth\": 0, \"ticks\": \"\"}, \"type\": \"contourcarpet\"}], \"heatmap\": [{\"colorbar\": {\"outlinewidth\": 0, \"ticks\": \"\"}, \"colorscale\": [[0.0, \"#0d0887\"], [0.1111111111111111, \"#46039f\"], [0.2222222222222222, \"#7201a8\"], [0.3333333333333333, \"#9c179e\"], [0.4444444444444444, \"#bd3786\"], [0.5555555555555556, \"#d8576b\"], [0.6666666666666666, \"#ed7953\"], [0.7777777777777778, \"#fb9f3a\"], [0.8888888888888888, \"#fdca26\"], [1.0, \"#f0f921\"]], \"type\": \"heatmap\"}], \"heatmapgl\": [{\"colorbar\": {\"outlinewidth\": 0, \"ticks\": \"\"}, \"colorscale\": [[0.0, \"#0d0887\"], [0.1111111111111111, \"#46039f\"], [0.2222222222222222, \"#7201a8\"], [0.3333333333333333, \"#9c179e\"], [0.4444444444444444, \"#bd3786\"], [0.5555555555555556, \"#d8576b\"], [0.6666666666666666, \"#ed7953\"], [0.7777777777777778, \"#fb9f3a\"], [0.8888888888888888, \"#fdca26\"], [1.0, \"#f0f921\"]], \"type\": \"heatmapgl\"}], \"histogram\": [{\"marker\": {\"colorbar\": {\"outlinewidth\": 0, \"ticks\": \"\"}}, \"type\": \"histogram\"}], \"histogram2d\": [{\"colorbar\": {\"outlinewidth\": 0, \"ticks\": \"\"}, \"colorscale\": [[0.0, \"#0d0887\"], [0.1111111111111111, \"#46039f\"], [0.2222222222222222, \"#7201a8\"], [0.3333333333333333, \"#9c179e\"], [0.4444444444444444, \"#bd3786\"], [0.5555555555555556, \"#d8576b\"], [0.6666666666666666, \"#ed7953\"], [0.7777777777777778, \"#fb9f3a\"], [0.8888888888888888, \"#fdca26\"], [1.0, \"#f0f921\"]], \"type\": \"histogram2d\"}], \"histogram2dcontour\": [{\"colorbar\": {\"outlinewidth\": 0, \"ticks\": \"\"}, \"colorscale\": [[0.0, \"#0d0887\"], [0.1111111111111111, \"#46039f\"], [0.2222222222222222, \"#7201a8\"], [0.3333333333333333, \"#9c179e\"], [0.4444444444444444, \"#bd3786\"], [0.5555555555555556, \"#d8576b\"], [0.6666666666666666, \"#ed7953\"], [0.7777777777777778, \"#fb9f3a\"], [0.8888888888888888, \"#fdca26\"], [1.0, \"#f0f921\"]], \"type\": \"histogram2dcontour\"}], \"mesh3d\": [{\"colorbar\": {\"outlinewidth\": 0, \"ticks\": \"\"}, \"type\": \"mesh3d\"}], \"parcoords\": [{\"line\": {\"colorbar\": {\"outlinewidth\": 0, \"ticks\": \"\"}}, \"type\": \"parcoords\"}], \"pie\": [{\"automargin\": true, \"type\": \"pie\"}], \"scatter\": [{\"marker\": {\"colorbar\": {\"outlinewidth\": 0, \"ticks\": \"\"}}, \"type\": \"scatter\"}], \"scatter3d\": [{\"line\": {\"colorbar\": {\"outlinewidth\": 0, \"ticks\": \"\"}}, \"marker\": {\"colorbar\": {\"outlinewidth\": 0, \"ticks\": \"\"}}, \"type\": \"scatter3d\"}], \"scattercarpet\": [{\"marker\": {\"colorbar\": {\"outlinewidth\": 0, \"ticks\": \"\"}}, \"type\": \"scattercarpet\"}], \"scattergeo\": [{\"marker\": {\"colorbar\": {\"outlinewidth\": 0, \"ticks\": \"\"}}, \"type\": \"scattergeo\"}], \"scattergl\": [{\"marker\": {\"colorbar\": {\"outlinewidth\": 0, \"ticks\": \"\"}}, \"type\": \"scattergl\"}], \"scattermapbox\": [{\"marker\": {\"colorbar\": {\"outlinewidth\": 0, \"ticks\": \"\"}}, \"type\": \"scattermapbox\"}], \"scatterpolar\": [{\"marker\": {\"colorbar\": {\"outlinewidth\": 0, \"ticks\": \"\"}}, \"type\": \"scatterpolar\"}], \"scatterpolargl\": [{\"marker\": {\"colorbar\": {\"outlinewidth\": 0, \"ticks\": \"\"}}, \"type\": \"scatterpolargl\"}], \"scatterternary\": [{\"marker\": {\"colorbar\": {\"outlinewidth\": 0, \"ticks\": \"\"}}, \"type\": \"scatterternary\"}], \"surface\": [{\"colorbar\": {\"outlinewidth\": 0, \"ticks\": \"\"}, \"colorscale\": [[0.0, \"#0d0887\"], [0.1111111111111111, \"#46039f\"], [0.2222222222222222, \"#7201a8\"], [0.3333333333333333, \"#9c179e\"], [0.4444444444444444, \"#bd3786\"], [0.5555555555555556, \"#d8576b\"], [0.6666666666666666, \"#ed7953\"], [0.7777777777777778, \"#fb9f3a\"], [0.8888888888888888, \"#fdca26\"], [1.0, \"#f0f921\"]], \"type\": \"surface\"}], \"table\": [{\"cells\": {\"fill\": {\"color\": \"#EBF0F8\"}, \"line\": {\"color\": \"white\"}}, \"header\": {\"fill\": {\"color\": \"#C8D4E3\"}, \"line\": {\"color\": \"white\"}}, \"type\": \"table\"}]}, \"layout\": {\"annotationdefaults\": {\"arrowcolor\": \"#2a3f5f\", \"arrowhead\": 0, \"arrowwidth\": 1}, \"autotypenumbers\": \"strict\", \"coloraxis\": {\"colorbar\": {\"outlinewidth\": 0, \"ticks\": \"\"}}, \"colorscale\": {\"diverging\": [[0, \"#8e0152\"], [0.1, \"#c51b7d\"], [0.2, \"#de77ae\"], [0.3, \"#f1b6da\"], [0.4, \"#fde0ef\"], [0.5, \"#f7f7f7\"], [0.6, \"#e6f5d0\"], [0.7, \"#b8e186\"], [0.8, \"#7fbc41\"], [0.9, \"#4d9221\"], [1, \"#276419\"]], \"sequential\": [[0.0, \"#0d0887\"], [0.1111111111111111, \"#46039f\"], [0.2222222222222222, \"#7201a8\"], [0.3333333333333333, \"#9c179e\"], [0.4444444444444444, \"#bd3786\"], [0.5555555555555556, \"#d8576b\"], [0.6666666666666666, \"#ed7953\"], [0.7777777777777778, \"#fb9f3a\"], [0.8888888888888888, \"#fdca26\"], [1.0, \"#f0f921\"]], \"sequentialminus\": [[0.0, \"#0d0887\"], [0.1111111111111111, \"#46039f\"], [0.2222222222222222, \"#7201a8\"], [0.3333333333333333, \"#9c179e\"], [0.4444444444444444, \"#bd3786\"], [0.5555555555555556, \"#d8576b\"], [0.6666666666666666, \"#ed7953\"], [0.7777777777777778, \"#fb9f3a\"], [0.8888888888888888, \"#fdca26\"], [1.0, \"#f0f921\"]]}, \"colorway\": [\"#636efa\", \"#EF553B\", \"#00cc96\", \"#ab63fa\", \"#FFA15A\", \"#19d3f3\", \"#FF6692\", \"#B6E880\", \"#FF97FF\", \"#FECB52\"], \"font\": {\"color\": \"#2a3f5f\"}, \"geo\": {\"bgcolor\": \"white\", \"lakecolor\": \"white\", \"landcolor\": \"#E5ECF6\", \"showlakes\": true, \"showland\": true, \"subunitcolor\": \"white\"}, \"hoverlabel\": {\"align\": \"left\"}, \"hovermode\": \"closest\", \"mapbox\": {\"style\": \"light\"}, \"paper_bgcolor\": \"white\", \"plot_bgcolor\": \"#E5ECF6\", \"polar\": {\"angularaxis\": {\"gridcolor\": \"white\", \"linecolor\": \"white\", \"ticks\": \"\"}, \"bgcolor\": \"#E5ECF6\", \"radialaxis\": {\"gridcolor\": \"white\", \"linecolor\": \"white\", \"ticks\": \"\"}}, \"scene\": {\"xaxis\": {\"backgroundcolor\": \"#E5ECF6\", \"gridcolor\": \"white\", \"gridwidth\": 2, \"linecolor\": \"white\", \"showbackground\": true, \"ticks\": \"\", \"zerolinecolor\": \"white\"}, \"yaxis\": {\"backgroundcolor\": \"#E5ECF6\", \"gridcolor\": \"white\", \"gridwidth\": 2, \"linecolor\": \"white\", \"showbackground\": true, \"ticks\": \"\", \"zerolinecolor\": \"white\"}, \"zaxis\": {\"backgroundcolor\": \"#E5ECF6\", \"gridcolor\": \"white\", \"gridwidth\": 2, \"linecolor\": \"white\", \"showbackground\": true, \"ticks\": \"\", \"zerolinecolor\": \"white\"}}, \"shapedefaults\": {\"line\": {\"color\": \"#2a3f5f\"}}, \"ternary\": {\"aaxis\": {\"gridcolor\": \"white\", \"linecolor\": \"white\", \"ticks\": \"\"}, \"baxis\": {\"gridcolor\": \"white\", \"linecolor\": \"white\", \"ticks\": \"\"}, \"bgcolor\": \"#E5ECF6\", \"caxis\": {\"gridcolor\": \"white\", \"linecolor\": \"white\", \"ticks\": \"\"}}, \"title\": {\"x\": 0.05}, \"xaxis\": {\"automargin\": true, \"gridcolor\": \"white\", \"linecolor\": \"white\", \"ticks\": \"\", \"title\": {\"standoff\": 15}, \"zerolinecolor\": \"white\", \"zerolinewidth\": 2}, \"yaxis\": {\"automargin\": true, \"gridcolor\": \"white\", \"linecolor\": \"white\", \"ticks\": \"\", \"title\": {\"standoff\": 15}, \"zerolinecolor\": \"white\", \"zerolinewidth\": 2}}}, \"title\": {\"text\": \"Performance of 6M validation vs. 1Y validation\"}, \"xaxis\": {\"anchor\": \"y\", \"categoryarray\": [\"LGB LR sector\", \"LGB TI sector\", \"RF LR sector\", \"RF TI sector\", \"SVR LR sector\", \"SVR TI sector\", \"LGB LR stock\", \"LGB TI stock\", \"RF LR stock\", \"RF TI stock\", \"SVR LR stock\", \"SVR TI stock\"], \"domain\": [0.0, 1.0], \"type\": \"category\"}, \"xaxis2\": {\"anchor\": \"y2\", \"domain\": [0.0, 1.0]}, \"yaxis\": {\"anchor\": \"x\", \"domain\": [0.625, 1.0], \"fixedrange\": true, \"range\": [-0.05, 0.2], \"tickvals\": [-0.05, 0.0, 0.05, 0.10000000000000002, 0.15000000000000002], \"title\": {\"text\": \"annual returns\"}}, \"yaxis2\": {\"anchor\": \"x2\", \"domain\": [0.0, 0.375], \"fixedrange\": true, \"range\": [-0.05, 0.2], \"tickvals\": [-0.05, 0.0, 0.05, 0.10000000000000002, 0.15000000000000002]}},                        {\"responsive\": true}                    ).then(function(){\n",
       "                            \n",
       "var gd = document.getElementById('7c1f4163-510c-4bf9-84e3-22062a27490f');\n",
       "var x = new MutationObserver(function (mutations, observer) {{\n",
       "        var display = window.getComputedStyle(gd).display;\n",
       "        if (!display || display === 'none') {{\n",
       "            console.log([gd, 'removed!']);\n",
       "            Plotly.purge(gd);\n",
       "            observer.disconnect();\n",
       "        }}\n",
       "}});\n",
       "\n",
       "// Listen for the removal of the full notebook cells\n",
       "var notebookContainer = gd.closest('#notebook-container');\n",
       "if (notebookContainer) {{\n",
       "    x.observe(notebookContainer, {childList: true});\n",
       "}}\n",
       "\n",
       "// Listen for the clearing of the current output cell\n",
       "var outputEl = gd.closest('.output');\n",
       "if (outputEl) {{\n",
       "    x.observe(outputEl, {childList: true});\n",
       "}}\n",
       "\n",
       "                        })                };                });            </script>        </div>"
      ]
     },
     "metadata": {},
     "output_type": "display_data"
    }
   ],
   "source": [
    "\n",
    "import plotly.express as px\n",
    "import matplotlib.pyplot as plt\n",
    "import plotly.graph_objects as go\n",
    "from plotly.subplots import make_subplots\n",
    "\n",
    "label='annual returns'\n",
    "\n",
    "\n",
    "marker_signs = {'sector':'circle','stock':'x'}\n",
    "dashes={'sector':'dash','stock':'dashdot','PI running worst':'dot'}\n",
    "\n",
    "colors = {'worst':'#D62728','best':'#2CA02C','fi':'rgb(55, 83, 109)','sp':'#4C78A8','baseline':'black','running':'#511CFB'}\n",
    "\n",
    "\n",
    "\n",
    "list_cat=[]\n",
    "for level in ['sector','stock']:\n",
    "    for model in ['LGB','RF','SVR']:\n",
    "        for feature in ['LR','TI']:\n",
    "            list_cat.append(f'{model} {feature} {level}')\n",
    "            \n",
    "\n",
    "fig = make_subplots(rows=2, cols=1,shared_yaxes=False,shared_xaxes=False,subplot_titles=['6M','1Y'])\n",
    "\n",
    "for val in ['6M', '1Y']:\n",
    "    for tr_name in ['baseline','best','worst','running']:\n",
    "        stats=statistics_dict[(statistics_dict['method']==tr_name) & (statistics_dict['validation length']==val)]\n",
    "        stats=stats.sort_values(by=['level','model','feature'])\n",
    "        row=1 if val=='6M' else 2\n",
    "        if len(stats)==0:\n",
    "            continue\n",
    "        symbol = [marker_signs[i] for i in stats['level']]\n",
    "        line_symbol = [dashes[i] for i in stats['level']]\n",
    "\n",
    "        trace= go.Scatter(x=stats[\"model\"]+ \" \"+stats[\"feature\"]+ \" \"+stats[\"level\"] ,y=stats[label],name=stats['method'].values[0]+' '+val,\n",
    "                          marker_symbol=symbol\n",
    "                         ,line=dict(dash='dash' if (stats['validation length']=='1Y').all() else 'solid',color=colors[tr_name])\n",
    "                         ,mode='lines+markers'\n",
    "                         )\n",
    "        fig.add_trace(trace,row=row,col=1)\n",
    "#         fig.update_traces(xaxis=\"x\")\n",
    "        \n",
    "# fig.update_layout(layout)\n",
    "\n",
    "fig.update_layout(xaxis =dict (type = 'category', categoryarray= list_cat),yaxis=dict(title=label),title=\"Performance of 6M validation vs. 1Y validation\")\n",
    "fig.update_yaxes(tickvals=np.arange(-0.05,0.2,0.05), range=[-0.05,0.2], fixedrange=True)\n",
    "fig.show()\n",
    "fig.write_image(f'../imgs/annual_returns.pdf', engine=\"kaleido\")\n",
    "fig.write_image(f'../imgs/annual_returns.png', engine=\"kaleido\")"
   ]
  },
  {
   "cell_type": "code",
   "execution_count": 166,
   "id": "included-penalty",
   "metadata": {},
   "outputs": [
    {
     "data": {
      "application/vnd.plotly.v1+json": {
       "config": {
        "plotlyServerURL": "https://plot.ly"
       },
       "data": [
        {
         "marker": {
          "symbol": [
           "x",
           "x",
           "x",
           "x",
           "x",
           "x",
           "x",
           "x",
           "x",
           "x",
           "x",
           "x",
           "circle",
           "circle",
           "circle",
           "circle",
           "circle",
           "circle",
           "circle",
           "circle",
           "circle",
           "circle",
           "circle"
          ]
         },
         "mode": "lines+markers",
         "name": "baseline",
         "type": "scatter",
         "x": [
          "RF LR stock validation=1Y",
          "RF LR stock validation=6M",
          "RF TI stock validation=1Y",
          "RF TI stock validation=6M",
          "SVR LR stock validation=1Y",
          "SVR LR stock validation=6M",
          "SVR TI stock validation=1Y",
          "SVR TI stock validation=6M",
          "LGB LR stock validation=1Y",
          "LGB LR stock validation=6M",
          "LGB TI stock validation=1Y",
          "LGB TI stock validation=6M",
          "RF LR sector validation=1Y",
          "RF LR sector validation=6M",
          "RF TI sector validation=1Y",
          "RF TI sector validation=6M",
          "SVR LR sector validation=1Y",
          "SVR LR sector validation=6M",
          "SVR TI sector validation=1Y",
          "LGB LR sector validation=1Y",
          "LGB LR sector validation=6M",
          "LGB TI sector validation=1Y",
          "LGB TI sector validation=6M"
         ],
         "y": [
          18.13044424469369,
          17.024069144514453,
          19.23302139186916,
          18.022581914864684,
          18.105579096316852,
          17.001022005544446,
          27.078348326709673,
          28.9489738651262,
          18.848812351405652,
          17.658354979611282,
          18.853816119386586,
          19.052722269065733,
          18.736607618999777,
          17.588436392891982,
          19.620595218248553,
          18.736933608229265,
          18.099603072919916,
          22.957168642044625,
          20.99265523493718,
          19.198794676847267,
          18.064799026584076,
          19.073010272220873,
          17.93948494165805
         ]
        },
        {
         "marker": {
          "symbol": [
           "x",
           "x",
           "x",
           "x",
           "x",
           "x",
           "x",
           "x",
           "x",
           "x",
           "x",
           "x",
           "circle",
           "circle",
           "circle",
           "circle",
           "circle",
           "circle",
           "circle",
           "circle",
           "circle",
           "circle",
           "circle"
          ]
         },
         "mode": "lines+markers",
         "name": "best",
         "type": "scatter",
         "x": [
          "RF LR stock validation=1Y",
          "RF LR stock validation=6M",
          "RF TI stock validation=1Y",
          "RF TI stock validation=6M",
          "SVR LR stock validation=1Y",
          "SVR LR stock validation=6M",
          "SVR TI stock validation=1Y",
          "SVR TI stock validation=6M",
          "LGB LR stock validation=1Y",
          "LGB LR stock validation=6M",
          "LGB TI stock validation=1Y",
          "LGB TI stock validation=6M",
          "RF LR sector validation=1Y",
          "RF LR sector validation=6M",
          "RF TI sector validation=1Y",
          "RF TI sector validation=6M",
          "SVR LR sector validation=1Y",
          "SVR LR sector validation=6M",
          "SVR TI sector validation=1Y",
          "LGB LR sector validation=1Y",
          "LGB LR sector validation=6M",
          "LGB TI sector validation=1Y",
          "LGB TI sector validation=6M"
         ],
         "y": [
          18.13690411927386,
          17.03431424756386,
          19.298073313435502,
          18.06475873128722,
          18.092754867043507,
          16.99267830469753,
          26.490737926942387,
          28.351209973788894,
          18.797578516469354,
          17.600345621411897,
          18.846240423722584,
          19.169889174184352,
          18.723961499509482,
          17.57373103765013,
          19.51171630025824,
          18.72431480724354,
          18.096542413587148,
          22.943506308416655,
          20.627961807749045,
          19.19126728731095,
          18.05937513343046,
          19.042275643919528,
          17.902042720425285
         ]
        },
        {
         "marker": {
          "symbol": [
           "x",
           "x",
           "x",
           "x",
           "x",
           "x",
           "x",
           "x",
           "x",
           "x",
           "x",
           "x",
           "circle",
           "circle",
           "circle",
           "circle",
           "circle",
           "circle",
           "circle",
           "circle",
           "circle",
           "circle",
           "circle"
          ]
         },
         "mode": "lines+markers",
         "name": "worst",
         "type": "scatter",
         "x": [
          "RF LR stock validation=1Y",
          "RF LR stock validation=6M",
          "RF TI stock validation=1Y",
          "RF TI stock validation=6M",
          "SVR LR stock validation=1Y",
          "SVR LR stock validation=6M",
          "SVR TI stock validation=1Y",
          "SVR TI stock validation=6M",
          "LGB LR stock validation=1Y",
          "LGB LR stock validation=6M",
          "LGB TI stock validation=1Y",
          "LGB TI stock validation=6M",
          "RF LR sector validation=1Y",
          "RF LR sector validation=6M",
          "RF TI sector validation=1Y",
          "RF TI sector validation=6M",
          "SVR LR sector validation=1Y",
          "SVR LR sector validation=6M",
          "SVR TI sector validation=1Y",
          "LGB LR sector validation=1Y",
          "LGB LR sector validation=6M",
          "LGB TI sector validation=1Y",
          "LGB TI sector validation=6M"
         ],
         "y": [
          18.132697027628858,
          17.02539893958333,
          19.306485114234693,
          18.074497017361455,
          18.105432362884653,
          17.001022005544446,
          26.991390476098346,
          28.747284001564708,
          18.848568891265174,
          17.659278347976542,
          18.847027404676044,
          19.033362171197638,
          18.738184249113754,
          17.588366926178317,
          19.64060668866625,
          18.74063035911135,
          18.10096996907325,
          22.955396210785253,
          20.825225111073635,
          19.199750825208735,
          18.05999397426455,
          19.05773248736356,
          17.93266834146856
         ]
        },
        {
         "marker": {
          "symbol": [
           "x",
           "x",
           "x",
           "x",
           "x",
           "x",
           "x",
           "x",
           "x",
           "x",
           "x",
           "x",
           "circle",
           "circle",
           "circle",
           "circle",
           "circle",
           "circle",
           "circle",
           "circle",
           "circle",
           "circle",
           "circle"
          ]
         },
         "mode": "lines+markers",
         "name": "running",
         "type": "scatter",
         "x": [
          "RF LR stock validation=1Y",
          "RF LR stock validation=6M",
          "RF TI stock validation=1Y",
          "RF TI stock validation=6M",
          "SVR LR stock validation=1Y",
          "SVR LR stock validation=6M",
          "SVR TI stock validation=1Y",
          "SVR TI stock validation=6M",
          "LGB LR stock validation=1Y",
          "LGB LR stock validation=6M",
          "LGB TI stock validation=1Y",
          "LGB TI stock validation=6M",
          "RF LR sector validation=1Y",
          "RF LR sector validation=6M",
          "RF TI sector validation=1Y",
          "RF TI sector validation=6M",
          "SVR LR sector validation=1Y",
          "SVR LR sector validation=6M",
          "SVR TI sector validation=1Y",
          "LGB LR sector validation=1Y",
          "LGB LR sector validation=6M",
          "LGB TI sector validation=1Y",
          "LGB TI sector validation=6M"
         ],
         "y": [
          18.132920406885454,
          17.026627132111408,
          19.315683780089753,
          18.100561261617596,
          18.102957560698606,
          16.997121640994184,
          26.561827865202094,
          28.48081967157725,
          18.821000942404403,
          17.621151667599786,
          18.853970469491017,
          19.159886456674986,
          18.736459122185277,
          17.587027259491638,
          19.58676446955372,
          18.74051136125758,
          18.0980301941288,
          22.95321241695385,
          20.72792510547901,
          19.20191015105556,
          18.061387410555,
          19.067500087557406,
          17.93390726989542
         ]
        }
       ],
       "layout": {
        "template": {
         "data": {
          "bar": [
           {
            "error_x": {
             "color": "#2a3f5f"
            },
            "error_y": {
             "color": "#2a3f5f"
            },
            "marker": {
             "line": {
              "color": "#E5ECF6",
              "width": 0.5
             }
            },
            "type": "bar"
           }
          ],
          "barpolar": [
           {
            "marker": {
             "line": {
              "color": "#E5ECF6",
              "width": 0.5
             }
            },
            "type": "barpolar"
           }
          ],
          "carpet": [
           {
            "aaxis": {
             "endlinecolor": "#2a3f5f",
             "gridcolor": "white",
             "linecolor": "white",
             "minorgridcolor": "white",
             "startlinecolor": "#2a3f5f"
            },
            "baxis": {
             "endlinecolor": "#2a3f5f",
             "gridcolor": "white",
             "linecolor": "white",
             "minorgridcolor": "white",
             "startlinecolor": "#2a3f5f"
            },
            "type": "carpet"
           }
          ],
          "choropleth": [
           {
            "colorbar": {
             "outlinewidth": 0,
             "ticks": ""
            },
            "type": "choropleth"
           }
          ],
          "contour": [
           {
            "colorbar": {
             "outlinewidth": 0,
             "ticks": ""
            },
            "colorscale": [
             [
              0,
              "#0d0887"
             ],
             [
              0.1111111111111111,
              "#46039f"
             ],
             [
              0.2222222222222222,
              "#7201a8"
             ],
             [
              0.3333333333333333,
              "#9c179e"
             ],
             [
              0.4444444444444444,
              "#bd3786"
             ],
             [
              0.5555555555555556,
              "#d8576b"
             ],
             [
              0.6666666666666666,
              "#ed7953"
             ],
             [
              0.7777777777777778,
              "#fb9f3a"
             ],
             [
              0.8888888888888888,
              "#fdca26"
             ],
             [
              1,
              "#f0f921"
             ]
            ],
            "type": "contour"
           }
          ],
          "contourcarpet": [
           {
            "colorbar": {
             "outlinewidth": 0,
             "ticks": ""
            },
            "type": "contourcarpet"
           }
          ],
          "heatmap": [
           {
            "colorbar": {
             "outlinewidth": 0,
             "ticks": ""
            },
            "colorscale": [
             [
              0,
              "#0d0887"
             ],
             [
              0.1111111111111111,
              "#46039f"
             ],
             [
              0.2222222222222222,
              "#7201a8"
             ],
             [
              0.3333333333333333,
              "#9c179e"
             ],
             [
              0.4444444444444444,
              "#bd3786"
             ],
             [
              0.5555555555555556,
              "#d8576b"
             ],
             [
              0.6666666666666666,
              "#ed7953"
             ],
             [
              0.7777777777777778,
              "#fb9f3a"
             ],
             [
              0.8888888888888888,
              "#fdca26"
             ],
             [
              1,
              "#f0f921"
             ]
            ],
            "type": "heatmap"
           }
          ],
          "heatmapgl": [
           {
            "colorbar": {
             "outlinewidth": 0,
             "ticks": ""
            },
            "colorscale": [
             [
              0,
              "#0d0887"
             ],
             [
              0.1111111111111111,
              "#46039f"
             ],
             [
              0.2222222222222222,
              "#7201a8"
             ],
             [
              0.3333333333333333,
              "#9c179e"
             ],
             [
              0.4444444444444444,
              "#bd3786"
             ],
             [
              0.5555555555555556,
              "#d8576b"
             ],
             [
              0.6666666666666666,
              "#ed7953"
             ],
             [
              0.7777777777777778,
              "#fb9f3a"
             ],
             [
              0.8888888888888888,
              "#fdca26"
             ],
             [
              1,
              "#f0f921"
             ]
            ],
            "type": "heatmapgl"
           }
          ],
          "histogram": [
           {
            "marker": {
             "colorbar": {
              "outlinewidth": 0,
              "ticks": ""
             }
            },
            "type": "histogram"
           }
          ],
          "histogram2d": [
           {
            "colorbar": {
             "outlinewidth": 0,
             "ticks": ""
            },
            "colorscale": [
             [
              0,
              "#0d0887"
             ],
             [
              0.1111111111111111,
              "#46039f"
             ],
             [
              0.2222222222222222,
              "#7201a8"
             ],
             [
              0.3333333333333333,
              "#9c179e"
             ],
             [
              0.4444444444444444,
              "#bd3786"
             ],
             [
              0.5555555555555556,
              "#d8576b"
             ],
             [
              0.6666666666666666,
              "#ed7953"
             ],
             [
              0.7777777777777778,
              "#fb9f3a"
             ],
             [
              0.8888888888888888,
              "#fdca26"
             ],
             [
              1,
              "#f0f921"
             ]
            ],
            "type": "histogram2d"
           }
          ],
          "histogram2dcontour": [
           {
            "colorbar": {
             "outlinewidth": 0,
             "ticks": ""
            },
            "colorscale": [
             [
              0,
              "#0d0887"
             ],
             [
              0.1111111111111111,
              "#46039f"
             ],
             [
              0.2222222222222222,
              "#7201a8"
             ],
             [
              0.3333333333333333,
              "#9c179e"
             ],
             [
              0.4444444444444444,
              "#bd3786"
             ],
             [
              0.5555555555555556,
              "#d8576b"
             ],
             [
              0.6666666666666666,
              "#ed7953"
             ],
             [
              0.7777777777777778,
              "#fb9f3a"
             ],
             [
              0.8888888888888888,
              "#fdca26"
             ],
             [
              1,
              "#f0f921"
             ]
            ],
            "type": "histogram2dcontour"
           }
          ],
          "mesh3d": [
           {
            "colorbar": {
             "outlinewidth": 0,
             "ticks": ""
            },
            "type": "mesh3d"
           }
          ],
          "parcoords": [
           {
            "line": {
             "colorbar": {
              "outlinewidth": 0,
              "ticks": ""
             }
            },
            "type": "parcoords"
           }
          ],
          "pie": [
           {
            "automargin": true,
            "type": "pie"
           }
          ],
          "scatter": [
           {
            "marker": {
             "colorbar": {
              "outlinewidth": 0,
              "ticks": ""
             }
            },
            "type": "scatter"
           }
          ],
          "scatter3d": [
           {
            "line": {
             "colorbar": {
              "outlinewidth": 0,
              "ticks": ""
             }
            },
            "marker": {
             "colorbar": {
              "outlinewidth": 0,
              "ticks": ""
             }
            },
            "type": "scatter3d"
           }
          ],
          "scattercarpet": [
           {
            "marker": {
             "colorbar": {
              "outlinewidth": 0,
              "ticks": ""
             }
            },
            "type": "scattercarpet"
           }
          ],
          "scattergeo": [
           {
            "marker": {
             "colorbar": {
              "outlinewidth": 0,
              "ticks": ""
             }
            },
            "type": "scattergeo"
           }
          ],
          "scattergl": [
           {
            "marker": {
             "colorbar": {
              "outlinewidth": 0,
              "ticks": ""
             }
            },
            "type": "scattergl"
           }
          ],
          "scattermapbox": [
           {
            "marker": {
             "colorbar": {
              "outlinewidth": 0,
              "ticks": ""
             }
            },
            "type": "scattermapbox"
           }
          ],
          "scatterpolar": [
           {
            "marker": {
             "colorbar": {
              "outlinewidth": 0,
              "ticks": ""
             }
            },
            "type": "scatterpolar"
           }
          ],
          "scatterpolargl": [
           {
            "marker": {
             "colorbar": {
              "outlinewidth": 0,
              "ticks": ""
             }
            },
            "type": "scatterpolargl"
           }
          ],
          "scatterternary": [
           {
            "marker": {
             "colorbar": {
              "outlinewidth": 0,
              "ticks": ""
             }
            },
            "type": "scatterternary"
           }
          ],
          "surface": [
           {
            "colorbar": {
             "outlinewidth": 0,
             "ticks": ""
            },
            "colorscale": [
             [
              0,
              "#0d0887"
             ],
             [
              0.1111111111111111,
              "#46039f"
             ],
             [
              0.2222222222222222,
              "#7201a8"
             ],
             [
              0.3333333333333333,
              "#9c179e"
             ],
             [
              0.4444444444444444,
              "#bd3786"
             ],
             [
              0.5555555555555556,
              "#d8576b"
             ],
             [
              0.6666666666666666,
              "#ed7953"
             ],
             [
              0.7777777777777778,
              "#fb9f3a"
             ],
             [
              0.8888888888888888,
              "#fdca26"
             ],
             [
              1,
              "#f0f921"
             ]
            ],
            "type": "surface"
           }
          ],
          "table": [
           {
            "cells": {
             "fill": {
              "color": "#EBF0F8"
             },
             "line": {
              "color": "white"
             }
            },
            "header": {
             "fill": {
              "color": "#C8D4E3"
             },
             "line": {
              "color": "white"
             }
            },
            "type": "table"
           }
          ]
         },
         "layout": {
          "annotationdefaults": {
           "arrowcolor": "#2a3f5f",
           "arrowhead": 0,
           "arrowwidth": 1
          },
          "autotypenumbers": "strict",
          "coloraxis": {
           "colorbar": {
            "outlinewidth": 0,
            "ticks": ""
           }
          },
          "colorscale": {
           "diverging": [
            [
             0,
             "#8e0152"
            ],
            [
             0.1,
             "#c51b7d"
            ],
            [
             0.2,
             "#de77ae"
            ],
            [
             0.3,
             "#f1b6da"
            ],
            [
             0.4,
             "#fde0ef"
            ],
            [
             0.5,
             "#f7f7f7"
            ],
            [
             0.6,
             "#e6f5d0"
            ],
            [
             0.7,
             "#b8e186"
            ],
            [
             0.8,
             "#7fbc41"
            ],
            [
             0.9,
             "#4d9221"
            ],
            [
             1,
             "#276419"
            ]
           ],
           "sequential": [
            [
             0,
             "#0d0887"
            ],
            [
             0.1111111111111111,
             "#46039f"
            ],
            [
             0.2222222222222222,
             "#7201a8"
            ],
            [
             0.3333333333333333,
             "#9c179e"
            ],
            [
             0.4444444444444444,
             "#bd3786"
            ],
            [
             0.5555555555555556,
             "#d8576b"
            ],
            [
             0.6666666666666666,
             "#ed7953"
            ],
            [
             0.7777777777777778,
             "#fb9f3a"
            ],
            [
             0.8888888888888888,
             "#fdca26"
            ],
            [
             1,
             "#f0f921"
            ]
           ],
           "sequentialminus": [
            [
             0,
             "#0d0887"
            ],
            [
             0.1111111111111111,
             "#46039f"
            ],
            [
             0.2222222222222222,
             "#7201a8"
            ],
            [
             0.3333333333333333,
             "#9c179e"
            ],
            [
             0.4444444444444444,
             "#bd3786"
            ],
            [
             0.5555555555555556,
             "#d8576b"
            ],
            [
             0.6666666666666666,
             "#ed7953"
            ],
            [
             0.7777777777777778,
             "#fb9f3a"
            ],
            [
             0.8888888888888888,
             "#fdca26"
            ],
            [
             1,
             "#f0f921"
            ]
           ]
          },
          "colorway": [
           "#636efa",
           "#EF553B",
           "#00cc96",
           "#ab63fa",
           "#FFA15A",
           "#19d3f3",
           "#FF6692",
           "#B6E880",
           "#FF97FF",
           "#FECB52"
          ],
          "font": {
           "color": "#2a3f5f"
          },
          "geo": {
           "bgcolor": "white",
           "lakecolor": "white",
           "landcolor": "#E5ECF6",
           "showlakes": true,
           "showland": true,
           "subunitcolor": "white"
          },
          "hoverlabel": {
           "align": "left"
          },
          "hovermode": "closest",
          "mapbox": {
           "style": "light"
          },
          "paper_bgcolor": "white",
          "plot_bgcolor": "#E5ECF6",
          "polar": {
           "angularaxis": {
            "gridcolor": "white",
            "linecolor": "white",
            "ticks": ""
           },
           "bgcolor": "#E5ECF6",
           "radialaxis": {
            "gridcolor": "white",
            "linecolor": "white",
            "ticks": ""
           }
          },
          "scene": {
           "xaxis": {
            "backgroundcolor": "#E5ECF6",
            "gridcolor": "white",
            "gridwidth": 2,
            "linecolor": "white",
            "showbackground": true,
            "ticks": "",
            "zerolinecolor": "white"
           },
           "yaxis": {
            "backgroundcolor": "#E5ECF6",
            "gridcolor": "white",
            "gridwidth": 2,
            "linecolor": "white",
            "showbackground": true,
            "ticks": "",
            "zerolinecolor": "white"
           },
           "zaxis": {
            "backgroundcolor": "#E5ECF6",
            "gridcolor": "white",
            "gridwidth": 2,
            "linecolor": "white",
            "showbackground": true,
            "ticks": "",
            "zerolinecolor": "white"
           }
          },
          "shapedefaults": {
           "line": {
            "color": "#2a3f5f"
           }
          },
          "ternary": {
           "aaxis": {
            "gridcolor": "white",
            "linecolor": "white",
            "ticks": ""
           },
           "baxis": {
            "gridcolor": "white",
            "linecolor": "white",
            "ticks": ""
           },
           "bgcolor": "#E5ECF6",
           "caxis": {
            "gridcolor": "white",
            "linecolor": "white",
            "ticks": ""
           }
          },
          "title": {
           "x": 0.05
          },
          "xaxis": {
           "automargin": true,
           "gridcolor": "white",
           "linecolor": "white",
           "ticks": "",
           "title": {
            "standoff": 15
           },
           "zerolinecolor": "white",
           "zerolinewidth": 2
          },
          "yaxis": {
           "automargin": true,
           "gridcolor": "white",
           "linecolor": "white",
           "ticks": "",
           "title": {
            "standoff": 15
           },
           "zerolinecolor": "white",
           "zerolinewidth": 2
          }
         }
        }
       }
      },
      "text/html": [
       "<div>                            <div id=\"758131b4-f3b4-4d96-a9fb-c8bda5e1c5cb\" class=\"plotly-graph-div\" style=\"height:525px; width:100%;\"></div>            <script type=\"text/javascript\">                require([\"plotly\"], function(Plotly) {                    window.PLOTLYENV=window.PLOTLYENV || {};                                    if (document.getElementById(\"758131b4-f3b4-4d96-a9fb-c8bda5e1c5cb\")) {                    Plotly.newPlot(                        \"758131b4-f3b4-4d96-a9fb-c8bda5e1c5cb\",                        [{\"marker\": {\"symbol\": [\"x\", \"x\", \"x\", \"x\", \"x\", \"x\", \"x\", \"x\", \"x\", \"x\", \"x\", \"x\", \"circle\", \"circle\", \"circle\", \"circle\", \"circle\", \"circle\", \"circle\", \"circle\", \"circle\", \"circle\", \"circle\"]}, \"mode\": \"lines+markers\", \"name\": \"baseline\", \"type\": \"scatter\", \"x\": [\"RF LR stock validation=1Y\", \"RF LR stock validation=6M\", \"RF TI stock validation=1Y\", \"RF TI stock validation=6M\", \"SVR LR stock validation=1Y\", \"SVR LR stock validation=6M\", \"SVR TI stock validation=1Y\", \"SVR TI stock validation=6M\", \"LGB LR stock validation=1Y\", \"LGB LR stock validation=6M\", \"LGB TI stock validation=1Y\", \"LGB TI stock validation=6M\", \"RF LR sector validation=1Y\", \"RF LR sector validation=6M\", \"RF TI sector validation=1Y\", \"RF TI sector validation=6M\", \"SVR LR sector validation=1Y\", \"SVR LR sector validation=6M\", \"SVR TI sector validation=1Y\", \"LGB LR sector validation=1Y\", \"LGB LR sector validation=6M\", \"LGB TI sector validation=1Y\", \"LGB TI sector validation=6M\"], \"y\": [18.13044424469369, 17.024069144514453, 19.23302139186916, 18.022581914864684, 18.105579096316852, 17.001022005544446, 27.078348326709673, 28.9489738651262, 18.848812351405652, 17.658354979611282, 18.853816119386586, 19.052722269065733, 18.736607618999777, 17.588436392891982, 19.620595218248553, 18.736933608229265, 18.099603072919916, 22.957168642044625, 20.99265523493718, 19.198794676847267, 18.064799026584076, 19.073010272220873, 17.93948494165805]}, {\"marker\": {\"symbol\": [\"x\", \"x\", \"x\", \"x\", \"x\", \"x\", \"x\", \"x\", \"x\", \"x\", \"x\", \"x\", \"circle\", \"circle\", \"circle\", \"circle\", \"circle\", \"circle\", \"circle\", \"circle\", \"circle\", \"circle\", \"circle\"]}, \"mode\": \"lines+markers\", \"name\": \"best\", \"type\": \"scatter\", \"x\": [\"RF LR stock validation=1Y\", \"RF LR stock validation=6M\", \"RF TI stock validation=1Y\", \"RF TI stock validation=6M\", \"SVR LR stock validation=1Y\", \"SVR LR stock validation=6M\", \"SVR TI stock validation=1Y\", \"SVR TI stock validation=6M\", \"LGB LR stock validation=1Y\", \"LGB LR stock validation=6M\", \"LGB TI stock validation=1Y\", \"LGB TI stock validation=6M\", \"RF LR sector validation=1Y\", \"RF LR sector validation=6M\", \"RF TI sector validation=1Y\", \"RF TI sector validation=6M\", \"SVR LR sector validation=1Y\", \"SVR LR sector validation=6M\", \"SVR TI sector validation=1Y\", \"LGB LR sector validation=1Y\", \"LGB LR sector validation=6M\", \"LGB TI sector validation=1Y\", \"LGB TI sector validation=6M\"], \"y\": [18.13690411927386, 17.03431424756386, 19.298073313435502, 18.06475873128722, 18.092754867043507, 16.99267830469753, 26.490737926942387, 28.351209973788894, 18.797578516469354, 17.600345621411897, 18.846240423722584, 19.169889174184352, 18.723961499509482, 17.57373103765013, 19.51171630025824, 18.72431480724354, 18.096542413587148, 22.943506308416655, 20.627961807749045, 19.19126728731095, 18.05937513343046, 19.042275643919528, 17.902042720425285]}, {\"marker\": {\"symbol\": [\"x\", \"x\", \"x\", \"x\", \"x\", \"x\", \"x\", \"x\", \"x\", \"x\", \"x\", \"x\", \"circle\", \"circle\", \"circle\", \"circle\", \"circle\", \"circle\", \"circle\", \"circle\", \"circle\", \"circle\", \"circle\"]}, \"mode\": \"lines+markers\", \"name\": \"worst\", \"type\": \"scatter\", \"x\": [\"RF LR stock validation=1Y\", \"RF LR stock validation=6M\", \"RF TI stock validation=1Y\", \"RF TI stock validation=6M\", \"SVR LR stock validation=1Y\", \"SVR LR stock validation=6M\", \"SVR TI stock validation=1Y\", \"SVR TI stock validation=6M\", \"LGB LR stock validation=1Y\", \"LGB LR stock validation=6M\", \"LGB TI stock validation=1Y\", \"LGB TI stock validation=6M\", \"RF LR sector validation=1Y\", \"RF LR sector validation=6M\", \"RF TI sector validation=1Y\", \"RF TI sector validation=6M\", \"SVR LR sector validation=1Y\", \"SVR LR sector validation=6M\", \"SVR TI sector validation=1Y\", \"LGB LR sector validation=1Y\", \"LGB LR sector validation=6M\", \"LGB TI sector validation=1Y\", \"LGB TI sector validation=6M\"], \"y\": [18.132697027628858, 17.02539893958333, 19.306485114234693, 18.074497017361455, 18.105432362884653, 17.001022005544446, 26.991390476098346, 28.747284001564708, 18.848568891265174, 17.659278347976542, 18.847027404676044, 19.033362171197638, 18.738184249113754, 17.588366926178317, 19.64060668866625, 18.74063035911135, 18.10096996907325, 22.955396210785253, 20.825225111073635, 19.199750825208735, 18.05999397426455, 19.05773248736356, 17.93266834146856]}, {\"marker\": {\"symbol\": [\"x\", \"x\", \"x\", \"x\", \"x\", \"x\", \"x\", \"x\", \"x\", \"x\", \"x\", \"x\", \"circle\", \"circle\", \"circle\", \"circle\", \"circle\", \"circle\", \"circle\", \"circle\", \"circle\", \"circle\", \"circle\"]}, \"mode\": \"lines+markers\", \"name\": \"running\", \"type\": \"scatter\", \"x\": [\"RF LR stock validation=1Y\", \"RF LR stock validation=6M\", \"RF TI stock validation=1Y\", \"RF TI stock validation=6M\", \"SVR LR stock validation=1Y\", \"SVR LR stock validation=6M\", \"SVR TI stock validation=1Y\", \"SVR TI stock validation=6M\", \"LGB LR stock validation=1Y\", \"LGB LR stock validation=6M\", \"LGB TI stock validation=1Y\", \"LGB TI stock validation=6M\", \"RF LR sector validation=1Y\", \"RF LR sector validation=6M\", \"RF TI sector validation=1Y\", \"RF TI sector validation=6M\", \"SVR LR sector validation=1Y\", \"SVR LR sector validation=6M\", \"SVR TI sector validation=1Y\", \"LGB LR sector validation=1Y\", \"LGB LR sector validation=6M\", \"LGB TI sector validation=1Y\", \"LGB TI sector validation=6M\"], \"y\": [18.132920406885454, 17.026627132111408, 19.315683780089753, 18.100561261617596, 18.102957560698606, 16.997121640994184, 26.561827865202094, 28.48081967157725, 18.821000942404403, 17.621151667599786, 18.853970469491017, 19.159886456674986, 18.736459122185277, 17.587027259491638, 19.58676446955372, 18.74051136125758, 18.0980301941288, 22.95321241695385, 20.72792510547901, 19.20191015105556, 18.061387410555, 19.067500087557406, 17.93390726989542]}],                        {\"template\": {\"data\": {\"bar\": [{\"error_x\": {\"color\": \"#2a3f5f\"}, \"error_y\": {\"color\": \"#2a3f5f\"}, \"marker\": {\"line\": {\"color\": \"#E5ECF6\", \"width\": 0.5}}, \"type\": \"bar\"}], \"barpolar\": [{\"marker\": {\"line\": {\"color\": \"#E5ECF6\", \"width\": 0.5}}, \"type\": \"barpolar\"}], \"carpet\": [{\"aaxis\": {\"endlinecolor\": \"#2a3f5f\", \"gridcolor\": \"white\", \"linecolor\": \"white\", \"minorgridcolor\": \"white\", \"startlinecolor\": \"#2a3f5f\"}, \"baxis\": {\"endlinecolor\": \"#2a3f5f\", \"gridcolor\": \"white\", \"linecolor\": \"white\", \"minorgridcolor\": \"white\", \"startlinecolor\": \"#2a3f5f\"}, \"type\": \"carpet\"}], \"choropleth\": [{\"colorbar\": {\"outlinewidth\": 0, \"ticks\": \"\"}, \"type\": \"choropleth\"}], \"contour\": [{\"colorbar\": {\"outlinewidth\": 0, \"ticks\": \"\"}, \"colorscale\": [[0.0, \"#0d0887\"], [0.1111111111111111, \"#46039f\"], [0.2222222222222222, \"#7201a8\"], [0.3333333333333333, \"#9c179e\"], [0.4444444444444444, \"#bd3786\"], [0.5555555555555556, \"#d8576b\"], [0.6666666666666666, \"#ed7953\"], [0.7777777777777778, \"#fb9f3a\"], [0.8888888888888888, \"#fdca26\"], [1.0, \"#f0f921\"]], \"type\": \"contour\"}], \"contourcarpet\": [{\"colorbar\": {\"outlinewidth\": 0, \"ticks\": \"\"}, \"type\": \"contourcarpet\"}], \"heatmap\": [{\"colorbar\": {\"outlinewidth\": 0, \"ticks\": \"\"}, \"colorscale\": [[0.0, \"#0d0887\"], [0.1111111111111111, \"#46039f\"], [0.2222222222222222, \"#7201a8\"], [0.3333333333333333, \"#9c179e\"], [0.4444444444444444, \"#bd3786\"], [0.5555555555555556, \"#d8576b\"], [0.6666666666666666, \"#ed7953\"], [0.7777777777777778, \"#fb9f3a\"], [0.8888888888888888, \"#fdca26\"], [1.0, \"#f0f921\"]], \"type\": \"heatmap\"}], \"heatmapgl\": [{\"colorbar\": {\"outlinewidth\": 0, \"ticks\": \"\"}, \"colorscale\": [[0.0, \"#0d0887\"], [0.1111111111111111, \"#46039f\"], [0.2222222222222222, \"#7201a8\"], [0.3333333333333333, \"#9c179e\"], [0.4444444444444444, \"#bd3786\"], [0.5555555555555556, \"#d8576b\"], [0.6666666666666666, \"#ed7953\"], [0.7777777777777778, \"#fb9f3a\"], [0.8888888888888888, \"#fdca26\"], [1.0, \"#f0f921\"]], \"type\": \"heatmapgl\"}], \"histogram\": [{\"marker\": {\"colorbar\": {\"outlinewidth\": 0, \"ticks\": \"\"}}, \"type\": \"histogram\"}], \"histogram2d\": [{\"colorbar\": {\"outlinewidth\": 0, \"ticks\": \"\"}, \"colorscale\": [[0.0, \"#0d0887\"], [0.1111111111111111, \"#46039f\"], [0.2222222222222222, \"#7201a8\"], [0.3333333333333333, \"#9c179e\"], [0.4444444444444444, \"#bd3786\"], [0.5555555555555556, \"#d8576b\"], [0.6666666666666666, \"#ed7953\"], [0.7777777777777778, \"#fb9f3a\"], [0.8888888888888888, \"#fdca26\"], [1.0, \"#f0f921\"]], \"type\": \"histogram2d\"}], \"histogram2dcontour\": [{\"colorbar\": {\"outlinewidth\": 0, \"ticks\": \"\"}, \"colorscale\": [[0.0, \"#0d0887\"], [0.1111111111111111, \"#46039f\"], [0.2222222222222222, \"#7201a8\"], [0.3333333333333333, \"#9c179e\"], [0.4444444444444444, \"#bd3786\"], [0.5555555555555556, \"#d8576b\"], [0.6666666666666666, \"#ed7953\"], [0.7777777777777778, \"#fb9f3a\"], [0.8888888888888888, \"#fdca26\"], [1.0, \"#f0f921\"]], \"type\": \"histogram2dcontour\"}], \"mesh3d\": [{\"colorbar\": {\"outlinewidth\": 0, \"ticks\": \"\"}, \"type\": \"mesh3d\"}], \"parcoords\": [{\"line\": {\"colorbar\": {\"outlinewidth\": 0, \"ticks\": \"\"}}, \"type\": \"parcoords\"}], \"pie\": [{\"automargin\": true, \"type\": \"pie\"}], \"scatter\": [{\"marker\": {\"colorbar\": {\"outlinewidth\": 0, \"ticks\": \"\"}}, \"type\": \"scatter\"}], \"scatter3d\": [{\"line\": {\"colorbar\": {\"outlinewidth\": 0, \"ticks\": \"\"}}, \"marker\": {\"colorbar\": {\"outlinewidth\": 0, \"ticks\": \"\"}}, \"type\": \"scatter3d\"}], \"scattercarpet\": [{\"marker\": {\"colorbar\": {\"outlinewidth\": 0, \"ticks\": \"\"}}, \"type\": \"scattercarpet\"}], \"scattergeo\": [{\"marker\": {\"colorbar\": {\"outlinewidth\": 0, \"ticks\": \"\"}}, \"type\": \"scattergeo\"}], \"scattergl\": [{\"marker\": {\"colorbar\": {\"outlinewidth\": 0, \"ticks\": \"\"}}, \"type\": \"scattergl\"}], \"scattermapbox\": [{\"marker\": {\"colorbar\": {\"outlinewidth\": 0, \"ticks\": \"\"}}, \"type\": \"scattermapbox\"}], \"scatterpolar\": [{\"marker\": {\"colorbar\": {\"outlinewidth\": 0, \"ticks\": \"\"}}, \"type\": \"scatterpolar\"}], \"scatterpolargl\": [{\"marker\": {\"colorbar\": {\"outlinewidth\": 0, \"ticks\": \"\"}}, \"type\": \"scatterpolargl\"}], \"scatterternary\": [{\"marker\": {\"colorbar\": {\"outlinewidth\": 0, \"ticks\": \"\"}}, \"type\": \"scatterternary\"}], \"surface\": [{\"colorbar\": {\"outlinewidth\": 0, \"ticks\": \"\"}, \"colorscale\": [[0.0, \"#0d0887\"], [0.1111111111111111, \"#46039f\"], [0.2222222222222222, \"#7201a8\"], [0.3333333333333333, \"#9c179e\"], [0.4444444444444444, \"#bd3786\"], [0.5555555555555556, \"#d8576b\"], [0.6666666666666666, \"#ed7953\"], [0.7777777777777778, \"#fb9f3a\"], [0.8888888888888888, \"#fdca26\"], [1.0, \"#f0f921\"]], \"type\": \"surface\"}], \"table\": [{\"cells\": {\"fill\": {\"color\": \"#EBF0F8\"}, \"line\": {\"color\": \"white\"}}, \"header\": {\"fill\": {\"color\": \"#C8D4E3\"}, \"line\": {\"color\": \"white\"}}, \"type\": \"table\"}]}, \"layout\": {\"annotationdefaults\": {\"arrowcolor\": \"#2a3f5f\", \"arrowhead\": 0, \"arrowwidth\": 1}, \"autotypenumbers\": \"strict\", \"coloraxis\": {\"colorbar\": {\"outlinewidth\": 0, \"ticks\": \"\"}}, \"colorscale\": {\"diverging\": [[0, \"#8e0152\"], [0.1, \"#c51b7d\"], [0.2, \"#de77ae\"], [0.3, \"#f1b6da\"], [0.4, \"#fde0ef\"], [0.5, \"#f7f7f7\"], [0.6, \"#e6f5d0\"], [0.7, \"#b8e186\"], [0.8, \"#7fbc41\"], [0.9, \"#4d9221\"], [1, \"#276419\"]], \"sequential\": [[0.0, \"#0d0887\"], [0.1111111111111111, \"#46039f\"], [0.2222222222222222, \"#7201a8\"], [0.3333333333333333, \"#9c179e\"], [0.4444444444444444, \"#bd3786\"], [0.5555555555555556, \"#d8576b\"], [0.6666666666666666, \"#ed7953\"], [0.7777777777777778, \"#fb9f3a\"], [0.8888888888888888, \"#fdca26\"], [1.0, \"#f0f921\"]], \"sequentialminus\": [[0.0, \"#0d0887\"], [0.1111111111111111, \"#46039f\"], [0.2222222222222222, \"#7201a8\"], [0.3333333333333333, \"#9c179e\"], [0.4444444444444444, \"#bd3786\"], [0.5555555555555556, \"#d8576b\"], [0.6666666666666666, \"#ed7953\"], [0.7777777777777778, \"#fb9f3a\"], [0.8888888888888888, \"#fdca26\"], [1.0, \"#f0f921\"]]}, \"colorway\": [\"#636efa\", \"#EF553B\", \"#00cc96\", \"#ab63fa\", \"#FFA15A\", \"#19d3f3\", \"#FF6692\", \"#B6E880\", \"#FF97FF\", \"#FECB52\"], \"font\": {\"color\": \"#2a3f5f\"}, \"geo\": {\"bgcolor\": \"white\", \"lakecolor\": \"white\", \"landcolor\": \"#E5ECF6\", \"showlakes\": true, \"showland\": true, \"subunitcolor\": \"white\"}, \"hoverlabel\": {\"align\": \"left\"}, \"hovermode\": \"closest\", \"mapbox\": {\"style\": \"light\"}, \"paper_bgcolor\": \"white\", \"plot_bgcolor\": \"#E5ECF6\", \"polar\": {\"angularaxis\": {\"gridcolor\": \"white\", \"linecolor\": \"white\", \"ticks\": \"\"}, \"bgcolor\": \"#E5ECF6\", \"radialaxis\": {\"gridcolor\": \"white\", \"linecolor\": \"white\", \"ticks\": \"\"}}, \"scene\": {\"xaxis\": {\"backgroundcolor\": \"#E5ECF6\", \"gridcolor\": \"white\", \"gridwidth\": 2, \"linecolor\": \"white\", \"showbackground\": true, \"ticks\": \"\", \"zerolinecolor\": \"white\"}, \"yaxis\": {\"backgroundcolor\": \"#E5ECF6\", \"gridcolor\": \"white\", \"gridwidth\": 2, \"linecolor\": \"white\", \"showbackground\": true, \"ticks\": \"\", \"zerolinecolor\": \"white\"}, \"zaxis\": {\"backgroundcolor\": \"#E5ECF6\", \"gridcolor\": \"white\", \"gridwidth\": 2, \"linecolor\": \"white\", \"showbackground\": true, \"ticks\": \"\", \"zerolinecolor\": \"white\"}}, \"shapedefaults\": {\"line\": {\"color\": \"#2a3f5f\"}}, \"ternary\": {\"aaxis\": {\"gridcolor\": \"white\", \"linecolor\": \"white\", \"ticks\": \"\"}, \"baxis\": {\"gridcolor\": \"white\", \"linecolor\": \"white\", \"ticks\": \"\"}, \"bgcolor\": \"#E5ECF6\", \"caxis\": {\"gridcolor\": \"white\", \"linecolor\": \"white\", \"ticks\": \"\"}}, \"title\": {\"x\": 0.05}, \"xaxis\": {\"automargin\": true, \"gridcolor\": \"white\", \"linecolor\": \"white\", \"ticks\": \"\", \"title\": {\"standoff\": 15}, \"zerolinecolor\": \"white\", \"zerolinewidth\": 2}, \"yaxis\": {\"automargin\": true, \"gridcolor\": \"white\", \"linecolor\": \"white\", \"ticks\": \"\", \"title\": {\"standoff\": 15}, \"zerolinecolor\": \"white\", \"zerolinewidth\": 2}}}},                        {\"responsive\": true}                    ).then(function(){\n",
       "                            \n",
       "var gd = document.getElementById('758131b4-f3b4-4d96-a9fb-c8bda5e1c5cb');\n",
       "var x = new MutationObserver(function (mutations, observer) {{\n",
       "        var display = window.getComputedStyle(gd).display;\n",
       "        if (!display || display === 'none') {{\n",
       "            console.log([gd, 'removed!']);\n",
       "            Plotly.purge(gd);\n",
       "            observer.disconnect();\n",
       "        }}\n",
       "}});\n",
       "\n",
       "// Listen for the removal of the full notebook cells\n",
       "var notebookContainer = gd.closest('#notebook-container');\n",
       "if (notebookContainer) {{\n",
       "    x.observe(notebookContainer, {childList: true});\n",
       "}}\n",
       "\n",
       "// Listen for the clearing of the current output cell\n",
       "var outputEl = gd.closest('.output');\n",
       "if (outputEl) {{\n",
       "    x.observe(outputEl, {childList: true});\n",
       "}}\n",
       "\n",
       "                        })                };                });            </script>        </div>"
      ]
     },
     "metadata": {},
     "output_type": "display_data"
    }
   ],
   "source": [
    "import plotly.express as px\n",
    "\n",
    "marker_signs = {'sector':'circle','stock':'x'}\n",
    "dashes={'sector':'dash','stock':'dashdot','PI running worst':'dot'}\n",
    "fig = go.Figure()\n",
    "for tr_name in ['baseline','best','worst','running']:\n",
    "    stats=statistics_dict[statistics_dict['method']==tr_name]\n",
    "    symbol = [marker_signs[i] for i in stats['level']]\n",
    "    line_symbol = [dashes[i] for i in stats['level']]\n",
    "    fig.add_trace(\n",
    "        go.Scatter(x=stats[\"name\"],y=stats[\"RMSE\"],name=stats['method'].values[0],\n",
    "                  marker_symbol=symbol))\\\n",
    "            .update_traces(mode='lines+markers')\n",
    "fig.show()"
   ]
  },
  {
   "cell_type": "code",
   "execution_count": 6,
   "id": "preceding-shock",
   "metadata": {},
   "outputs": [
    {
     "data": {
      "application/vnd.plotly.v1+json": {
       "config": {
        "plotlyServerURL": "https://plot.ly"
       },
       "data": [
        {
         "line": {
          "color": "black",
          "dash": "solid"
         },
         "marker": {
          "symbol": [
           "circle",
           "circle",
           "circle",
           "circle",
           "circle",
           "x",
           "x",
           "x",
           "x",
           "x",
           "x"
          ]
         },
         "mode": "lines+markers",
         "name": "baseline 6M",
         "type": "scatter",
         "x": [
          "LGB LR sector",
          "LGB TI sector",
          "RF LR sector",
          "RF TI sector",
          "SVR LR sector",
          "LGB LR stock",
          "LGB TI stock",
          "RF LR stock",
          "RF TI stock",
          "SVR LR stock",
          "SVR TI stock"
         ],
         "xaxis": "x",
         "y": [
          4.111134281508577,
          4.012480953151328,
          3.895591684222216,
          4.307835840329022,
          6.633537410028738,
          4.159034325797041,
          4.732912134776314,
          3.962264906361838,
          4.376058324373188,
          3.9454776358680763,
          10.038607483647485
         ],
         "yaxis": "y"
        },
        {
         "line": {
          "color": "#2CA02C",
          "dash": "solid"
         },
         "marker": {
          "symbol": [
           "circle",
           "circle",
           "circle",
           "circle",
           "circle",
           "x",
           "x",
           "x",
           "x",
           "x",
           "x"
          ]
         },
         "mode": "lines+markers",
         "name": "best 6M",
         "type": "scatter",
         "x": [
          "LGB LR sector",
          "LGB TI sector",
          "RF LR sector",
          "RF TI sector",
          "SVR LR sector",
          "LGB LR stock",
          "LGB TI stock",
          "RF LR stock",
          "RF TI stock",
          "SVR LR stock",
          "SVR TI stock"
         ],
         "xaxis": "x",
         "y": [
          4.1051851829083335,
          3.997390711950107,
          3.8891497602297638,
          4.29895386475336,
          6.627177248681566,
          4.138077385850279,
          4.781288824256465,
          3.966038605403224,
          4.394335721840793,
          3.943196593361701,
          9.718107640890173
         ],
         "yaxis": "y"
        },
        {
         "line": {
          "color": "#D62728",
          "dash": "solid"
         },
         "marker": {
          "symbol": [
           "circle",
           "circle",
           "circle",
           "circle",
           "circle",
           "x",
           "x",
           "x",
           "x",
           "x",
           "x"
          ]
         },
         "mode": "lines+markers",
         "name": "worst 6M",
         "type": "scatter",
         "x": [
          "LGB LR sector",
          "LGB TI sector",
          "RF LR sector",
          "RF TI sector",
          "SVR LR sector",
          "LGB LR stock",
          "LGB TI stock",
          "RF LR stock",
          "RF TI stock",
          "SVR LR stock",
          "SVR TI stock"
         ],
         "xaxis": "x",
         "y": [
          4.106549189659285,
          4.010855479083419,
          3.8957975016180626,
          4.310435586517617,
          6.632982821116475,
          4.15969779827359,
          4.723135547008537,
          3.962497191056862,
          4.399627239517966,
          3.9454776358680763,
          9.944207550145837
         ],
         "yaxis": "y"
        },
        {
         "line": {
          "color": "#511CFB",
          "dash": "solid"
         },
         "marker": {
          "symbol": [
           "circle",
           "circle",
           "circle",
           "circle",
           "circle",
           "x",
           "x",
           "x",
           "x",
           "x",
           "x"
          ]
         },
         "mode": "lines+markers",
         "name": "running 6M",
         "type": "scatter",
         "x": [
          "LGB LR sector",
          "LGB TI sector",
          "RF LR sector",
          "RF TI sector",
          "SVR LR sector",
          "LGB LR stock",
          "LGB TI stock",
          "RF LR stock",
          "RF TI stock",
          "SVR LR stock",
          "SVR TI stock"
         ],
         "xaxis": "x",
         "y": [
          4.106682089631266,
          4.0113978916949575,
          3.8953525629908636,
          4.310661666446414,
          6.631866740586708,
          4.145636658098521,
          4.778422373316292,
          3.962926075532775,
          4.413108259502167,
          3.9444099707288607,
          9.763130698529503
         ],
         "yaxis": "y"
        },
        {
         "line": {
          "color": "black",
          "dash": "dash"
         },
         "marker": {
          "symbol": [
           "circle",
           "circle",
           "circle",
           "circle",
           "circle",
           "circle",
           "x",
           "x",
           "x",
           "x",
           "x",
           "x"
          ]
         },
         "mode": "lines+markers",
         "name": "baseline 1Y",
         "type": "scatter",
         "x": [
          "LGB LR sector",
          "LGB TI sector",
          "RF LR sector",
          "RF TI sector",
          "SVR LR sector",
          "SVR TI sector",
          "LGB LR stock",
          "LGB TI stock",
          "RF LR stock",
          "RF TI stock",
          "SVR LR stock",
          "SVR TI stock"
         ],
         "xaxis": "x2",
         "y": [
          4.509151230642937,
          4.410392552938363,
          4.307660079980729,
          4.6988352023168005,
          4.192094956523276,
          5.4267302807778615,
          4.5634069416490375,
          4.3313491451304325,
          4.357585865121816,
          4.840333547990064,
          4.340884129895881,
          8.729440490670664
         ],
         "yaxis": "y2"
        },
        {
         "line": {
          "color": "#2CA02C",
          "dash": "dash"
         },
         "marker": {
          "symbol": [
           "circle",
           "circle",
           "circle",
           "circle",
           "circle",
           "circle",
           "x",
           "x",
           "x",
           "x",
           "x",
           "x"
          ]
         },
         "mode": "lines+markers",
         "name": "best 1Y",
         "type": "scatter",
         "x": [
          "LGB LR sector",
          "LGB TI sector",
          "RF LR sector",
          "RF TI sector",
          "SVR LR sector",
          "SVR TI sector",
          "LGB LR stock",
          "LGB TI stock",
          "RF LR stock",
          "RF TI stock",
          "SVR LR stock",
          "SVR TI stock"
         ],
         "xaxis": "x2",
         "y": [
          4.503815816378114,
          4.398237373904832,
          4.29859680433886,
          4.645624310387417,
          4.1913305289624265,
          5.24134590995297,
          4.542620476008106,
          4.328327811081939,
          4.359342648666486,
          4.871937164142714,
          4.336655434799803,
          8.422607634377481
         ],
         "yaxis": "y2"
        },
        {
         "line": {
          "color": "#D62728",
          "dash": "dash"
         },
         "marker": {
          "symbol": [
           "circle",
           "circle",
           "circle",
           "circle",
           "circle",
           "circle",
           "x",
           "x",
           "x",
           "x",
           "x",
           "x"
          ]
         },
         "mode": "lines+markers",
         "name": "worst 1Y",
         "type": "scatter",
         "x": [
          "LGB LR sector",
          "LGB TI sector",
          "RF LR sector",
          "RF TI sector",
          "SVR LR sector",
          "SVR TI sector",
          "LGB LR stock",
          "LGB TI stock",
          "RF LR stock",
          "RF TI stock",
          "SVR LR stock",
          "SVR TI stock"
         ],
         "xaxis": "x2",
         "y": [
          4.50882918774368,
          4.405136494934549,
          4.308349608441177,
          4.707313663613859,
          4.192649080164733,
          5.360936752333529,
          4.563351231672299,
          4.329744945538745,
          4.3587254564987825,
          4.881394761103167,
          4.340817780699946,
          8.697414655732667
         ],
         "yaxis": "y2"
        },
        {
         "line": {
          "color": "#511CFB",
          "dash": "dash"
         },
         "marker": {
          "symbol": [
           "circle",
           "circle",
           "circle",
           "circle",
           "circle",
           "circle",
           "x",
           "x",
           "x",
           "x",
           "x",
           "x"
          ]
         },
         "mode": "lines+markers",
         "name": "running 1Y",
         "type": "scatter",
         "x": [
          "LGB LR sector",
          "LGB TI sector",
          "RF LR sector",
          "RF TI sector",
          "SVR LR sector",
          "SVR TI sector",
          "LGB LR stock",
          "LGB TI stock",
          "RF LR stock",
          "RF TI stock",
          "SVR LR stock",
          "SVR TI stock"
         ],
         "xaxis": "x2",
         "y": [
          4.5119474124365295,
          4.407580023312034,
          4.307805614368319,
          4.674460997717348,
          4.1915738095522075,
          5.280325121796354,
          4.55217293883564,
          4.331362288688665,
          4.358556161868748,
          4.880933529323461,
          4.3401061563197425,
          8.466625517427904
         ],
         "yaxis": "y2"
        }
       ],
       "layout": {
        "annotations": [
         {
          "font": {
           "size": 16
          },
          "showarrow": false,
          "text": "6M",
          "x": 0.5,
          "xanchor": "center",
          "xref": "paper",
          "y": 1,
          "yanchor": "bottom",
          "yref": "paper"
         },
         {
          "font": {
           "size": 16
          },
          "showarrow": false,
          "text": "1Y",
          "x": 0.5,
          "xanchor": "center",
          "xref": "paper",
          "y": 0.375,
          "yanchor": "bottom",
          "yref": "paper"
         }
        ],
        "template": {
         "data": {
          "bar": [
           {
            "error_x": {
             "color": "#2a3f5f"
            },
            "error_y": {
             "color": "#2a3f5f"
            },
            "marker": {
             "line": {
              "color": "#E5ECF6",
              "width": 0.5
             }
            },
            "type": "bar"
           }
          ],
          "barpolar": [
           {
            "marker": {
             "line": {
              "color": "#E5ECF6",
              "width": 0.5
             }
            },
            "type": "barpolar"
           }
          ],
          "carpet": [
           {
            "aaxis": {
             "endlinecolor": "#2a3f5f",
             "gridcolor": "white",
             "linecolor": "white",
             "minorgridcolor": "white",
             "startlinecolor": "#2a3f5f"
            },
            "baxis": {
             "endlinecolor": "#2a3f5f",
             "gridcolor": "white",
             "linecolor": "white",
             "minorgridcolor": "white",
             "startlinecolor": "#2a3f5f"
            },
            "type": "carpet"
           }
          ],
          "choropleth": [
           {
            "colorbar": {
             "outlinewidth": 0,
             "ticks": ""
            },
            "type": "choropleth"
           }
          ],
          "contour": [
           {
            "colorbar": {
             "outlinewidth": 0,
             "ticks": ""
            },
            "colorscale": [
             [
              0,
              "#0d0887"
             ],
             [
              0.1111111111111111,
              "#46039f"
             ],
             [
              0.2222222222222222,
              "#7201a8"
             ],
             [
              0.3333333333333333,
              "#9c179e"
             ],
             [
              0.4444444444444444,
              "#bd3786"
             ],
             [
              0.5555555555555556,
              "#d8576b"
             ],
             [
              0.6666666666666666,
              "#ed7953"
             ],
             [
              0.7777777777777778,
              "#fb9f3a"
             ],
             [
              0.8888888888888888,
              "#fdca26"
             ],
             [
              1,
              "#f0f921"
             ]
            ],
            "type": "contour"
           }
          ],
          "contourcarpet": [
           {
            "colorbar": {
             "outlinewidth": 0,
             "ticks": ""
            },
            "type": "contourcarpet"
           }
          ],
          "heatmap": [
           {
            "colorbar": {
             "outlinewidth": 0,
             "ticks": ""
            },
            "colorscale": [
             [
              0,
              "#0d0887"
             ],
             [
              0.1111111111111111,
              "#46039f"
             ],
             [
              0.2222222222222222,
              "#7201a8"
             ],
             [
              0.3333333333333333,
              "#9c179e"
             ],
             [
              0.4444444444444444,
              "#bd3786"
             ],
             [
              0.5555555555555556,
              "#d8576b"
             ],
             [
              0.6666666666666666,
              "#ed7953"
             ],
             [
              0.7777777777777778,
              "#fb9f3a"
             ],
             [
              0.8888888888888888,
              "#fdca26"
             ],
             [
              1,
              "#f0f921"
             ]
            ],
            "type": "heatmap"
           }
          ],
          "heatmapgl": [
           {
            "colorbar": {
             "outlinewidth": 0,
             "ticks": ""
            },
            "colorscale": [
             [
              0,
              "#0d0887"
             ],
             [
              0.1111111111111111,
              "#46039f"
             ],
             [
              0.2222222222222222,
              "#7201a8"
             ],
             [
              0.3333333333333333,
              "#9c179e"
             ],
             [
              0.4444444444444444,
              "#bd3786"
             ],
             [
              0.5555555555555556,
              "#d8576b"
             ],
             [
              0.6666666666666666,
              "#ed7953"
             ],
             [
              0.7777777777777778,
              "#fb9f3a"
             ],
             [
              0.8888888888888888,
              "#fdca26"
             ],
             [
              1,
              "#f0f921"
             ]
            ],
            "type": "heatmapgl"
           }
          ],
          "histogram": [
           {
            "marker": {
             "colorbar": {
              "outlinewidth": 0,
              "ticks": ""
             }
            },
            "type": "histogram"
           }
          ],
          "histogram2d": [
           {
            "colorbar": {
             "outlinewidth": 0,
             "ticks": ""
            },
            "colorscale": [
             [
              0,
              "#0d0887"
             ],
             [
              0.1111111111111111,
              "#46039f"
             ],
             [
              0.2222222222222222,
              "#7201a8"
             ],
             [
              0.3333333333333333,
              "#9c179e"
             ],
             [
              0.4444444444444444,
              "#bd3786"
             ],
             [
              0.5555555555555556,
              "#d8576b"
             ],
             [
              0.6666666666666666,
              "#ed7953"
             ],
             [
              0.7777777777777778,
              "#fb9f3a"
             ],
             [
              0.8888888888888888,
              "#fdca26"
             ],
             [
              1,
              "#f0f921"
             ]
            ],
            "type": "histogram2d"
           }
          ],
          "histogram2dcontour": [
           {
            "colorbar": {
             "outlinewidth": 0,
             "ticks": ""
            },
            "colorscale": [
             [
              0,
              "#0d0887"
             ],
             [
              0.1111111111111111,
              "#46039f"
             ],
             [
              0.2222222222222222,
              "#7201a8"
             ],
             [
              0.3333333333333333,
              "#9c179e"
             ],
             [
              0.4444444444444444,
              "#bd3786"
             ],
             [
              0.5555555555555556,
              "#d8576b"
             ],
             [
              0.6666666666666666,
              "#ed7953"
             ],
             [
              0.7777777777777778,
              "#fb9f3a"
             ],
             [
              0.8888888888888888,
              "#fdca26"
             ],
             [
              1,
              "#f0f921"
             ]
            ],
            "type": "histogram2dcontour"
           }
          ],
          "mesh3d": [
           {
            "colorbar": {
             "outlinewidth": 0,
             "ticks": ""
            },
            "type": "mesh3d"
           }
          ],
          "parcoords": [
           {
            "line": {
             "colorbar": {
              "outlinewidth": 0,
              "ticks": ""
             }
            },
            "type": "parcoords"
           }
          ],
          "pie": [
           {
            "automargin": true,
            "type": "pie"
           }
          ],
          "scatter": [
           {
            "marker": {
             "colorbar": {
              "outlinewidth": 0,
              "ticks": ""
             }
            },
            "type": "scatter"
           }
          ],
          "scatter3d": [
           {
            "line": {
             "colorbar": {
              "outlinewidth": 0,
              "ticks": ""
             }
            },
            "marker": {
             "colorbar": {
              "outlinewidth": 0,
              "ticks": ""
             }
            },
            "type": "scatter3d"
           }
          ],
          "scattercarpet": [
           {
            "marker": {
             "colorbar": {
              "outlinewidth": 0,
              "ticks": ""
             }
            },
            "type": "scattercarpet"
           }
          ],
          "scattergeo": [
           {
            "marker": {
             "colorbar": {
              "outlinewidth": 0,
              "ticks": ""
             }
            },
            "type": "scattergeo"
           }
          ],
          "scattergl": [
           {
            "marker": {
             "colorbar": {
              "outlinewidth": 0,
              "ticks": ""
             }
            },
            "type": "scattergl"
           }
          ],
          "scattermapbox": [
           {
            "marker": {
             "colorbar": {
              "outlinewidth": 0,
              "ticks": ""
             }
            },
            "type": "scattermapbox"
           }
          ],
          "scatterpolar": [
           {
            "marker": {
             "colorbar": {
              "outlinewidth": 0,
              "ticks": ""
             }
            },
            "type": "scatterpolar"
           }
          ],
          "scatterpolargl": [
           {
            "marker": {
             "colorbar": {
              "outlinewidth": 0,
              "ticks": ""
             }
            },
            "type": "scatterpolargl"
           }
          ],
          "scatterternary": [
           {
            "marker": {
             "colorbar": {
              "outlinewidth": 0,
              "ticks": ""
             }
            },
            "type": "scatterternary"
           }
          ],
          "surface": [
           {
            "colorbar": {
             "outlinewidth": 0,
             "ticks": ""
            },
            "colorscale": [
             [
              0,
              "#0d0887"
             ],
             [
              0.1111111111111111,
              "#46039f"
             ],
             [
              0.2222222222222222,
              "#7201a8"
             ],
             [
              0.3333333333333333,
              "#9c179e"
             ],
             [
              0.4444444444444444,
              "#bd3786"
             ],
             [
              0.5555555555555556,
              "#d8576b"
             ],
             [
              0.6666666666666666,
              "#ed7953"
             ],
             [
              0.7777777777777778,
              "#fb9f3a"
             ],
             [
              0.8888888888888888,
              "#fdca26"
             ],
             [
              1,
              "#f0f921"
             ]
            ],
            "type": "surface"
           }
          ],
          "table": [
           {
            "cells": {
             "fill": {
              "color": "#EBF0F8"
             },
             "line": {
              "color": "white"
             }
            },
            "header": {
             "fill": {
              "color": "#C8D4E3"
             },
             "line": {
              "color": "white"
             }
            },
            "type": "table"
           }
          ]
         },
         "layout": {
          "annotationdefaults": {
           "arrowcolor": "#2a3f5f",
           "arrowhead": 0,
           "arrowwidth": 1
          },
          "autotypenumbers": "strict",
          "coloraxis": {
           "colorbar": {
            "outlinewidth": 0,
            "ticks": ""
           }
          },
          "colorscale": {
           "diverging": [
            [
             0,
             "#8e0152"
            ],
            [
             0.1,
             "#c51b7d"
            ],
            [
             0.2,
             "#de77ae"
            ],
            [
             0.3,
             "#f1b6da"
            ],
            [
             0.4,
             "#fde0ef"
            ],
            [
             0.5,
             "#f7f7f7"
            ],
            [
             0.6,
             "#e6f5d0"
            ],
            [
             0.7,
             "#b8e186"
            ],
            [
             0.8,
             "#7fbc41"
            ],
            [
             0.9,
             "#4d9221"
            ],
            [
             1,
             "#276419"
            ]
           ],
           "sequential": [
            [
             0,
             "#0d0887"
            ],
            [
             0.1111111111111111,
             "#46039f"
            ],
            [
             0.2222222222222222,
             "#7201a8"
            ],
            [
             0.3333333333333333,
             "#9c179e"
            ],
            [
             0.4444444444444444,
             "#bd3786"
            ],
            [
             0.5555555555555556,
             "#d8576b"
            ],
            [
             0.6666666666666666,
             "#ed7953"
            ],
            [
             0.7777777777777778,
             "#fb9f3a"
            ],
            [
             0.8888888888888888,
             "#fdca26"
            ],
            [
             1,
             "#f0f921"
            ]
           ],
           "sequentialminus": [
            [
             0,
             "#0d0887"
            ],
            [
             0.1111111111111111,
             "#46039f"
            ],
            [
             0.2222222222222222,
             "#7201a8"
            ],
            [
             0.3333333333333333,
             "#9c179e"
            ],
            [
             0.4444444444444444,
             "#bd3786"
            ],
            [
             0.5555555555555556,
             "#d8576b"
            ],
            [
             0.6666666666666666,
             "#ed7953"
            ],
            [
             0.7777777777777778,
             "#fb9f3a"
            ],
            [
             0.8888888888888888,
             "#fdca26"
            ],
            [
             1,
             "#f0f921"
            ]
           ]
          },
          "colorway": [
           "#636efa",
           "#EF553B",
           "#00cc96",
           "#ab63fa",
           "#FFA15A",
           "#19d3f3",
           "#FF6692",
           "#B6E880",
           "#FF97FF",
           "#FECB52"
          ],
          "font": {
           "color": "#2a3f5f"
          },
          "geo": {
           "bgcolor": "white",
           "lakecolor": "white",
           "landcolor": "#E5ECF6",
           "showlakes": true,
           "showland": true,
           "subunitcolor": "white"
          },
          "hoverlabel": {
           "align": "left"
          },
          "hovermode": "closest",
          "mapbox": {
           "style": "light"
          },
          "paper_bgcolor": "white",
          "plot_bgcolor": "#E5ECF6",
          "polar": {
           "angularaxis": {
            "gridcolor": "white",
            "linecolor": "white",
            "ticks": ""
           },
           "bgcolor": "#E5ECF6",
           "radialaxis": {
            "gridcolor": "white",
            "linecolor": "white",
            "ticks": ""
           }
          },
          "scene": {
           "xaxis": {
            "backgroundcolor": "#E5ECF6",
            "gridcolor": "white",
            "gridwidth": 2,
            "linecolor": "white",
            "showbackground": true,
            "ticks": "",
            "zerolinecolor": "white"
           },
           "yaxis": {
            "backgroundcolor": "#E5ECF6",
            "gridcolor": "white",
            "gridwidth": 2,
            "linecolor": "white",
            "showbackground": true,
            "ticks": "",
            "zerolinecolor": "white"
           },
           "zaxis": {
            "backgroundcolor": "#E5ECF6",
            "gridcolor": "white",
            "gridwidth": 2,
            "linecolor": "white",
            "showbackground": true,
            "ticks": "",
            "zerolinecolor": "white"
           }
          },
          "shapedefaults": {
           "line": {
            "color": "#2a3f5f"
           }
          },
          "ternary": {
           "aaxis": {
            "gridcolor": "white",
            "linecolor": "white",
            "ticks": ""
           },
           "baxis": {
            "gridcolor": "white",
            "linecolor": "white",
            "ticks": ""
           },
           "bgcolor": "#E5ECF6",
           "caxis": {
            "gridcolor": "white",
            "linecolor": "white",
            "ticks": ""
           }
          },
          "title": {
           "x": 0.05
          },
          "xaxis": {
           "automargin": true,
           "gridcolor": "white",
           "linecolor": "white",
           "ticks": "",
           "title": {
            "standoff": 15
           },
           "zerolinecolor": "white",
           "zerolinewidth": 2
          },
          "yaxis": {
           "automargin": true,
           "gridcolor": "white",
           "linecolor": "white",
           "ticks": "",
           "title": {
            "standoff": 15
           },
           "zerolinecolor": "white",
           "zerolinewidth": 2
          }
         }
        },
        "title": {
         "text": "Performance of 6M validation vs. 1Y validation"
        },
        "xaxis": {
         "anchor": "y",
         "categoryarray": [
          "LGB LR sector",
          "LGB TI sector",
          "RF LR sector",
          "RF TI sector",
          "SVR LR sector",
          "SVR TI sector",
          "LGB LR stock",
          "LGB TI stock",
          "RF LR stock",
          "RF TI stock",
          "SVR LR stock",
          "SVR TI stock"
         ],
         "domain": [
          0,
          1
         ],
         "type": "category"
        },
        "xaxis2": {
         "anchor": "y2",
         "domain": [
          0,
          1
         ]
        },
        "yaxis": {
         "anchor": "x",
         "domain": [
          0.625,
          1
         ],
         "fixedrange": true,
         "range": [
          0,
          1
         ],
         "tickvals": [
          0,
          0.01,
          0.02,
          0.03,
          0.04,
          0.05,
          0.06,
          0.07,
          0.08,
          0.09,
          0.1,
          0.11,
          0.12,
          0.13,
          0.14,
          0.15,
          0.16,
          0.17,
          0.18,
          0.19,
          0.2,
          0.21,
          0.22,
          0.23,
          0.24,
          0.25,
          0.26,
          0.27,
          0.28,
          0.29,
          0.3,
          0.31,
          0.32,
          0.33,
          0.34,
          0.35000000000000003,
          0.36,
          0.37,
          0.38,
          0.39,
          0.4,
          0.41000000000000003,
          0.42,
          0.43,
          0.44,
          0.45,
          0.46,
          0.47000000000000003,
          0.48,
          0.49,
          0.5,
          0.51,
          0.52,
          0.53,
          0.54,
          0.55,
          0.56,
          0.5700000000000001,
          0.58,
          0.59,
          0.6,
          0.61,
          0.62,
          0.63,
          0.64,
          0.65,
          0.66,
          0.67,
          0.68,
          0.6900000000000001,
          0.7000000000000001,
          0.71,
          0.72,
          0.73,
          0.74,
          0.75,
          0.76,
          0.77,
          0.78,
          0.79,
          0.8,
          0.81,
          0.8200000000000001,
          0.8300000000000001,
          0.84,
          0.85,
          0.86,
          0.87,
          0.88,
          0.89,
          0.9,
          0.91,
          0.92,
          0.93,
          0.9400000000000001,
          0.9500000000000001,
          0.96,
          0.97,
          0.98,
          0.99
         ],
         "title": {
          "text": "MSE"
         },
         "type": "log"
        },
        "yaxis2": {
         "anchor": "x2",
         "domain": [
          0,
          0.375
         ],
         "fixedrange": true,
         "range": [
          0,
          1
         ],
         "tickvals": [
          0,
          0.01,
          0.02,
          0.03,
          0.04,
          0.05,
          0.06,
          0.07,
          0.08,
          0.09,
          0.1,
          0.11,
          0.12,
          0.13,
          0.14,
          0.15,
          0.16,
          0.17,
          0.18,
          0.19,
          0.2,
          0.21,
          0.22,
          0.23,
          0.24,
          0.25,
          0.26,
          0.27,
          0.28,
          0.29,
          0.3,
          0.31,
          0.32,
          0.33,
          0.34,
          0.35000000000000003,
          0.36,
          0.37,
          0.38,
          0.39,
          0.4,
          0.41000000000000003,
          0.42,
          0.43,
          0.44,
          0.45,
          0.46,
          0.47000000000000003,
          0.48,
          0.49,
          0.5,
          0.51,
          0.52,
          0.53,
          0.54,
          0.55,
          0.56,
          0.5700000000000001,
          0.58,
          0.59,
          0.6,
          0.61,
          0.62,
          0.63,
          0.64,
          0.65,
          0.66,
          0.67,
          0.68,
          0.6900000000000001,
          0.7000000000000001,
          0.71,
          0.72,
          0.73,
          0.74,
          0.75,
          0.76,
          0.77,
          0.78,
          0.79,
          0.8,
          0.81,
          0.8200000000000001,
          0.8300000000000001,
          0.84,
          0.85,
          0.86,
          0.87,
          0.88,
          0.89,
          0.9,
          0.91,
          0.92,
          0.93,
          0.9400000000000001,
          0.9500000000000001,
          0.96,
          0.97,
          0.98,
          0.99
         ],
         "type": "log"
        }
       }
      },
      "text/html": [
       "<div>                            <div id=\"601dde4d-3c7c-4516-a520-79f68aac824d\" class=\"plotly-graph-div\" style=\"height:525px; width:100%;\"></div>            <script type=\"text/javascript\">                require([\"plotly\"], function(Plotly) {                    window.PLOTLYENV=window.PLOTLYENV || {};                                    if (document.getElementById(\"601dde4d-3c7c-4516-a520-79f68aac824d\")) {                    Plotly.newPlot(                        \"601dde4d-3c7c-4516-a520-79f68aac824d\",                        [{\"line\": {\"color\": \"black\", \"dash\": \"solid\"}, \"marker\": {\"symbol\": [\"circle\", \"circle\", \"circle\", \"circle\", \"circle\", \"x\", \"x\", \"x\", \"x\", \"x\", \"x\"]}, \"mode\": \"lines+markers\", \"name\": \"baseline 6M\", \"type\": \"scatter\", \"x\": [\"LGB LR sector\", \"LGB TI sector\", \"RF LR sector\", \"RF TI sector\", \"SVR LR sector\", \"LGB LR stock\", \"LGB TI stock\", \"RF LR stock\", \"RF TI stock\", \"SVR LR stock\", \"SVR TI stock\"], \"xaxis\": \"x\", \"y\": [4.111134281508577, 4.012480953151328, 3.895591684222216, 4.307835840329022, 6.633537410028738, 4.159034325797041, 4.732912134776314, 3.962264906361838, 4.376058324373188, 3.9454776358680763, 10.038607483647485], \"yaxis\": \"y\"}, {\"line\": {\"color\": \"#2CA02C\", \"dash\": \"solid\"}, \"marker\": {\"symbol\": [\"circle\", \"circle\", \"circle\", \"circle\", \"circle\", \"x\", \"x\", \"x\", \"x\", \"x\", \"x\"]}, \"mode\": \"lines+markers\", \"name\": \"best 6M\", \"type\": \"scatter\", \"x\": [\"LGB LR sector\", \"LGB TI sector\", \"RF LR sector\", \"RF TI sector\", \"SVR LR sector\", \"LGB LR stock\", \"LGB TI stock\", \"RF LR stock\", \"RF TI stock\", \"SVR LR stock\", \"SVR TI stock\"], \"xaxis\": \"x\", \"y\": [4.1051851829083335, 3.997390711950107, 3.8891497602297638, 4.29895386475336, 6.627177248681566, 4.138077385850279, 4.781288824256465, 3.966038605403224, 4.394335721840793, 3.943196593361701, 9.718107640890173], \"yaxis\": \"y\"}, {\"line\": {\"color\": \"#D62728\", \"dash\": \"solid\"}, \"marker\": {\"symbol\": [\"circle\", \"circle\", \"circle\", \"circle\", \"circle\", \"x\", \"x\", \"x\", \"x\", \"x\", \"x\"]}, \"mode\": \"lines+markers\", \"name\": \"worst 6M\", \"type\": \"scatter\", \"x\": [\"LGB LR sector\", \"LGB TI sector\", \"RF LR sector\", \"RF TI sector\", \"SVR LR sector\", \"LGB LR stock\", \"LGB TI stock\", \"RF LR stock\", \"RF TI stock\", \"SVR LR stock\", \"SVR TI stock\"], \"xaxis\": \"x\", \"y\": [4.106549189659285, 4.010855479083419, 3.8957975016180626, 4.310435586517617, 6.632982821116475, 4.15969779827359, 4.723135547008537, 3.962497191056862, 4.399627239517966, 3.9454776358680763, 9.944207550145837], \"yaxis\": \"y\"}, {\"line\": {\"color\": \"#511CFB\", \"dash\": \"solid\"}, \"marker\": {\"symbol\": [\"circle\", \"circle\", \"circle\", \"circle\", \"circle\", \"x\", \"x\", \"x\", \"x\", \"x\", \"x\"]}, \"mode\": \"lines+markers\", \"name\": \"running 6M\", \"type\": \"scatter\", \"x\": [\"LGB LR sector\", \"LGB TI sector\", \"RF LR sector\", \"RF TI sector\", \"SVR LR sector\", \"LGB LR stock\", \"LGB TI stock\", \"RF LR stock\", \"RF TI stock\", \"SVR LR stock\", \"SVR TI stock\"], \"xaxis\": \"x\", \"y\": [4.106682089631266, 4.0113978916949575, 3.8953525629908636, 4.310661666446414, 6.631866740586708, 4.145636658098521, 4.778422373316292, 3.962926075532775, 4.413108259502167, 3.9444099707288607, 9.763130698529503], \"yaxis\": \"y\"}, {\"line\": {\"color\": \"black\", \"dash\": \"dash\"}, \"marker\": {\"symbol\": [\"circle\", \"circle\", \"circle\", \"circle\", \"circle\", \"circle\", \"x\", \"x\", \"x\", \"x\", \"x\", \"x\"]}, \"mode\": \"lines+markers\", \"name\": \"baseline 1Y\", \"type\": \"scatter\", \"x\": [\"LGB LR sector\", \"LGB TI sector\", \"RF LR sector\", \"RF TI sector\", \"SVR LR sector\", \"SVR TI sector\", \"LGB LR stock\", \"LGB TI stock\", \"RF LR stock\", \"RF TI stock\", \"SVR LR stock\", \"SVR TI stock\"], \"xaxis\": \"x2\", \"y\": [4.509151230642937, 4.410392552938363, 4.307660079980729, 4.6988352023168005, 4.192094956523276, 5.4267302807778615, 4.5634069416490375, 4.3313491451304325, 4.357585865121816, 4.840333547990064, 4.340884129895881, 8.729440490670664], \"yaxis\": \"y2\"}, {\"line\": {\"color\": \"#2CA02C\", \"dash\": \"dash\"}, \"marker\": {\"symbol\": [\"circle\", \"circle\", \"circle\", \"circle\", \"circle\", \"circle\", \"x\", \"x\", \"x\", \"x\", \"x\", \"x\"]}, \"mode\": \"lines+markers\", \"name\": \"best 1Y\", \"type\": \"scatter\", \"x\": [\"LGB LR sector\", \"LGB TI sector\", \"RF LR sector\", \"RF TI sector\", \"SVR LR sector\", \"SVR TI sector\", \"LGB LR stock\", \"LGB TI stock\", \"RF LR stock\", \"RF TI stock\", \"SVR LR stock\", \"SVR TI stock\"], \"xaxis\": \"x2\", \"y\": [4.503815816378114, 4.398237373904832, 4.29859680433886, 4.645624310387417, 4.1913305289624265, 5.24134590995297, 4.542620476008106, 4.328327811081939, 4.359342648666486, 4.871937164142714, 4.336655434799803, 8.422607634377481], \"yaxis\": \"y2\"}, {\"line\": {\"color\": \"#D62728\", \"dash\": \"dash\"}, \"marker\": {\"symbol\": [\"circle\", \"circle\", \"circle\", \"circle\", \"circle\", \"circle\", \"x\", \"x\", \"x\", \"x\", \"x\", \"x\"]}, \"mode\": \"lines+markers\", \"name\": \"worst 1Y\", \"type\": \"scatter\", \"x\": [\"LGB LR sector\", \"LGB TI sector\", \"RF LR sector\", \"RF TI sector\", \"SVR LR sector\", \"SVR TI sector\", \"LGB LR stock\", \"LGB TI stock\", \"RF LR stock\", \"RF TI stock\", \"SVR LR stock\", \"SVR TI stock\"], \"xaxis\": \"x2\", \"y\": [4.50882918774368, 4.405136494934549, 4.308349608441177, 4.707313663613859, 4.192649080164733, 5.360936752333529, 4.563351231672299, 4.329744945538745, 4.3587254564987825, 4.881394761103167, 4.340817780699946, 8.697414655732667], \"yaxis\": \"y2\"}, {\"line\": {\"color\": \"#511CFB\", \"dash\": \"dash\"}, \"marker\": {\"symbol\": [\"circle\", \"circle\", \"circle\", \"circle\", \"circle\", \"circle\", \"x\", \"x\", \"x\", \"x\", \"x\", \"x\"]}, \"mode\": \"lines+markers\", \"name\": \"running 1Y\", \"type\": \"scatter\", \"x\": [\"LGB LR sector\", \"LGB TI sector\", \"RF LR sector\", \"RF TI sector\", \"SVR LR sector\", \"SVR TI sector\", \"LGB LR stock\", \"LGB TI stock\", \"RF LR stock\", \"RF TI stock\", \"SVR LR stock\", \"SVR TI stock\"], \"xaxis\": \"x2\", \"y\": [4.5119474124365295, 4.407580023312034, 4.307805614368319, 4.674460997717348, 4.1915738095522075, 5.280325121796354, 4.55217293883564, 4.331362288688665, 4.358556161868748, 4.880933529323461, 4.3401061563197425, 8.466625517427904], \"yaxis\": \"y2\"}],                        {\"annotations\": [{\"font\": {\"size\": 16}, \"showarrow\": false, \"text\": \"6M\", \"x\": 0.5, \"xanchor\": \"center\", \"xref\": \"paper\", \"y\": 1.0, \"yanchor\": \"bottom\", \"yref\": \"paper\"}, {\"font\": {\"size\": 16}, \"showarrow\": false, \"text\": \"1Y\", \"x\": 0.5, \"xanchor\": \"center\", \"xref\": \"paper\", \"y\": 0.375, \"yanchor\": \"bottom\", \"yref\": \"paper\"}], \"template\": {\"data\": {\"bar\": [{\"error_x\": {\"color\": \"#2a3f5f\"}, \"error_y\": {\"color\": \"#2a3f5f\"}, \"marker\": {\"line\": {\"color\": \"#E5ECF6\", \"width\": 0.5}}, \"type\": \"bar\"}], \"barpolar\": [{\"marker\": {\"line\": {\"color\": \"#E5ECF6\", \"width\": 0.5}}, \"type\": \"barpolar\"}], \"carpet\": [{\"aaxis\": {\"endlinecolor\": \"#2a3f5f\", \"gridcolor\": \"white\", \"linecolor\": \"white\", \"minorgridcolor\": \"white\", \"startlinecolor\": \"#2a3f5f\"}, \"baxis\": {\"endlinecolor\": \"#2a3f5f\", \"gridcolor\": \"white\", \"linecolor\": \"white\", \"minorgridcolor\": \"white\", \"startlinecolor\": \"#2a3f5f\"}, \"type\": \"carpet\"}], \"choropleth\": [{\"colorbar\": {\"outlinewidth\": 0, \"ticks\": \"\"}, \"type\": \"choropleth\"}], \"contour\": [{\"colorbar\": {\"outlinewidth\": 0, \"ticks\": \"\"}, \"colorscale\": [[0.0, \"#0d0887\"], [0.1111111111111111, \"#46039f\"], [0.2222222222222222, \"#7201a8\"], [0.3333333333333333, \"#9c179e\"], [0.4444444444444444, \"#bd3786\"], [0.5555555555555556, \"#d8576b\"], [0.6666666666666666, \"#ed7953\"], [0.7777777777777778, \"#fb9f3a\"], [0.8888888888888888, \"#fdca26\"], [1.0, \"#f0f921\"]], \"type\": \"contour\"}], \"contourcarpet\": [{\"colorbar\": {\"outlinewidth\": 0, \"ticks\": \"\"}, \"type\": \"contourcarpet\"}], \"heatmap\": [{\"colorbar\": {\"outlinewidth\": 0, \"ticks\": \"\"}, \"colorscale\": [[0.0, \"#0d0887\"], [0.1111111111111111, \"#46039f\"], [0.2222222222222222, \"#7201a8\"], [0.3333333333333333, \"#9c179e\"], [0.4444444444444444, \"#bd3786\"], [0.5555555555555556, \"#d8576b\"], [0.6666666666666666, \"#ed7953\"], [0.7777777777777778, \"#fb9f3a\"], [0.8888888888888888, \"#fdca26\"], [1.0, \"#f0f921\"]], \"type\": \"heatmap\"}], \"heatmapgl\": [{\"colorbar\": {\"outlinewidth\": 0, \"ticks\": \"\"}, \"colorscale\": [[0.0, \"#0d0887\"], [0.1111111111111111, \"#46039f\"], [0.2222222222222222, \"#7201a8\"], [0.3333333333333333, \"#9c179e\"], [0.4444444444444444, \"#bd3786\"], [0.5555555555555556, \"#d8576b\"], [0.6666666666666666, \"#ed7953\"], [0.7777777777777778, \"#fb9f3a\"], [0.8888888888888888, \"#fdca26\"], [1.0, \"#f0f921\"]], \"type\": \"heatmapgl\"}], \"histogram\": [{\"marker\": {\"colorbar\": {\"outlinewidth\": 0, \"ticks\": \"\"}}, \"type\": \"histogram\"}], \"histogram2d\": [{\"colorbar\": {\"outlinewidth\": 0, \"ticks\": \"\"}, \"colorscale\": [[0.0, \"#0d0887\"], [0.1111111111111111, \"#46039f\"], [0.2222222222222222, \"#7201a8\"], [0.3333333333333333, \"#9c179e\"], [0.4444444444444444, \"#bd3786\"], [0.5555555555555556, \"#d8576b\"], [0.6666666666666666, \"#ed7953\"], [0.7777777777777778, \"#fb9f3a\"], [0.8888888888888888, \"#fdca26\"], [1.0, \"#f0f921\"]], \"type\": \"histogram2d\"}], \"histogram2dcontour\": [{\"colorbar\": {\"outlinewidth\": 0, \"ticks\": \"\"}, \"colorscale\": [[0.0, \"#0d0887\"], [0.1111111111111111, \"#46039f\"], [0.2222222222222222, \"#7201a8\"], [0.3333333333333333, \"#9c179e\"], [0.4444444444444444, \"#bd3786\"], [0.5555555555555556, \"#d8576b\"], [0.6666666666666666, \"#ed7953\"], [0.7777777777777778, \"#fb9f3a\"], [0.8888888888888888, \"#fdca26\"], [1.0, \"#f0f921\"]], \"type\": \"histogram2dcontour\"}], \"mesh3d\": [{\"colorbar\": {\"outlinewidth\": 0, \"ticks\": \"\"}, \"type\": \"mesh3d\"}], \"parcoords\": [{\"line\": {\"colorbar\": {\"outlinewidth\": 0, \"ticks\": \"\"}}, \"type\": \"parcoords\"}], \"pie\": [{\"automargin\": true, \"type\": \"pie\"}], \"scatter\": [{\"marker\": {\"colorbar\": {\"outlinewidth\": 0, \"ticks\": \"\"}}, \"type\": \"scatter\"}], \"scatter3d\": [{\"line\": {\"colorbar\": {\"outlinewidth\": 0, \"ticks\": \"\"}}, \"marker\": {\"colorbar\": {\"outlinewidth\": 0, \"ticks\": \"\"}}, \"type\": \"scatter3d\"}], \"scattercarpet\": [{\"marker\": {\"colorbar\": {\"outlinewidth\": 0, \"ticks\": \"\"}}, \"type\": \"scattercarpet\"}], \"scattergeo\": [{\"marker\": {\"colorbar\": {\"outlinewidth\": 0, \"ticks\": \"\"}}, \"type\": \"scattergeo\"}], \"scattergl\": [{\"marker\": {\"colorbar\": {\"outlinewidth\": 0, \"ticks\": \"\"}}, \"type\": \"scattergl\"}], \"scattermapbox\": [{\"marker\": {\"colorbar\": {\"outlinewidth\": 0, \"ticks\": \"\"}}, \"type\": \"scattermapbox\"}], \"scatterpolar\": [{\"marker\": {\"colorbar\": {\"outlinewidth\": 0, \"ticks\": \"\"}}, \"type\": \"scatterpolar\"}], \"scatterpolargl\": [{\"marker\": {\"colorbar\": {\"outlinewidth\": 0, \"ticks\": \"\"}}, \"type\": \"scatterpolargl\"}], \"scatterternary\": [{\"marker\": {\"colorbar\": {\"outlinewidth\": 0, \"ticks\": \"\"}}, \"type\": \"scatterternary\"}], \"surface\": [{\"colorbar\": {\"outlinewidth\": 0, \"ticks\": \"\"}, \"colorscale\": [[0.0, \"#0d0887\"], [0.1111111111111111, \"#46039f\"], [0.2222222222222222, \"#7201a8\"], [0.3333333333333333, \"#9c179e\"], [0.4444444444444444, \"#bd3786\"], [0.5555555555555556, \"#d8576b\"], [0.6666666666666666, \"#ed7953\"], [0.7777777777777778, \"#fb9f3a\"], [0.8888888888888888, \"#fdca26\"], [1.0, \"#f0f921\"]], \"type\": \"surface\"}], \"table\": [{\"cells\": {\"fill\": {\"color\": \"#EBF0F8\"}, \"line\": {\"color\": \"white\"}}, \"header\": {\"fill\": {\"color\": \"#C8D4E3\"}, \"line\": {\"color\": \"white\"}}, \"type\": \"table\"}]}, \"layout\": {\"annotationdefaults\": {\"arrowcolor\": \"#2a3f5f\", \"arrowhead\": 0, \"arrowwidth\": 1}, \"autotypenumbers\": \"strict\", \"coloraxis\": {\"colorbar\": {\"outlinewidth\": 0, \"ticks\": \"\"}}, \"colorscale\": {\"diverging\": [[0, \"#8e0152\"], [0.1, \"#c51b7d\"], [0.2, \"#de77ae\"], [0.3, \"#f1b6da\"], [0.4, \"#fde0ef\"], [0.5, \"#f7f7f7\"], [0.6, \"#e6f5d0\"], [0.7, \"#b8e186\"], [0.8, \"#7fbc41\"], [0.9, \"#4d9221\"], [1, \"#276419\"]], \"sequential\": [[0.0, \"#0d0887\"], [0.1111111111111111, \"#46039f\"], [0.2222222222222222, \"#7201a8\"], [0.3333333333333333, \"#9c179e\"], [0.4444444444444444, \"#bd3786\"], [0.5555555555555556, \"#d8576b\"], [0.6666666666666666, \"#ed7953\"], [0.7777777777777778, \"#fb9f3a\"], [0.8888888888888888, \"#fdca26\"], [1.0, \"#f0f921\"]], \"sequentialminus\": [[0.0, \"#0d0887\"], [0.1111111111111111, \"#46039f\"], [0.2222222222222222, \"#7201a8\"], [0.3333333333333333, \"#9c179e\"], [0.4444444444444444, \"#bd3786\"], [0.5555555555555556, \"#d8576b\"], [0.6666666666666666, \"#ed7953\"], [0.7777777777777778, \"#fb9f3a\"], [0.8888888888888888, \"#fdca26\"], [1.0, \"#f0f921\"]]}, \"colorway\": [\"#636efa\", \"#EF553B\", \"#00cc96\", \"#ab63fa\", \"#FFA15A\", \"#19d3f3\", \"#FF6692\", \"#B6E880\", \"#FF97FF\", \"#FECB52\"], \"font\": {\"color\": \"#2a3f5f\"}, \"geo\": {\"bgcolor\": \"white\", \"lakecolor\": \"white\", \"landcolor\": \"#E5ECF6\", \"showlakes\": true, \"showland\": true, \"subunitcolor\": \"white\"}, \"hoverlabel\": {\"align\": \"left\"}, \"hovermode\": \"closest\", \"mapbox\": {\"style\": \"light\"}, \"paper_bgcolor\": \"white\", \"plot_bgcolor\": \"#E5ECF6\", \"polar\": {\"angularaxis\": {\"gridcolor\": \"white\", \"linecolor\": \"white\", \"ticks\": \"\"}, \"bgcolor\": \"#E5ECF6\", \"radialaxis\": {\"gridcolor\": \"white\", \"linecolor\": \"white\", \"ticks\": \"\"}}, \"scene\": {\"xaxis\": {\"backgroundcolor\": \"#E5ECF6\", \"gridcolor\": \"white\", \"gridwidth\": 2, \"linecolor\": \"white\", \"showbackground\": true, \"ticks\": \"\", \"zerolinecolor\": \"white\"}, \"yaxis\": {\"backgroundcolor\": \"#E5ECF6\", \"gridcolor\": \"white\", \"gridwidth\": 2, \"linecolor\": \"white\", \"showbackground\": true, \"ticks\": \"\", \"zerolinecolor\": \"white\"}, \"zaxis\": {\"backgroundcolor\": \"#E5ECF6\", \"gridcolor\": \"white\", \"gridwidth\": 2, \"linecolor\": \"white\", \"showbackground\": true, \"ticks\": \"\", \"zerolinecolor\": \"white\"}}, \"shapedefaults\": {\"line\": {\"color\": \"#2a3f5f\"}}, \"ternary\": {\"aaxis\": {\"gridcolor\": \"white\", \"linecolor\": \"white\", \"ticks\": \"\"}, \"baxis\": {\"gridcolor\": \"white\", \"linecolor\": \"white\", \"ticks\": \"\"}, \"bgcolor\": \"#E5ECF6\", \"caxis\": {\"gridcolor\": \"white\", \"linecolor\": \"white\", \"ticks\": \"\"}}, \"title\": {\"x\": 0.05}, \"xaxis\": {\"automargin\": true, \"gridcolor\": \"white\", \"linecolor\": \"white\", \"ticks\": \"\", \"title\": {\"standoff\": 15}, \"zerolinecolor\": \"white\", \"zerolinewidth\": 2}, \"yaxis\": {\"automargin\": true, \"gridcolor\": \"white\", \"linecolor\": \"white\", \"ticks\": \"\", \"title\": {\"standoff\": 15}, \"zerolinecolor\": \"white\", \"zerolinewidth\": 2}}}, \"title\": {\"text\": \"Performance of 6M validation vs. 1Y validation\"}, \"xaxis\": {\"anchor\": \"y\", \"categoryarray\": [\"LGB LR sector\", \"LGB TI sector\", \"RF LR sector\", \"RF TI sector\", \"SVR LR sector\", \"SVR TI sector\", \"LGB LR stock\", \"LGB TI stock\", \"RF LR stock\", \"RF TI stock\", \"SVR LR stock\", \"SVR TI stock\"], \"domain\": [0.0, 1.0], \"type\": \"category\"}, \"xaxis2\": {\"anchor\": \"y2\", \"domain\": [0.0, 1.0]}, \"yaxis\": {\"anchor\": \"x\", \"domain\": [0.625, 1.0], \"fixedrange\": true, \"range\": [0, 1], \"tickvals\": [0.0, 0.01, 0.02, 0.03, 0.04, 0.05, 0.06, 0.07, 0.08, 0.09, 0.1, 0.11, 0.12, 0.13, 0.14, 0.15, 0.16, 0.17, 0.18, 0.19, 0.2, 0.21, 0.22, 0.23, 0.24, 0.25, 0.26, 0.27, 0.28, 0.29, 0.3, 0.31, 0.32, 0.33, 0.34, 0.35000000000000003, 0.36, 0.37, 0.38, 0.39, 0.4, 0.41000000000000003, 0.42, 0.43, 0.44, 0.45, 0.46, 0.47000000000000003, 0.48, 0.49, 0.5, 0.51, 0.52, 0.53, 0.54, 0.55, 0.56, 0.5700000000000001, 0.58, 0.59, 0.6, 0.61, 0.62, 0.63, 0.64, 0.65, 0.66, 0.67, 0.68, 0.6900000000000001, 0.7000000000000001, 0.71, 0.72, 0.73, 0.74, 0.75, 0.76, 0.77, 0.78, 0.79, 0.8, 0.81, 0.8200000000000001, 0.8300000000000001, 0.84, 0.85, 0.86, 0.87, 0.88, 0.89, 0.9, 0.91, 0.92, 0.93, 0.9400000000000001, 0.9500000000000001, 0.96, 0.97, 0.98, 0.99], \"title\": {\"text\": \"MSE\"}, \"type\": \"log\"}, \"yaxis2\": {\"anchor\": \"x2\", \"domain\": [0.0, 0.375], \"fixedrange\": true, \"range\": [0, 1], \"tickvals\": [0.0, 0.01, 0.02, 0.03, 0.04, 0.05, 0.06, 0.07, 0.08, 0.09, 0.1, 0.11, 0.12, 0.13, 0.14, 0.15, 0.16, 0.17, 0.18, 0.19, 0.2, 0.21, 0.22, 0.23, 0.24, 0.25, 0.26, 0.27, 0.28, 0.29, 0.3, 0.31, 0.32, 0.33, 0.34, 0.35000000000000003, 0.36, 0.37, 0.38, 0.39, 0.4, 0.41000000000000003, 0.42, 0.43, 0.44, 0.45, 0.46, 0.47000000000000003, 0.48, 0.49, 0.5, 0.51, 0.52, 0.53, 0.54, 0.55, 0.56, 0.5700000000000001, 0.58, 0.59, 0.6, 0.61, 0.62, 0.63, 0.64, 0.65, 0.66, 0.67, 0.68, 0.6900000000000001, 0.7000000000000001, 0.71, 0.72, 0.73, 0.74, 0.75, 0.76, 0.77, 0.78, 0.79, 0.8, 0.81, 0.8200000000000001, 0.8300000000000001, 0.84, 0.85, 0.86, 0.87, 0.88, 0.89, 0.9, 0.91, 0.92, 0.93, 0.9400000000000001, 0.9500000000000001, 0.96, 0.97, 0.98, 0.99], \"type\": \"log\"}},                        {\"responsive\": true}                    ).then(function(){\n",
       "                            \n",
       "var gd = document.getElementById('601dde4d-3c7c-4516-a520-79f68aac824d');\n",
       "var x = new MutationObserver(function (mutations, observer) {{\n",
       "        var display = window.getComputedStyle(gd).display;\n",
       "        if (!display || display === 'none') {{\n",
       "            console.log([gd, 'removed!']);\n",
       "            Plotly.purge(gd);\n",
       "            observer.disconnect();\n",
       "        }}\n",
       "}});\n",
       "\n",
       "// Listen for the removal of the full notebook cells\n",
       "var notebookContainer = gd.closest('#notebook-container');\n",
       "if (notebookContainer) {{\n",
       "    x.observe(notebookContainer, {childList: true});\n",
       "}}\n",
       "\n",
       "// Listen for the clearing of the current output cell\n",
       "var outputEl = gd.closest('.output');\n",
       "if (outputEl) {{\n",
       "    x.observe(outputEl, {childList: true});\n",
       "}}\n",
       "\n",
       "                        })                };                });            </script>        </div>"
      ]
     },
     "metadata": {},
     "output_type": "display_data"
    }
   ],
   "source": [
    "\n",
    "import plotly.express as px\n",
    "import matplotlib.pyplot as plt\n",
    "import plotly.graph_objects as go\n",
    "from plotly.subplots import make_subplots\n",
    "\n",
    "label='MSE'\n",
    "\n",
    "\n",
    "marker_signs = {'sector':'circle','stock':'x'}\n",
    "dashes={'sector':'dash','stock':'dashdot','PI running worst':'dot'}\n",
    "\n",
    "colors = {'worst':'#D62728','best':'#2CA02C','fi':'rgb(55, 83, 109)','sp':'#4C78A8','baseline':'black','running':'#511CFB'}\n",
    "\n",
    "\n",
    "\n",
    "list_cat=[]\n",
    "for level in ['sector','stock']:\n",
    "    for model in ['LGB','RF','SVR']:\n",
    "        for feature in ['LR','TI']:\n",
    "            list_cat.append(f'{model} {feature} {level}')\n",
    "            \n",
    "\n",
    "fig = make_subplots(rows=2, cols=1,shared_yaxes=False,shared_xaxes=False,subplot_titles=['6M','1Y'])\n",
    "\n",
    "for val in ['6M', '1Y']:\n",
    "    for tr_name in ['baseline','best','worst','running']:\n",
    "        stats=statistics_dict[(statistics_dict['method']==tr_name) & (statistics_dict['validation length']==val)]\n",
    "        stats=stats.sort_values(by=['level','model','feature'])\n",
    "        row=1 if val=='6M' else 2\n",
    "        if len(stats)==0:\n",
    "            continue\n",
    "        symbol = [marker_signs[i] for i in stats['level']]\n",
    "        line_symbol = [dashes[i] for i in stats['level']]\n",
    "\n",
    "        trace= go.Scatter(x=stats[\"model\"]+ \" \"+stats[\"feature\"]+ \" \"+stats[\"level\"] ,y=stats[label],name=stats['method'].values[0]+' '+val,\n",
    "                          marker_symbol=symbol\n",
    "                         ,line=dict(dash='dash' if (stats['validation length']=='1Y').all() else 'solid',color=colors[tr_name])\n",
    "                         ,mode='lines+markers'\n",
    "                         )\n",
    "        fig.add_trace(trace,row=row,col=1)\n",
    "#         fig.update_traces(xaxis=\"x\")\n",
    "        \n",
    "# fig.update_layout(layout)\n",
    "\n",
    "fig.update_layout(xaxis =dict (type = 'category', categoryarray= list_cat),yaxis=dict(title=label),title=\"Performance of 6M validation vs. 1Y validation\")\n",
    "fig.update_yaxes(tickvals=np.arange(0,1,0.01), range=[0,1], fixedrange=True)\n",
    "fig.update_yaxes(type=\"log\")\n",
    "fig.show()\n",
    "fig.write_image(f'../imgs/{label}.pdf', engine=\"kaleido\")\n",
    "fig.write_image(f'../imgs/{label}.png', engine=\"kaleido\")"
   ]
  },
  {
   "cell_type": "code",
   "execution_count": 167,
   "id": "objective-neutral",
   "metadata": {},
   "outputs": [
    {
     "data": {
      "application/vnd.plotly.v1+json": {
       "config": {
        "plotlyServerURL": "https://plot.ly"
       },
       "data": [
        {
         "marker": {
          "symbol": [
           "x",
           "x",
           "x",
           "x",
           "x",
           "x",
           "x",
           "x",
           "x",
           "x",
           "x",
           "x",
           "circle",
           "circle",
           "circle",
           "circle",
           "circle",
           "circle",
           "circle",
           "circle",
           "circle",
           "circle",
           "circle"
          ]
         },
         "mode": "lines+markers",
         "name": "baseline",
         "type": "scatter",
         "x": [
          "RF LR stock validation=1Y",
          "RF LR stock validation=6M",
          "RF TI stock validation=1Y",
          "RF TI stock validation=6M",
          "SVR LR stock validation=1Y",
          "SVR LR stock validation=6M",
          "SVR TI stock validation=1Y",
          "SVR TI stock validation=6M",
          "LGB LR stock validation=1Y",
          "LGB LR stock validation=6M",
          "LGB TI stock validation=1Y",
          "LGB TI stock validation=6M",
          "RF LR sector validation=1Y",
          "RF LR sector validation=6M",
          "RF TI sector validation=1Y",
          "RF TI sector validation=6M",
          "SVR LR sector validation=1Y",
          "SVR LR sector validation=6M",
          "SVR TI sector validation=1Y",
          "LGB LR sector validation=1Y",
          "LGB LR sector validation=6M",
          "LGB TI sector validation=1Y",
          "LGB TI sector validation=6M"
         ],
         "y": [
          17.029814606800798,
          26.275844409087064,
          33.156942370996845,
          33.3068101302211,
          17.6125108765632,
          19.98014760344542,
          20.40487443832102,
          20.26324935219567,
          16.55630821040426,
          14.327970840742335,
          29.81543425646641,
          21.945648352692885,
          30.79838210661936,
          23.270054615788833,
          21.845946790109526,
          29.48223712897361,
          40.04681757778255,
          26.07406041247039,
          47.236426202171295,
          16.87349259961762,
          35.29473807034379,
          48.94441754737635,
          37.22324653779584
         ]
        },
        {
         "marker": {
          "symbol": [
           "x",
           "x",
           "x",
           "x",
           "x",
           "x",
           "x",
           "x",
           "x",
           "x",
           "x",
           "x",
           "circle",
           "circle",
           "circle",
           "circle",
           "circle",
           "circle",
           "circle",
           "circle",
           "circle",
           "circle",
           "circle"
          ]
         },
         "mode": "lines+markers",
         "name": "best",
         "type": "scatter",
         "x": [
          "RF LR stock validation=1Y",
          "RF LR stock validation=6M",
          "RF TI stock validation=1Y",
          "RF TI stock validation=6M",
          "SVR LR stock validation=1Y",
          "SVR LR stock validation=6M",
          "SVR TI stock validation=1Y",
          "SVR TI stock validation=6M",
          "LGB LR stock validation=1Y",
          "LGB LR stock validation=6M",
          "LGB TI stock validation=1Y",
          "LGB TI stock validation=6M",
          "RF LR sector validation=1Y",
          "RF LR sector validation=6M",
          "RF TI sector validation=1Y",
          "RF TI sector validation=6M",
          "SVR LR sector validation=1Y",
          "SVR LR sector validation=6M",
          "SVR TI sector validation=1Y",
          "LGB LR sector validation=1Y",
          "LGB LR sector validation=6M",
          "LGB TI sector validation=1Y",
          "LGB TI sector validation=6M"
         ],
         "y": [
          17.43294193504884,
          28.875620420788856,
          51.510805487285246,
          28.235984165179527,
          15.193367513309184,
          19.0174091810488,
          23.325794006180935,
          25.012300037530576,
          17.879210207221984,
          18.64110294326743,
          30.40638439818359,
          26.498868992867695,
          33.38331016884039,
          27.775063586473266,
          28.81520542216527,
          43.44898345150728,
          43.410813035433364,
          29.090695887092206,
          34.04823146341974,
          39.921940191156686,
          30.390033964117897,
          30.175535777219302,
          35.24599536618578
         ]
        },
        {
         "marker": {
          "symbol": [
           "x",
           "x",
           "x",
           "x",
           "x",
           "x",
           "x",
           "x",
           "x",
           "x",
           "x",
           "x",
           "circle",
           "circle",
           "circle",
           "circle",
           "circle",
           "circle",
           "circle",
           "circle",
           "circle",
           "circle",
           "circle"
          ]
         },
         "mode": "lines+markers",
         "name": "worst",
         "type": "scatter",
         "x": [
          "RF LR stock validation=1Y",
          "RF LR stock validation=6M",
          "RF TI stock validation=1Y",
          "RF TI stock validation=6M",
          "SVR LR stock validation=1Y",
          "SVR LR stock validation=6M",
          "SVR TI stock validation=1Y",
          "SVR TI stock validation=6M",
          "LGB LR stock validation=1Y",
          "LGB LR stock validation=6M",
          "LGB TI stock validation=1Y",
          "LGB TI stock validation=6M",
          "RF LR sector validation=1Y",
          "RF LR sector validation=6M",
          "RF TI sector validation=1Y",
          "RF TI sector validation=6M",
          "SVR LR sector validation=1Y",
          "SVR LR sector validation=6M",
          "SVR TI sector validation=1Y",
          "LGB LR sector validation=1Y",
          "LGB LR sector validation=6M",
          "LGB TI sector validation=1Y",
          "LGB TI sector validation=6M"
         ],
         "y": [
          16.29046040538907,
          18.425213460137144,
          42.58626848284363,
          32.567715221857874,
          17.612510876563228,
          19.98014760344542,
          20.411071037309465,
          18.9653597397734,
          16.556308210404282,
          15.574276435900272,
          33.14856308879058,
          20.775325134902246,
          21.036306366420845,
          21.98144473602025,
          29.492466378307604,
          33.13423048093737,
          40.04681757778255,
          26.074060412470363,
          41.74719228443319,
          29.40470834761356,
          28.65399660527678,
          39.018199836953144,
          28.721452612828497
         ]
        },
        {
         "marker": {
          "symbol": [
           "x",
           "x",
           "x",
           "x",
           "x",
           "x",
           "x",
           "x",
           "x",
           "x",
           "x",
           "x",
           "circle",
           "circle",
           "circle",
           "circle",
           "circle",
           "circle",
           "circle",
           "circle",
           "circle",
           "circle",
           "circle"
          ]
         },
         "mode": "lines+markers",
         "name": "running",
         "type": "scatter",
         "x": [
          "RF LR stock validation=1Y",
          "RF LR stock validation=6M",
          "RF TI stock validation=1Y",
          "RF TI stock validation=6M",
          "SVR LR stock validation=1Y",
          "SVR LR stock validation=6M",
          "SVR TI stock validation=1Y",
          "SVR TI stock validation=6M",
          "LGB LR stock validation=1Y",
          "LGB LR stock validation=6M",
          "LGB TI stock validation=1Y",
          "LGB TI stock validation=6M",
          "RF LR sector validation=1Y",
          "RF LR sector validation=6M",
          "RF TI sector validation=1Y",
          "RF TI sector validation=6M",
          "SVR LR sector validation=1Y",
          "SVR LR sector validation=6M",
          "SVR TI sector validation=1Y",
          "LGB LR sector validation=1Y",
          "LGB LR sector validation=6M",
          "LGB TI sector validation=1Y",
          "LGB TI sector validation=6M"
         ],
         "y": [
          22.41971500941254,
          18.833256196558075,
          52.06201464835642,
          32.68310926006828,
          17.15903306387213,
          20.400720704814077,
          32.411718455016846,
          32.78172953573065,
          19.66042738678979,
          17.719933612723853,
          29.815434256466418,
          21.507085863314963,
          21.036306366420845,
          21.981444736020247,
          26.501905347244275,
          34.821091309122465,
          40.04681757778255,
          26.07406041247039,
          38.17846572105993,
          33.37239529558984,
          28.653996605276884,
          39.01819983695313,
          28.721452612828475
         ]
        }
       ],
       "layout": {
        "template": {
         "data": {
          "bar": [
           {
            "error_x": {
             "color": "#2a3f5f"
            },
            "error_y": {
             "color": "#2a3f5f"
            },
            "marker": {
             "line": {
              "color": "#E5ECF6",
              "width": 0.5
             }
            },
            "type": "bar"
           }
          ],
          "barpolar": [
           {
            "marker": {
             "line": {
              "color": "#E5ECF6",
              "width": 0.5
             }
            },
            "type": "barpolar"
           }
          ],
          "carpet": [
           {
            "aaxis": {
             "endlinecolor": "#2a3f5f",
             "gridcolor": "white",
             "linecolor": "white",
             "minorgridcolor": "white",
             "startlinecolor": "#2a3f5f"
            },
            "baxis": {
             "endlinecolor": "#2a3f5f",
             "gridcolor": "white",
             "linecolor": "white",
             "minorgridcolor": "white",
             "startlinecolor": "#2a3f5f"
            },
            "type": "carpet"
           }
          ],
          "choropleth": [
           {
            "colorbar": {
             "outlinewidth": 0,
             "ticks": ""
            },
            "type": "choropleth"
           }
          ],
          "contour": [
           {
            "colorbar": {
             "outlinewidth": 0,
             "ticks": ""
            },
            "colorscale": [
             [
              0,
              "#0d0887"
             ],
             [
              0.1111111111111111,
              "#46039f"
             ],
             [
              0.2222222222222222,
              "#7201a8"
             ],
             [
              0.3333333333333333,
              "#9c179e"
             ],
             [
              0.4444444444444444,
              "#bd3786"
             ],
             [
              0.5555555555555556,
              "#d8576b"
             ],
             [
              0.6666666666666666,
              "#ed7953"
             ],
             [
              0.7777777777777778,
              "#fb9f3a"
             ],
             [
              0.8888888888888888,
              "#fdca26"
             ],
             [
              1,
              "#f0f921"
             ]
            ],
            "type": "contour"
           }
          ],
          "contourcarpet": [
           {
            "colorbar": {
             "outlinewidth": 0,
             "ticks": ""
            },
            "type": "contourcarpet"
           }
          ],
          "heatmap": [
           {
            "colorbar": {
             "outlinewidth": 0,
             "ticks": ""
            },
            "colorscale": [
             [
              0,
              "#0d0887"
             ],
             [
              0.1111111111111111,
              "#46039f"
             ],
             [
              0.2222222222222222,
              "#7201a8"
             ],
             [
              0.3333333333333333,
              "#9c179e"
             ],
             [
              0.4444444444444444,
              "#bd3786"
             ],
             [
              0.5555555555555556,
              "#d8576b"
             ],
             [
              0.6666666666666666,
              "#ed7953"
             ],
             [
              0.7777777777777778,
              "#fb9f3a"
             ],
             [
              0.8888888888888888,
              "#fdca26"
             ],
             [
              1,
              "#f0f921"
             ]
            ],
            "type": "heatmap"
           }
          ],
          "heatmapgl": [
           {
            "colorbar": {
             "outlinewidth": 0,
             "ticks": ""
            },
            "colorscale": [
             [
              0,
              "#0d0887"
             ],
             [
              0.1111111111111111,
              "#46039f"
             ],
             [
              0.2222222222222222,
              "#7201a8"
             ],
             [
              0.3333333333333333,
              "#9c179e"
             ],
             [
              0.4444444444444444,
              "#bd3786"
             ],
             [
              0.5555555555555556,
              "#d8576b"
             ],
             [
              0.6666666666666666,
              "#ed7953"
             ],
             [
              0.7777777777777778,
              "#fb9f3a"
             ],
             [
              0.8888888888888888,
              "#fdca26"
             ],
             [
              1,
              "#f0f921"
             ]
            ],
            "type": "heatmapgl"
           }
          ],
          "histogram": [
           {
            "marker": {
             "colorbar": {
              "outlinewidth": 0,
              "ticks": ""
             }
            },
            "type": "histogram"
           }
          ],
          "histogram2d": [
           {
            "colorbar": {
             "outlinewidth": 0,
             "ticks": ""
            },
            "colorscale": [
             [
              0,
              "#0d0887"
             ],
             [
              0.1111111111111111,
              "#46039f"
             ],
             [
              0.2222222222222222,
              "#7201a8"
             ],
             [
              0.3333333333333333,
              "#9c179e"
             ],
             [
              0.4444444444444444,
              "#bd3786"
             ],
             [
              0.5555555555555556,
              "#d8576b"
             ],
             [
              0.6666666666666666,
              "#ed7953"
             ],
             [
              0.7777777777777778,
              "#fb9f3a"
             ],
             [
              0.8888888888888888,
              "#fdca26"
             ],
             [
              1,
              "#f0f921"
             ]
            ],
            "type": "histogram2d"
           }
          ],
          "histogram2dcontour": [
           {
            "colorbar": {
             "outlinewidth": 0,
             "ticks": ""
            },
            "colorscale": [
             [
              0,
              "#0d0887"
             ],
             [
              0.1111111111111111,
              "#46039f"
             ],
             [
              0.2222222222222222,
              "#7201a8"
             ],
             [
              0.3333333333333333,
              "#9c179e"
             ],
             [
              0.4444444444444444,
              "#bd3786"
             ],
             [
              0.5555555555555556,
              "#d8576b"
             ],
             [
              0.6666666666666666,
              "#ed7953"
             ],
             [
              0.7777777777777778,
              "#fb9f3a"
             ],
             [
              0.8888888888888888,
              "#fdca26"
             ],
             [
              1,
              "#f0f921"
             ]
            ],
            "type": "histogram2dcontour"
           }
          ],
          "mesh3d": [
           {
            "colorbar": {
             "outlinewidth": 0,
             "ticks": ""
            },
            "type": "mesh3d"
           }
          ],
          "parcoords": [
           {
            "line": {
             "colorbar": {
              "outlinewidth": 0,
              "ticks": ""
             }
            },
            "type": "parcoords"
           }
          ],
          "pie": [
           {
            "automargin": true,
            "type": "pie"
           }
          ],
          "scatter": [
           {
            "marker": {
             "colorbar": {
              "outlinewidth": 0,
              "ticks": ""
             }
            },
            "type": "scatter"
           }
          ],
          "scatter3d": [
           {
            "line": {
             "colorbar": {
              "outlinewidth": 0,
              "ticks": ""
             }
            },
            "marker": {
             "colorbar": {
              "outlinewidth": 0,
              "ticks": ""
             }
            },
            "type": "scatter3d"
           }
          ],
          "scattercarpet": [
           {
            "marker": {
             "colorbar": {
              "outlinewidth": 0,
              "ticks": ""
             }
            },
            "type": "scattercarpet"
           }
          ],
          "scattergeo": [
           {
            "marker": {
             "colorbar": {
              "outlinewidth": 0,
              "ticks": ""
             }
            },
            "type": "scattergeo"
           }
          ],
          "scattergl": [
           {
            "marker": {
             "colorbar": {
              "outlinewidth": 0,
              "ticks": ""
             }
            },
            "type": "scattergl"
           }
          ],
          "scattermapbox": [
           {
            "marker": {
             "colorbar": {
              "outlinewidth": 0,
              "ticks": ""
             }
            },
            "type": "scattermapbox"
           }
          ],
          "scatterpolar": [
           {
            "marker": {
             "colorbar": {
              "outlinewidth": 0,
              "ticks": ""
             }
            },
            "type": "scatterpolar"
           }
          ],
          "scatterpolargl": [
           {
            "marker": {
             "colorbar": {
              "outlinewidth": 0,
              "ticks": ""
             }
            },
            "type": "scatterpolargl"
           }
          ],
          "scatterternary": [
           {
            "marker": {
             "colorbar": {
              "outlinewidth": 0,
              "ticks": ""
             }
            },
            "type": "scatterternary"
           }
          ],
          "surface": [
           {
            "colorbar": {
             "outlinewidth": 0,
             "ticks": ""
            },
            "colorscale": [
             [
              0,
              "#0d0887"
             ],
             [
              0.1111111111111111,
              "#46039f"
             ],
             [
              0.2222222222222222,
              "#7201a8"
             ],
             [
              0.3333333333333333,
              "#9c179e"
             ],
             [
              0.4444444444444444,
              "#bd3786"
             ],
             [
              0.5555555555555556,
              "#d8576b"
             ],
             [
              0.6666666666666666,
              "#ed7953"
             ],
             [
              0.7777777777777778,
              "#fb9f3a"
             ],
             [
              0.8888888888888888,
              "#fdca26"
             ],
             [
              1,
              "#f0f921"
             ]
            ],
            "type": "surface"
           }
          ],
          "table": [
           {
            "cells": {
             "fill": {
              "color": "#EBF0F8"
             },
             "line": {
              "color": "white"
             }
            },
            "header": {
             "fill": {
              "color": "#C8D4E3"
             },
             "line": {
              "color": "white"
             }
            },
            "type": "table"
           }
          ]
         },
         "layout": {
          "annotationdefaults": {
           "arrowcolor": "#2a3f5f",
           "arrowhead": 0,
           "arrowwidth": 1
          },
          "autotypenumbers": "strict",
          "coloraxis": {
           "colorbar": {
            "outlinewidth": 0,
            "ticks": ""
           }
          },
          "colorscale": {
           "diverging": [
            [
             0,
             "#8e0152"
            ],
            [
             0.1,
             "#c51b7d"
            ],
            [
             0.2,
             "#de77ae"
            ],
            [
             0.3,
             "#f1b6da"
            ],
            [
             0.4,
             "#fde0ef"
            ],
            [
             0.5,
             "#f7f7f7"
            ],
            [
             0.6,
             "#e6f5d0"
            ],
            [
             0.7,
             "#b8e186"
            ],
            [
             0.8,
             "#7fbc41"
            ],
            [
             0.9,
             "#4d9221"
            ],
            [
             1,
             "#276419"
            ]
           ],
           "sequential": [
            [
             0,
             "#0d0887"
            ],
            [
             0.1111111111111111,
             "#46039f"
            ],
            [
             0.2222222222222222,
             "#7201a8"
            ],
            [
             0.3333333333333333,
             "#9c179e"
            ],
            [
             0.4444444444444444,
             "#bd3786"
            ],
            [
             0.5555555555555556,
             "#d8576b"
            ],
            [
             0.6666666666666666,
             "#ed7953"
            ],
            [
             0.7777777777777778,
             "#fb9f3a"
            ],
            [
             0.8888888888888888,
             "#fdca26"
            ],
            [
             1,
             "#f0f921"
            ]
           ],
           "sequentialminus": [
            [
             0,
             "#0d0887"
            ],
            [
             0.1111111111111111,
             "#46039f"
            ],
            [
             0.2222222222222222,
             "#7201a8"
            ],
            [
             0.3333333333333333,
             "#9c179e"
            ],
            [
             0.4444444444444444,
             "#bd3786"
            ],
            [
             0.5555555555555556,
             "#d8576b"
            ],
            [
             0.6666666666666666,
             "#ed7953"
            ],
            [
             0.7777777777777778,
             "#fb9f3a"
            ],
            [
             0.8888888888888888,
             "#fdca26"
            ],
            [
             1,
             "#f0f921"
            ]
           ]
          },
          "colorway": [
           "#636efa",
           "#EF553B",
           "#00cc96",
           "#ab63fa",
           "#FFA15A",
           "#19d3f3",
           "#FF6692",
           "#B6E880",
           "#FF97FF",
           "#FECB52"
          ],
          "font": {
           "color": "#2a3f5f"
          },
          "geo": {
           "bgcolor": "white",
           "lakecolor": "white",
           "landcolor": "#E5ECF6",
           "showlakes": true,
           "showland": true,
           "subunitcolor": "white"
          },
          "hoverlabel": {
           "align": "left"
          },
          "hovermode": "closest",
          "mapbox": {
           "style": "light"
          },
          "paper_bgcolor": "white",
          "plot_bgcolor": "#E5ECF6",
          "polar": {
           "angularaxis": {
            "gridcolor": "white",
            "linecolor": "white",
            "ticks": ""
           },
           "bgcolor": "#E5ECF6",
           "radialaxis": {
            "gridcolor": "white",
            "linecolor": "white",
            "ticks": ""
           }
          },
          "scene": {
           "xaxis": {
            "backgroundcolor": "#E5ECF6",
            "gridcolor": "white",
            "gridwidth": 2,
            "linecolor": "white",
            "showbackground": true,
            "ticks": "",
            "zerolinecolor": "white"
           },
           "yaxis": {
            "backgroundcolor": "#E5ECF6",
            "gridcolor": "white",
            "gridwidth": 2,
            "linecolor": "white",
            "showbackground": true,
            "ticks": "",
            "zerolinecolor": "white"
           },
           "zaxis": {
            "backgroundcolor": "#E5ECF6",
            "gridcolor": "white",
            "gridwidth": 2,
            "linecolor": "white",
            "showbackground": true,
            "ticks": "",
            "zerolinecolor": "white"
           }
          },
          "shapedefaults": {
           "line": {
            "color": "#2a3f5f"
           }
          },
          "ternary": {
           "aaxis": {
            "gridcolor": "white",
            "linecolor": "white",
            "ticks": ""
           },
           "baxis": {
            "gridcolor": "white",
            "linecolor": "white",
            "ticks": ""
           },
           "bgcolor": "#E5ECF6",
           "caxis": {
            "gridcolor": "white",
            "linecolor": "white",
            "ticks": ""
           }
          },
          "title": {
           "x": 0.05
          },
          "xaxis": {
           "automargin": true,
           "gridcolor": "white",
           "linecolor": "white",
           "ticks": "",
           "title": {
            "standoff": 15
           },
           "zerolinecolor": "white",
           "zerolinewidth": 2
          },
          "yaxis": {
           "automargin": true,
           "gridcolor": "white",
           "linecolor": "white",
           "ticks": "",
           "title": {
            "standoff": 15
           },
           "zerolinecolor": "white",
           "zerolinewidth": 2
          }
         }
        }
       }
      },
      "text/html": [
       "<div>                            <div id=\"d13f7e41-b941-4fc2-bd88-08204ff74b1f\" class=\"plotly-graph-div\" style=\"height:525px; width:100%;\"></div>            <script type=\"text/javascript\">                require([\"plotly\"], function(Plotly) {                    window.PLOTLYENV=window.PLOTLYENV || {};                                    if (document.getElementById(\"d13f7e41-b941-4fc2-bd88-08204ff74b1f\")) {                    Plotly.newPlot(                        \"d13f7e41-b941-4fc2-bd88-08204ff74b1f\",                        [{\"marker\": {\"symbol\": [\"x\", \"x\", \"x\", \"x\", \"x\", \"x\", \"x\", \"x\", \"x\", \"x\", \"x\", \"x\", \"circle\", \"circle\", \"circle\", \"circle\", \"circle\", \"circle\", \"circle\", \"circle\", \"circle\", \"circle\", \"circle\"]}, \"mode\": \"lines+markers\", \"name\": \"baseline\", \"type\": \"scatter\", \"x\": [\"RF LR stock validation=1Y\", \"RF LR stock validation=6M\", \"RF TI stock validation=1Y\", \"RF TI stock validation=6M\", \"SVR LR stock validation=1Y\", \"SVR LR stock validation=6M\", \"SVR TI stock validation=1Y\", \"SVR TI stock validation=6M\", \"LGB LR stock validation=1Y\", \"LGB LR stock validation=6M\", \"LGB TI stock validation=1Y\", \"LGB TI stock validation=6M\", \"RF LR sector validation=1Y\", \"RF LR sector validation=6M\", \"RF TI sector validation=1Y\", \"RF TI sector validation=6M\", \"SVR LR sector validation=1Y\", \"SVR LR sector validation=6M\", \"SVR TI sector validation=1Y\", \"LGB LR sector validation=1Y\", \"LGB LR sector validation=6M\", \"LGB TI sector validation=1Y\", \"LGB TI sector validation=6M\"], \"y\": [17.029814606800798, 26.275844409087064, 33.156942370996845, 33.3068101302211, 17.6125108765632, 19.98014760344542, 20.40487443832102, 20.26324935219567, 16.55630821040426, 14.327970840742335, 29.81543425646641, 21.945648352692885, 30.79838210661936, 23.270054615788833, 21.845946790109526, 29.48223712897361, 40.04681757778255, 26.07406041247039, 47.236426202171295, 16.87349259961762, 35.29473807034379, 48.94441754737635, 37.22324653779584]}, {\"marker\": {\"symbol\": [\"x\", \"x\", \"x\", \"x\", \"x\", \"x\", \"x\", \"x\", \"x\", \"x\", \"x\", \"x\", \"circle\", \"circle\", \"circle\", \"circle\", \"circle\", \"circle\", \"circle\", \"circle\", \"circle\", \"circle\", \"circle\"]}, \"mode\": \"lines+markers\", \"name\": \"best\", \"type\": \"scatter\", \"x\": [\"RF LR stock validation=1Y\", \"RF LR stock validation=6M\", \"RF TI stock validation=1Y\", \"RF TI stock validation=6M\", \"SVR LR stock validation=1Y\", \"SVR LR stock validation=6M\", \"SVR TI stock validation=1Y\", \"SVR TI stock validation=6M\", \"LGB LR stock validation=1Y\", \"LGB LR stock validation=6M\", \"LGB TI stock validation=1Y\", \"LGB TI stock validation=6M\", \"RF LR sector validation=1Y\", \"RF LR sector validation=6M\", \"RF TI sector validation=1Y\", \"RF TI sector validation=6M\", \"SVR LR sector validation=1Y\", \"SVR LR sector validation=6M\", \"SVR TI sector validation=1Y\", \"LGB LR sector validation=1Y\", \"LGB LR sector validation=6M\", \"LGB TI sector validation=1Y\", \"LGB TI sector validation=6M\"], \"y\": [17.43294193504884, 28.875620420788856, 51.510805487285246, 28.235984165179527, 15.193367513309184, 19.0174091810488, 23.325794006180935, 25.012300037530576, 17.879210207221984, 18.64110294326743, 30.40638439818359, 26.498868992867695, 33.38331016884039, 27.775063586473266, 28.81520542216527, 43.44898345150728, 43.410813035433364, 29.090695887092206, 34.04823146341974, 39.921940191156686, 30.390033964117897, 30.175535777219302, 35.24599536618578]}, {\"marker\": {\"symbol\": [\"x\", \"x\", \"x\", \"x\", \"x\", \"x\", \"x\", \"x\", \"x\", \"x\", \"x\", \"x\", \"circle\", \"circle\", \"circle\", \"circle\", \"circle\", \"circle\", \"circle\", \"circle\", \"circle\", \"circle\", \"circle\"]}, \"mode\": \"lines+markers\", \"name\": \"worst\", \"type\": \"scatter\", \"x\": [\"RF LR stock validation=1Y\", \"RF LR stock validation=6M\", \"RF TI stock validation=1Y\", \"RF TI stock validation=6M\", \"SVR LR stock validation=1Y\", \"SVR LR stock validation=6M\", \"SVR TI stock validation=1Y\", \"SVR TI stock validation=6M\", \"LGB LR stock validation=1Y\", \"LGB LR stock validation=6M\", \"LGB TI stock validation=1Y\", \"LGB TI stock validation=6M\", \"RF LR sector validation=1Y\", \"RF LR sector validation=6M\", \"RF TI sector validation=1Y\", \"RF TI sector validation=6M\", \"SVR LR sector validation=1Y\", \"SVR LR sector validation=6M\", \"SVR TI sector validation=1Y\", \"LGB LR sector validation=1Y\", \"LGB LR sector validation=6M\", \"LGB TI sector validation=1Y\", \"LGB TI sector validation=6M\"], \"y\": [16.29046040538907, 18.425213460137144, 42.58626848284363, 32.567715221857874, 17.612510876563228, 19.98014760344542, 20.411071037309465, 18.9653597397734, 16.556308210404282, 15.574276435900272, 33.14856308879058, 20.775325134902246, 21.036306366420845, 21.98144473602025, 29.492466378307604, 33.13423048093737, 40.04681757778255, 26.074060412470363, 41.74719228443319, 29.40470834761356, 28.65399660527678, 39.018199836953144, 28.721452612828497]}, {\"marker\": {\"symbol\": [\"x\", \"x\", \"x\", \"x\", \"x\", \"x\", \"x\", \"x\", \"x\", \"x\", \"x\", \"x\", \"circle\", \"circle\", \"circle\", \"circle\", \"circle\", \"circle\", \"circle\", \"circle\", \"circle\", \"circle\", \"circle\"]}, \"mode\": \"lines+markers\", \"name\": \"running\", \"type\": \"scatter\", \"x\": [\"RF LR stock validation=1Y\", \"RF LR stock validation=6M\", \"RF TI stock validation=1Y\", \"RF TI stock validation=6M\", \"SVR LR stock validation=1Y\", \"SVR LR stock validation=6M\", \"SVR TI stock validation=1Y\", \"SVR TI stock validation=6M\", \"LGB LR stock validation=1Y\", \"LGB LR stock validation=6M\", \"LGB TI stock validation=1Y\", \"LGB TI stock validation=6M\", \"RF LR sector validation=1Y\", \"RF LR sector validation=6M\", \"RF TI sector validation=1Y\", \"RF TI sector validation=6M\", \"SVR LR sector validation=1Y\", \"SVR LR sector validation=6M\", \"SVR TI sector validation=1Y\", \"LGB LR sector validation=1Y\", \"LGB LR sector validation=6M\", \"LGB TI sector validation=1Y\", \"LGB TI sector validation=6M\"], \"y\": [22.41971500941254, 18.833256196558075, 52.06201464835642, 32.68310926006828, 17.15903306387213, 20.400720704814077, 32.411718455016846, 32.78172953573065, 19.66042738678979, 17.719933612723853, 29.815434256466418, 21.507085863314963, 21.036306366420845, 21.981444736020247, 26.501905347244275, 34.821091309122465, 40.04681757778255, 26.07406041247039, 38.17846572105993, 33.37239529558984, 28.653996605276884, 39.01819983695313, 28.721452612828475]}],                        {\"template\": {\"data\": {\"bar\": [{\"error_x\": {\"color\": \"#2a3f5f\"}, \"error_y\": {\"color\": \"#2a3f5f\"}, \"marker\": {\"line\": {\"color\": \"#E5ECF6\", \"width\": 0.5}}, \"type\": \"bar\"}], \"barpolar\": [{\"marker\": {\"line\": {\"color\": \"#E5ECF6\", \"width\": 0.5}}, \"type\": \"barpolar\"}], \"carpet\": [{\"aaxis\": {\"endlinecolor\": \"#2a3f5f\", \"gridcolor\": \"white\", \"linecolor\": \"white\", \"minorgridcolor\": \"white\", \"startlinecolor\": \"#2a3f5f\"}, \"baxis\": {\"endlinecolor\": \"#2a3f5f\", \"gridcolor\": \"white\", \"linecolor\": \"white\", \"minorgridcolor\": \"white\", \"startlinecolor\": \"#2a3f5f\"}, \"type\": \"carpet\"}], \"choropleth\": [{\"colorbar\": {\"outlinewidth\": 0, \"ticks\": \"\"}, \"type\": \"choropleth\"}], \"contour\": [{\"colorbar\": {\"outlinewidth\": 0, \"ticks\": \"\"}, \"colorscale\": [[0.0, \"#0d0887\"], [0.1111111111111111, \"#46039f\"], [0.2222222222222222, \"#7201a8\"], [0.3333333333333333, \"#9c179e\"], [0.4444444444444444, \"#bd3786\"], [0.5555555555555556, \"#d8576b\"], [0.6666666666666666, \"#ed7953\"], [0.7777777777777778, \"#fb9f3a\"], [0.8888888888888888, \"#fdca26\"], [1.0, \"#f0f921\"]], \"type\": \"contour\"}], \"contourcarpet\": [{\"colorbar\": {\"outlinewidth\": 0, \"ticks\": \"\"}, \"type\": \"contourcarpet\"}], \"heatmap\": [{\"colorbar\": {\"outlinewidth\": 0, \"ticks\": \"\"}, \"colorscale\": [[0.0, \"#0d0887\"], [0.1111111111111111, \"#46039f\"], [0.2222222222222222, \"#7201a8\"], [0.3333333333333333, \"#9c179e\"], [0.4444444444444444, \"#bd3786\"], [0.5555555555555556, \"#d8576b\"], [0.6666666666666666, \"#ed7953\"], [0.7777777777777778, \"#fb9f3a\"], [0.8888888888888888, \"#fdca26\"], [1.0, \"#f0f921\"]], \"type\": \"heatmap\"}], \"heatmapgl\": [{\"colorbar\": {\"outlinewidth\": 0, \"ticks\": \"\"}, \"colorscale\": [[0.0, \"#0d0887\"], [0.1111111111111111, \"#46039f\"], [0.2222222222222222, \"#7201a8\"], [0.3333333333333333, \"#9c179e\"], [0.4444444444444444, \"#bd3786\"], [0.5555555555555556, \"#d8576b\"], [0.6666666666666666, \"#ed7953\"], [0.7777777777777778, \"#fb9f3a\"], [0.8888888888888888, \"#fdca26\"], [1.0, \"#f0f921\"]], \"type\": \"heatmapgl\"}], \"histogram\": [{\"marker\": {\"colorbar\": {\"outlinewidth\": 0, \"ticks\": \"\"}}, \"type\": \"histogram\"}], \"histogram2d\": [{\"colorbar\": {\"outlinewidth\": 0, \"ticks\": \"\"}, \"colorscale\": [[0.0, \"#0d0887\"], [0.1111111111111111, \"#46039f\"], [0.2222222222222222, \"#7201a8\"], [0.3333333333333333, \"#9c179e\"], [0.4444444444444444, \"#bd3786\"], [0.5555555555555556, \"#d8576b\"], [0.6666666666666666, \"#ed7953\"], [0.7777777777777778, \"#fb9f3a\"], [0.8888888888888888, \"#fdca26\"], [1.0, \"#f0f921\"]], \"type\": \"histogram2d\"}], \"histogram2dcontour\": [{\"colorbar\": {\"outlinewidth\": 0, \"ticks\": \"\"}, \"colorscale\": [[0.0, \"#0d0887\"], [0.1111111111111111, \"#46039f\"], [0.2222222222222222, \"#7201a8\"], [0.3333333333333333, \"#9c179e\"], [0.4444444444444444, \"#bd3786\"], [0.5555555555555556, \"#d8576b\"], [0.6666666666666666, \"#ed7953\"], [0.7777777777777778, \"#fb9f3a\"], [0.8888888888888888, \"#fdca26\"], [1.0, \"#f0f921\"]], \"type\": \"histogram2dcontour\"}], \"mesh3d\": [{\"colorbar\": {\"outlinewidth\": 0, \"ticks\": \"\"}, \"type\": \"mesh3d\"}], \"parcoords\": [{\"line\": {\"colorbar\": {\"outlinewidth\": 0, \"ticks\": \"\"}}, \"type\": \"parcoords\"}], \"pie\": [{\"automargin\": true, \"type\": \"pie\"}], \"scatter\": [{\"marker\": {\"colorbar\": {\"outlinewidth\": 0, \"ticks\": \"\"}}, \"type\": \"scatter\"}], \"scatter3d\": [{\"line\": {\"colorbar\": {\"outlinewidth\": 0, \"ticks\": \"\"}}, \"marker\": {\"colorbar\": {\"outlinewidth\": 0, \"ticks\": \"\"}}, \"type\": \"scatter3d\"}], \"scattercarpet\": [{\"marker\": {\"colorbar\": {\"outlinewidth\": 0, \"ticks\": \"\"}}, \"type\": \"scattercarpet\"}], \"scattergeo\": [{\"marker\": {\"colorbar\": {\"outlinewidth\": 0, \"ticks\": \"\"}}, \"type\": \"scattergeo\"}], \"scattergl\": [{\"marker\": {\"colorbar\": {\"outlinewidth\": 0, \"ticks\": \"\"}}, \"type\": \"scattergl\"}], \"scattermapbox\": [{\"marker\": {\"colorbar\": {\"outlinewidth\": 0, \"ticks\": \"\"}}, \"type\": \"scattermapbox\"}], \"scatterpolar\": [{\"marker\": {\"colorbar\": {\"outlinewidth\": 0, \"ticks\": \"\"}}, \"type\": \"scatterpolar\"}], \"scatterpolargl\": [{\"marker\": {\"colorbar\": {\"outlinewidth\": 0, \"ticks\": \"\"}}, \"type\": \"scatterpolargl\"}], \"scatterternary\": [{\"marker\": {\"colorbar\": {\"outlinewidth\": 0, \"ticks\": \"\"}}, \"type\": \"scatterternary\"}], \"surface\": [{\"colorbar\": {\"outlinewidth\": 0, \"ticks\": \"\"}, \"colorscale\": [[0.0, \"#0d0887\"], [0.1111111111111111, \"#46039f\"], [0.2222222222222222, \"#7201a8\"], [0.3333333333333333, \"#9c179e\"], [0.4444444444444444, \"#bd3786\"], [0.5555555555555556, \"#d8576b\"], [0.6666666666666666, \"#ed7953\"], [0.7777777777777778, \"#fb9f3a\"], [0.8888888888888888, \"#fdca26\"], [1.0, \"#f0f921\"]], \"type\": \"surface\"}], \"table\": [{\"cells\": {\"fill\": {\"color\": \"#EBF0F8\"}, \"line\": {\"color\": \"white\"}}, \"header\": {\"fill\": {\"color\": \"#C8D4E3\"}, \"line\": {\"color\": \"white\"}}, \"type\": \"table\"}]}, \"layout\": {\"annotationdefaults\": {\"arrowcolor\": \"#2a3f5f\", \"arrowhead\": 0, \"arrowwidth\": 1}, \"autotypenumbers\": \"strict\", \"coloraxis\": {\"colorbar\": {\"outlinewidth\": 0, \"ticks\": \"\"}}, \"colorscale\": {\"diverging\": [[0, \"#8e0152\"], [0.1, \"#c51b7d\"], [0.2, \"#de77ae\"], [0.3, \"#f1b6da\"], [0.4, \"#fde0ef\"], [0.5, \"#f7f7f7\"], [0.6, \"#e6f5d0\"], [0.7, \"#b8e186\"], [0.8, \"#7fbc41\"], [0.9, \"#4d9221\"], [1, \"#276419\"]], \"sequential\": [[0.0, \"#0d0887\"], [0.1111111111111111, \"#46039f\"], [0.2222222222222222, \"#7201a8\"], [0.3333333333333333, \"#9c179e\"], [0.4444444444444444, \"#bd3786\"], [0.5555555555555556, \"#d8576b\"], [0.6666666666666666, \"#ed7953\"], [0.7777777777777778, \"#fb9f3a\"], [0.8888888888888888, \"#fdca26\"], [1.0, \"#f0f921\"]], \"sequentialminus\": [[0.0, \"#0d0887\"], [0.1111111111111111, \"#46039f\"], [0.2222222222222222, \"#7201a8\"], [0.3333333333333333, \"#9c179e\"], [0.4444444444444444, \"#bd3786\"], [0.5555555555555556, \"#d8576b\"], [0.6666666666666666, \"#ed7953\"], [0.7777777777777778, \"#fb9f3a\"], [0.8888888888888888, \"#fdca26\"], [1.0, \"#f0f921\"]]}, \"colorway\": [\"#636efa\", \"#EF553B\", \"#00cc96\", \"#ab63fa\", \"#FFA15A\", \"#19d3f3\", \"#FF6692\", \"#B6E880\", \"#FF97FF\", \"#FECB52\"], \"font\": {\"color\": \"#2a3f5f\"}, \"geo\": {\"bgcolor\": \"white\", \"lakecolor\": \"white\", \"landcolor\": \"#E5ECF6\", \"showlakes\": true, \"showland\": true, \"subunitcolor\": \"white\"}, \"hoverlabel\": {\"align\": \"left\"}, \"hovermode\": \"closest\", \"mapbox\": {\"style\": \"light\"}, \"paper_bgcolor\": \"white\", \"plot_bgcolor\": \"#E5ECF6\", \"polar\": {\"angularaxis\": {\"gridcolor\": \"white\", \"linecolor\": \"white\", \"ticks\": \"\"}, \"bgcolor\": \"#E5ECF6\", \"radialaxis\": {\"gridcolor\": \"white\", \"linecolor\": \"white\", \"ticks\": \"\"}}, \"scene\": {\"xaxis\": {\"backgroundcolor\": \"#E5ECF6\", \"gridcolor\": \"white\", \"gridwidth\": 2, \"linecolor\": \"white\", \"showbackground\": true, \"ticks\": \"\", \"zerolinecolor\": \"white\"}, \"yaxis\": {\"backgroundcolor\": \"#E5ECF6\", \"gridcolor\": \"white\", \"gridwidth\": 2, \"linecolor\": \"white\", \"showbackground\": true, \"ticks\": \"\", \"zerolinecolor\": \"white\"}, \"zaxis\": {\"backgroundcolor\": \"#E5ECF6\", \"gridcolor\": \"white\", \"gridwidth\": 2, \"linecolor\": \"white\", \"showbackground\": true, \"ticks\": \"\", \"zerolinecolor\": \"white\"}}, \"shapedefaults\": {\"line\": {\"color\": \"#2a3f5f\"}}, \"ternary\": {\"aaxis\": {\"gridcolor\": \"white\", \"linecolor\": \"white\", \"ticks\": \"\"}, \"baxis\": {\"gridcolor\": \"white\", \"linecolor\": \"white\", \"ticks\": \"\"}, \"bgcolor\": \"#E5ECF6\", \"caxis\": {\"gridcolor\": \"white\", \"linecolor\": \"white\", \"ticks\": \"\"}}, \"title\": {\"x\": 0.05}, \"xaxis\": {\"automargin\": true, \"gridcolor\": \"white\", \"linecolor\": \"white\", \"ticks\": \"\", \"title\": {\"standoff\": 15}, \"zerolinecolor\": \"white\", \"zerolinewidth\": 2}, \"yaxis\": {\"automargin\": true, \"gridcolor\": \"white\", \"linecolor\": \"white\", \"ticks\": \"\", \"title\": {\"standoff\": 15}, \"zerolinecolor\": \"white\", \"zerolinewidth\": 2}}}},                        {\"responsive\": true}                    ).then(function(){\n",
       "                            \n",
       "var gd = document.getElementById('d13f7e41-b941-4fc2-bd88-08204ff74b1f');\n",
       "var x = new MutationObserver(function (mutations, observer) {{\n",
       "        var display = window.getComputedStyle(gd).display;\n",
       "        if (!display || display === 'none') {{\n",
       "            console.log([gd, 'removed!']);\n",
       "            Plotly.purge(gd);\n",
       "            observer.disconnect();\n",
       "        }}\n",
       "}});\n",
       "\n",
       "// Listen for the removal of the full notebook cells\n",
       "var notebookContainer = gd.closest('#notebook-container');\n",
       "if (notebookContainer) {{\n",
       "    x.observe(notebookContainer, {childList: true});\n",
       "}}\n",
       "\n",
       "// Listen for the clearing of the current output cell\n",
       "var outputEl = gd.closest('.output');\n",
       "if (outputEl) {{\n",
       "    x.observe(outputEl, {childList: true});\n",
       "}}\n",
       "\n",
       "                        })                };                });            </script>        </div>"
      ]
     },
     "metadata": {},
     "output_type": "display_data"
    }
   ],
   "source": [
    "marker_signs = {'sector':'circle','stock':'x'}\n",
    "dashes={'sector':'dash','stock':'dashdot','PI running worst':'dot'}\n",
    "fig = go.Figure()\n",
    "\n",
    "for tr_name in ['baseline','best','worst','running']:\n",
    "    stats=statistics_dict[statistics_dict['method']==tr_name]\n",
    "    symbol = [marker_signs[i] for i in stats['level']]\n",
    "    line_symbol = [dashes[i] for i in stats['level']]\n",
    "    fig.add_trace(\n",
    "        go.Scatter(x=stats[\"name\"],y=stats[\"MDD\"],name=stats['method'].values[0],\n",
    "                  marker_symbol=symbol))\\\n",
    "            .update_traces(mode='lines+markers')\n",
    "fig.show()"
   ]
  },
  {
   "cell_type": "code",
   "execution_count": 7,
   "id": "original-coordinator",
   "metadata": {},
   "outputs": [
    {
     "data": {
      "application/vnd.plotly.v1+json": {
       "config": {
        "plotlyServerURL": "https://plot.ly"
       },
       "data": [
        {
         "line": {
          "color": "black",
          "dash": "solid"
         },
         "marker": {
          "symbol": [
           "circle",
           "circle",
           "circle",
           "circle",
           "circle",
           "x",
           "x",
           "x",
           "x",
           "x",
           "x"
          ]
         },
         "mode": "lines+markers",
         "name": "baseline 6M",
         "type": "scatter",
         "x": [
          "LGB LR sector",
          "LGB TI sector",
          "RF LR sector",
          "RF TI sector",
          "SVR LR sector",
          "LGB LR stock",
          "LGB TI stock",
          "RF LR stock",
          "RF TI stock",
          "SVR LR stock",
          "SVR TI stock"
         ],
         "xaxis": "x",
         "y": [
          35.29473807034379,
          37.22324653779584,
          23.270054615788833,
          29.48223712897361,
          26.07406041247039,
          14.327970840742335,
          21.945648352692885,
          26.275844409087064,
          33.3068101302211,
          19.98014760344542,
          20.26324935219567
         ],
         "yaxis": "y"
        },
        {
         "line": {
          "color": "#2CA02C",
          "dash": "solid"
         },
         "marker": {
          "symbol": [
           "circle",
           "circle",
           "circle",
           "circle",
           "circle",
           "x",
           "x",
           "x",
           "x",
           "x",
           "x"
          ]
         },
         "mode": "lines+markers",
         "name": "best 6M",
         "type": "scatter",
         "x": [
          "LGB LR sector",
          "LGB TI sector",
          "RF LR sector",
          "RF TI sector",
          "SVR LR sector",
          "LGB LR stock",
          "LGB TI stock",
          "RF LR stock",
          "RF TI stock",
          "SVR LR stock",
          "SVR TI stock"
         ],
         "xaxis": "x",
         "y": [
          30.390033964117897,
          35.24599536618578,
          27.775063586473266,
          43.44898345150728,
          29.090695887092206,
          18.64110294326743,
          26.498868992867695,
          28.875620420788856,
          28.235984165179527,
          19.0174091810488,
          25.012300037530576
         ],
         "yaxis": "y"
        },
        {
         "line": {
          "color": "#D62728",
          "dash": "solid"
         },
         "marker": {
          "symbol": [
           "circle",
           "circle",
           "circle",
           "circle",
           "circle",
           "x",
           "x",
           "x",
           "x",
           "x",
           "x"
          ]
         },
         "mode": "lines+markers",
         "name": "worst 6M",
         "type": "scatter",
         "x": [
          "LGB LR sector",
          "LGB TI sector",
          "RF LR sector",
          "RF TI sector",
          "SVR LR sector",
          "LGB LR stock",
          "LGB TI stock",
          "RF LR stock",
          "RF TI stock",
          "SVR LR stock",
          "SVR TI stock"
         ],
         "xaxis": "x",
         "y": [
          28.65399660527678,
          28.721452612828497,
          21.98144473602025,
          33.13423048093737,
          26.074060412470363,
          15.574276435900272,
          20.775325134902246,
          18.425213460137144,
          32.567715221857874,
          19.98014760344542,
          18.9653597397734
         ],
         "yaxis": "y"
        },
        {
         "line": {
          "color": "#511CFB",
          "dash": "solid"
         },
         "marker": {
          "symbol": [
           "circle",
           "circle",
           "circle",
           "circle",
           "circle",
           "x",
           "x",
           "x",
           "x",
           "x",
           "x"
          ]
         },
         "mode": "lines+markers",
         "name": "running 6M",
         "type": "scatter",
         "x": [
          "LGB LR sector",
          "LGB TI sector",
          "RF LR sector",
          "RF TI sector",
          "SVR LR sector",
          "LGB LR stock",
          "LGB TI stock",
          "RF LR stock",
          "RF TI stock",
          "SVR LR stock",
          "SVR TI stock"
         ],
         "xaxis": "x",
         "y": [
          28.653996605276884,
          28.721452612828475,
          21.981444736020247,
          34.821091309122465,
          26.07406041247039,
          17.719933612723853,
          21.507085863314963,
          18.833256196558075,
          32.68310926006828,
          20.400720704814077,
          32.78172953573065
         ],
         "yaxis": "y"
        },
        {
         "line": {
          "color": "black",
          "dash": "dash"
         },
         "marker": {
          "symbol": [
           "circle",
           "circle",
           "circle",
           "circle",
           "circle",
           "circle",
           "x",
           "x",
           "x",
           "x",
           "x",
           "x"
          ]
         },
         "mode": "lines+markers",
         "name": "baseline 1Y",
         "type": "scatter",
         "x": [
          "LGB LR sector",
          "LGB TI sector",
          "RF LR sector",
          "RF TI sector",
          "SVR LR sector",
          "SVR TI sector",
          "LGB LR stock",
          "LGB TI stock",
          "RF LR stock",
          "RF TI stock",
          "SVR LR stock",
          "SVR TI stock"
         ],
         "xaxis": "x2",
         "y": [
          16.87349259961762,
          48.94441754737635,
          30.79838210661936,
          21.845946790109526,
          40.04681757778255,
          47.236426202171295,
          16.55630821040426,
          29.81543425646641,
          17.029814606800798,
          33.156942370996845,
          17.6125108765632,
          20.40487443832102
         ],
         "yaxis": "y2"
        },
        {
         "line": {
          "color": "#2CA02C",
          "dash": "dash"
         },
         "marker": {
          "symbol": [
           "circle",
           "circle",
           "circle",
           "circle",
           "circle",
           "circle",
           "x",
           "x",
           "x",
           "x",
           "x",
           "x"
          ]
         },
         "mode": "lines+markers",
         "name": "best 1Y",
         "type": "scatter",
         "x": [
          "LGB LR sector",
          "LGB TI sector",
          "RF LR sector",
          "RF TI sector",
          "SVR LR sector",
          "SVR TI sector",
          "LGB LR stock",
          "LGB TI stock",
          "RF LR stock",
          "RF TI stock",
          "SVR LR stock",
          "SVR TI stock"
         ],
         "xaxis": "x2",
         "y": [
          39.921940191156686,
          30.175535777219302,
          33.38331016884039,
          28.81520542216527,
          43.410813035433364,
          34.04823146341974,
          17.879210207221984,
          30.40638439818359,
          17.43294193504884,
          51.510805487285246,
          15.193367513309184,
          23.325794006180935
         ],
         "yaxis": "y2"
        },
        {
         "line": {
          "color": "#D62728",
          "dash": "dash"
         },
         "marker": {
          "symbol": [
           "circle",
           "circle",
           "circle",
           "circle",
           "circle",
           "circle",
           "x",
           "x",
           "x",
           "x",
           "x",
           "x"
          ]
         },
         "mode": "lines+markers",
         "name": "worst 1Y",
         "type": "scatter",
         "x": [
          "LGB LR sector",
          "LGB TI sector",
          "RF LR sector",
          "RF TI sector",
          "SVR LR sector",
          "SVR TI sector",
          "LGB LR stock",
          "LGB TI stock",
          "RF LR stock",
          "RF TI stock",
          "SVR LR stock",
          "SVR TI stock"
         ],
         "xaxis": "x2",
         "y": [
          29.40470834761356,
          39.018199836953144,
          21.036306366420845,
          29.492466378307604,
          40.04681757778255,
          41.74719228443319,
          16.556308210404282,
          33.14856308879058,
          16.29046040538907,
          42.58626848284363,
          17.612510876563228,
          20.411071037309465
         ],
         "yaxis": "y2"
        },
        {
         "line": {
          "color": "#511CFB",
          "dash": "dash"
         },
         "marker": {
          "symbol": [
           "circle",
           "circle",
           "circle",
           "circle",
           "circle",
           "circle",
           "x",
           "x",
           "x",
           "x",
           "x",
           "x"
          ]
         },
         "mode": "lines+markers",
         "name": "running 1Y",
         "type": "scatter",
         "x": [
          "LGB LR sector",
          "LGB TI sector",
          "RF LR sector",
          "RF TI sector",
          "SVR LR sector",
          "SVR TI sector",
          "LGB LR stock",
          "LGB TI stock",
          "RF LR stock",
          "RF TI stock",
          "SVR LR stock",
          "SVR TI stock"
         ],
         "xaxis": "x2",
         "y": [
          33.37239529558984,
          39.01819983695313,
          21.036306366420845,
          26.501905347244275,
          40.04681757778255,
          38.17846572105993,
          19.66042738678979,
          29.815434256466418,
          22.41971500941254,
          52.06201464835642,
          17.15903306387213,
          32.411718455016846
         ],
         "yaxis": "y2"
        }
       ],
       "layout": {
        "annotations": [
         {
          "font": {
           "size": 16
          },
          "showarrow": false,
          "text": "6M",
          "x": 0.5,
          "xanchor": "center",
          "xref": "paper",
          "y": 1,
          "yanchor": "bottom",
          "yref": "paper"
         },
         {
          "font": {
           "size": 16
          },
          "showarrow": false,
          "text": "1Y",
          "x": 0.5,
          "xanchor": "center",
          "xref": "paper",
          "y": 0.375,
          "yanchor": "bottom",
          "yref": "paper"
         }
        ],
        "template": {
         "data": {
          "bar": [
           {
            "error_x": {
             "color": "#2a3f5f"
            },
            "error_y": {
             "color": "#2a3f5f"
            },
            "marker": {
             "line": {
              "color": "#E5ECF6",
              "width": 0.5
             }
            },
            "type": "bar"
           }
          ],
          "barpolar": [
           {
            "marker": {
             "line": {
              "color": "#E5ECF6",
              "width": 0.5
             }
            },
            "type": "barpolar"
           }
          ],
          "carpet": [
           {
            "aaxis": {
             "endlinecolor": "#2a3f5f",
             "gridcolor": "white",
             "linecolor": "white",
             "minorgridcolor": "white",
             "startlinecolor": "#2a3f5f"
            },
            "baxis": {
             "endlinecolor": "#2a3f5f",
             "gridcolor": "white",
             "linecolor": "white",
             "minorgridcolor": "white",
             "startlinecolor": "#2a3f5f"
            },
            "type": "carpet"
           }
          ],
          "choropleth": [
           {
            "colorbar": {
             "outlinewidth": 0,
             "ticks": ""
            },
            "type": "choropleth"
           }
          ],
          "contour": [
           {
            "colorbar": {
             "outlinewidth": 0,
             "ticks": ""
            },
            "colorscale": [
             [
              0,
              "#0d0887"
             ],
             [
              0.1111111111111111,
              "#46039f"
             ],
             [
              0.2222222222222222,
              "#7201a8"
             ],
             [
              0.3333333333333333,
              "#9c179e"
             ],
             [
              0.4444444444444444,
              "#bd3786"
             ],
             [
              0.5555555555555556,
              "#d8576b"
             ],
             [
              0.6666666666666666,
              "#ed7953"
             ],
             [
              0.7777777777777778,
              "#fb9f3a"
             ],
             [
              0.8888888888888888,
              "#fdca26"
             ],
             [
              1,
              "#f0f921"
             ]
            ],
            "type": "contour"
           }
          ],
          "contourcarpet": [
           {
            "colorbar": {
             "outlinewidth": 0,
             "ticks": ""
            },
            "type": "contourcarpet"
           }
          ],
          "heatmap": [
           {
            "colorbar": {
             "outlinewidth": 0,
             "ticks": ""
            },
            "colorscale": [
             [
              0,
              "#0d0887"
             ],
             [
              0.1111111111111111,
              "#46039f"
             ],
             [
              0.2222222222222222,
              "#7201a8"
             ],
             [
              0.3333333333333333,
              "#9c179e"
             ],
             [
              0.4444444444444444,
              "#bd3786"
             ],
             [
              0.5555555555555556,
              "#d8576b"
             ],
             [
              0.6666666666666666,
              "#ed7953"
             ],
             [
              0.7777777777777778,
              "#fb9f3a"
             ],
             [
              0.8888888888888888,
              "#fdca26"
             ],
             [
              1,
              "#f0f921"
             ]
            ],
            "type": "heatmap"
           }
          ],
          "heatmapgl": [
           {
            "colorbar": {
             "outlinewidth": 0,
             "ticks": ""
            },
            "colorscale": [
             [
              0,
              "#0d0887"
             ],
             [
              0.1111111111111111,
              "#46039f"
             ],
             [
              0.2222222222222222,
              "#7201a8"
             ],
             [
              0.3333333333333333,
              "#9c179e"
             ],
             [
              0.4444444444444444,
              "#bd3786"
             ],
             [
              0.5555555555555556,
              "#d8576b"
             ],
             [
              0.6666666666666666,
              "#ed7953"
             ],
             [
              0.7777777777777778,
              "#fb9f3a"
             ],
             [
              0.8888888888888888,
              "#fdca26"
             ],
             [
              1,
              "#f0f921"
             ]
            ],
            "type": "heatmapgl"
           }
          ],
          "histogram": [
           {
            "marker": {
             "colorbar": {
              "outlinewidth": 0,
              "ticks": ""
             }
            },
            "type": "histogram"
           }
          ],
          "histogram2d": [
           {
            "colorbar": {
             "outlinewidth": 0,
             "ticks": ""
            },
            "colorscale": [
             [
              0,
              "#0d0887"
             ],
             [
              0.1111111111111111,
              "#46039f"
             ],
             [
              0.2222222222222222,
              "#7201a8"
             ],
             [
              0.3333333333333333,
              "#9c179e"
             ],
             [
              0.4444444444444444,
              "#bd3786"
             ],
             [
              0.5555555555555556,
              "#d8576b"
             ],
             [
              0.6666666666666666,
              "#ed7953"
             ],
             [
              0.7777777777777778,
              "#fb9f3a"
             ],
             [
              0.8888888888888888,
              "#fdca26"
             ],
             [
              1,
              "#f0f921"
             ]
            ],
            "type": "histogram2d"
           }
          ],
          "histogram2dcontour": [
           {
            "colorbar": {
             "outlinewidth": 0,
             "ticks": ""
            },
            "colorscale": [
             [
              0,
              "#0d0887"
             ],
             [
              0.1111111111111111,
              "#46039f"
             ],
             [
              0.2222222222222222,
              "#7201a8"
             ],
             [
              0.3333333333333333,
              "#9c179e"
             ],
             [
              0.4444444444444444,
              "#bd3786"
             ],
             [
              0.5555555555555556,
              "#d8576b"
             ],
             [
              0.6666666666666666,
              "#ed7953"
             ],
             [
              0.7777777777777778,
              "#fb9f3a"
             ],
             [
              0.8888888888888888,
              "#fdca26"
             ],
             [
              1,
              "#f0f921"
             ]
            ],
            "type": "histogram2dcontour"
           }
          ],
          "mesh3d": [
           {
            "colorbar": {
             "outlinewidth": 0,
             "ticks": ""
            },
            "type": "mesh3d"
           }
          ],
          "parcoords": [
           {
            "line": {
             "colorbar": {
              "outlinewidth": 0,
              "ticks": ""
             }
            },
            "type": "parcoords"
           }
          ],
          "pie": [
           {
            "automargin": true,
            "type": "pie"
           }
          ],
          "scatter": [
           {
            "marker": {
             "colorbar": {
              "outlinewidth": 0,
              "ticks": ""
             }
            },
            "type": "scatter"
           }
          ],
          "scatter3d": [
           {
            "line": {
             "colorbar": {
              "outlinewidth": 0,
              "ticks": ""
             }
            },
            "marker": {
             "colorbar": {
              "outlinewidth": 0,
              "ticks": ""
             }
            },
            "type": "scatter3d"
           }
          ],
          "scattercarpet": [
           {
            "marker": {
             "colorbar": {
              "outlinewidth": 0,
              "ticks": ""
             }
            },
            "type": "scattercarpet"
           }
          ],
          "scattergeo": [
           {
            "marker": {
             "colorbar": {
              "outlinewidth": 0,
              "ticks": ""
             }
            },
            "type": "scattergeo"
           }
          ],
          "scattergl": [
           {
            "marker": {
             "colorbar": {
              "outlinewidth": 0,
              "ticks": ""
             }
            },
            "type": "scattergl"
           }
          ],
          "scattermapbox": [
           {
            "marker": {
             "colorbar": {
              "outlinewidth": 0,
              "ticks": ""
             }
            },
            "type": "scattermapbox"
           }
          ],
          "scatterpolar": [
           {
            "marker": {
             "colorbar": {
              "outlinewidth": 0,
              "ticks": ""
             }
            },
            "type": "scatterpolar"
           }
          ],
          "scatterpolargl": [
           {
            "marker": {
             "colorbar": {
              "outlinewidth": 0,
              "ticks": ""
             }
            },
            "type": "scatterpolargl"
           }
          ],
          "scatterternary": [
           {
            "marker": {
             "colorbar": {
              "outlinewidth": 0,
              "ticks": ""
             }
            },
            "type": "scatterternary"
           }
          ],
          "surface": [
           {
            "colorbar": {
             "outlinewidth": 0,
             "ticks": ""
            },
            "colorscale": [
             [
              0,
              "#0d0887"
             ],
             [
              0.1111111111111111,
              "#46039f"
             ],
             [
              0.2222222222222222,
              "#7201a8"
             ],
             [
              0.3333333333333333,
              "#9c179e"
             ],
             [
              0.4444444444444444,
              "#bd3786"
             ],
             [
              0.5555555555555556,
              "#d8576b"
             ],
             [
              0.6666666666666666,
              "#ed7953"
             ],
             [
              0.7777777777777778,
              "#fb9f3a"
             ],
             [
              0.8888888888888888,
              "#fdca26"
             ],
             [
              1,
              "#f0f921"
             ]
            ],
            "type": "surface"
           }
          ],
          "table": [
           {
            "cells": {
             "fill": {
              "color": "#EBF0F8"
             },
             "line": {
              "color": "white"
             }
            },
            "header": {
             "fill": {
              "color": "#C8D4E3"
             },
             "line": {
              "color": "white"
             }
            },
            "type": "table"
           }
          ]
         },
         "layout": {
          "annotationdefaults": {
           "arrowcolor": "#2a3f5f",
           "arrowhead": 0,
           "arrowwidth": 1
          },
          "autotypenumbers": "strict",
          "coloraxis": {
           "colorbar": {
            "outlinewidth": 0,
            "ticks": ""
           }
          },
          "colorscale": {
           "diverging": [
            [
             0,
             "#8e0152"
            ],
            [
             0.1,
             "#c51b7d"
            ],
            [
             0.2,
             "#de77ae"
            ],
            [
             0.3,
             "#f1b6da"
            ],
            [
             0.4,
             "#fde0ef"
            ],
            [
             0.5,
             "#f7f7f7"
            ],
            [
             0.6,
             "#e6f5d0"
            ],
            [
             0.7,
             "#b8e186"
            ],
            [
             0.8,
             "#7fbc41"
            ],
            [
             0.9,
             "#4d9221"
            ],
            [
             1,
             "#276419"
            ]
           ],
           "sequential": [
            [
             0,
             "#0d0887"
            ],
            [
             0.1111111111111111,
             "#46039f"
            ],
            [
             0.2222222222222222,
             "#7201a8"
            ],
            [
             0.3333333333333333,
             "#9c179e"
            ],
            [
             0.4444444444444444,
             "#bd3786"
            ],
            [
             0.5555555555555556,
             "#d8576b"
            ],
            [
             0.6666666666666666,
             "#ed7953"
            ],
            [
             0.7777777777777778,
             "#fb9f3a"
            ],
            [
             0.8888888888888888,
             "#fdca26"
            ],
            [
             1,
             "#f0f921"
            ]
           ],
           "sequentialminus": [
            [
             0,
             "#0d0887"
            ],
            [
             0.1111111111111111,
             "#46039f"
            ],
            [
             0.2222222222222222,
             "#7201a8"
            ],
            [
             0.3333333333333333,
             "#9c179e"
            ],
            [
             0.4444444444444444,
             "#bd3786"
            ],
            [
             0.5555555555555556,
             "#d8576b"
            ],
            [
             0.6666666666666666,
             "#ed7953"
            ],
            [
             0.7777777777777778,
             "#fb9f3a"
            ],
            [
             0.8888888888888888,
             "#fdca26"
            ],
            [
             1,
             "#f0f921"
            ]
           ]
          },
          "colorway": [
           "#636efa",
           "#EF553B",
           "#00cc96",
           "#ab63fa",
           "#FFA15A",
           "#19d3f3",
           "#FF6692",
           "#B6E880",
           "#FF97FF",
           "#FECB52"
          ],
          "font": {
           "color": "#2a3f5f"
          },
          "geo": {
           "bgcolor": "white",
           "lakecolor": "white",
           "landcolor": "#E5ECF6",
           "showlakes": true,
           "showland": true,
           "subunitcolor": "white"
          },
          "hoverlabel": {
           "align": "left"
          },
          "hovermode": "closest",
          "mapbox": {
           "style": "light"
          },
          "paper_bgcolor": "white",
          "plot_bgcolor": "#E5ECF6",
          "polar": {
           "angularaxis": {
            "gridcolor": "white",
            "linecolor": "white",
            "ticks": ""
           },
           "bgcolor": "#E5ECF6",
           "radialaxis": {
            "gridcolor": "white",
            "linecolor": "white",
            "ticks": ""
           }
          },
          "scene": {
           "xaxis": {
            "backgroundcolor": "#E5ECF6",
            "gridcolor": "white",
            "gridwidth": 2,
            "linecolor": "white",
            "showbackground": true,
            "ticks": "",
            "zerolinecolor": "white"
           },
           "yaxis": {
            "backgroundcolor": "#E5ECF6",
            "gridcolor": "white",
            "gridwidth": 2,
            "linecolor": "white",
            "showbackground": true,
            "ticks": "",
            "zerolinecolor": "white"
           },
           "zaxis": {
            "backgroundcolor": "#E5ECF6",
            "gridcolor": "white",
            "gridwidth": 2,
            "linecolor": "white",
            "showbackground": true,
            "ticks": "",
            "zerolinecolor": "white"
           }
          },
          "shapedefaults": {
           "line": {
            "color": "#2a3f5f"
           }
          },
          "ternary": {
           "aaxis": {
            "gridcolor": "white",
            "linecolor": "white",
            "ticks": ""
           },
           "baxis": {
            "gridcolor": "white",
            "linecolor": "white",
            "ticks": ""
           },
           "bgcolor": "#E5ECF6",
           "caxis": {
            "gridcolor": "white",
            "linecolor": "white",
            "ticks": ""
           }
          },
          "title": {
           "x": 0.05
          },
          "xaxis": {
           "automargin": true,
           "gridcolor": "white",
           "linecolor": "white",
           "ticks": "",
           "title": {
            "standoff": 15
           },
           "zerolinecolor": "white",
           "zerolinewidth": 2
          },
          "yaxis": {
           "automargin": true,
           "gridcolor": "white",
           "linecolor": "white",
           "ticks": "",
           "title": {
            "standoff": 15
           },
           "zerolinecolor": "white",
           "zerolinewidth": 2
          }
         }
        },
        "title": {
         "text": "Performance of 6M validation vs. 1Y validation"
        },
        "xaxis": {
         "anchor": "y",
         "categoryarray": [
          "LGB LR sector",
          "LGB TI sector",
          "RF LR sector",
          "RF TI sector",
          "SVR LR sector",
          "SVR TI sector",
          "LGB LR stock",
          "LGB TI stock",
          "RF LR stock",
          "RF TI stock",
          "SVR LR stock",
          "SVR TI stock"
         ],
         "domain": [
          0,
          1
         ],
         "type": "category"
        },
        "xaxis2": {
         "anchor": "y2",
         "domain": [
          0,
          1
         ]
        },
        "yaxis": {
         "anchor": "x",
         "domain": [
          0.625,
          1
         ],
         "fixedrange": true,
         "range": [
          0,
          60
         ],
         "tickvals": [
          0,
          10,
          20,
          30,
          40,
          50
         ],
         "title": {
          "text": "MDD"
         }
        },
        "yaxis2": {
         "anchor": "x2",
         "domain": [
          0,
          0.375
         ],
         "fixedrange": true,
         "range": [
          0,
          60
         ],
         "tickvals": [
          0,
          10,
          20,
          30,
          40,
          50
         ]
        }
       }
      },
      "text/html": [
       "<div>                            <div id=\"efc08c67-0dfb-4555-b674-0bb0f4d6ea71\" class=\"plotly-graph-div\" style=\"height:525px; width:100%;\"></div>            <script type=\"text/javascript\">                require([\"plotly\"], function(Plotly) {                    window.PLOTLYENV=window.PLOTLYENV || {};                                    if (document.getElementById(\"efc08c67-0dfb-4555-b674-0bb0f4d6ea71\")) {                    Plotly.newPlot(                        \"efc08c67-0dfb-4555-b674-0bb0f4d6ea71\",                        [{\"line\": {\"color\": \"black\", \"dash\": \"solid\"}, \"marker\": {\"symbol\": [\"circle\", \"circle\", \"circle\", \"circle\", \"circle\", \"x\", \"x\", \"x\", \"x\", \"x\", \"x\"]}, \"mode\": \"lines+markers\", \"name\": \"baseline 6M\", \"type\": \"scatter\", \"x\": [\"LGB LR sector\", \"LGB TI sector\", \"RF LR sector\", \"RF TI sector\", \"SVR LR sector\", \"LGB LR stock\", \"LGB TI stock\", \"RF LR stock\", \"RF TI stock\", \"SVR LR stock\", \"SVR TI stock\"], \"xaxis\": \"x\", \"y\": [35.29473807034379, 37.22324653779584, 23.270054615788833, 29.48223712897361, 26.07406041247039, 14.327970840742335, 21.945648352692885, 26.275844409087064, 33.3068101302211, 19.98014760344542, 20.26324935219567], \"yaxis\": \"y\"}, {\"line\": {\"color\": \"#2CA02C\", \"dash\": \"solid\"}, \"marker\": {\"symbol\": [\"circle\", \"circle\", \"circle\", \"circle\", \"circle\", \"x\", \"x\", \"x\", \"x\", \"x\", \"x\"]}, \"mode\": \"lines+markers\", \"name\": \"best 6M\", \"type\": \"scatter\", \"x\": [\"LGB LR sector\", \"LGB TI sector\", \"RF LR sector\", \"RF TI sector\", \"SVR LR sector\", \"LGB LR stock\", \"LGB TI stock\", \"RF LR stock\", \"RF TI stock\", \"SVR LR stock\", \"SVR TI stock\"], \"xaxis\": \"x\", \"y\": [30.390033964117897, 35.24599536618578, 27.775063586473266, 43.44898345150728, 29.090695887092206, 18.64110294326743, 26.498868992867695, 28.875620420788856, 28.235984165179527, 19.0174091810488, 25.012300037530576], \"yaxis\": \"y\"}, {\"line\": {\"color\": \"#D62728\", \"dash\": \"solid\"}, \"marker\": {\"symbol\": [\"circle\", \"circle\", \"circle\", \"circle\", \"circle\", \"x\", \"x\", \"x\", \"x\", \"x\", \"x\"]}, \"mode\": \"lines+markers\", \"name\": \"worst 6M\", \"type\": \"scatter\", \"x\": [\"LGB LR sector\", \"LGB TI sector\", \"RF LR sector\", \"RF TI sector\", \"SVR LR sector\", \"LGB LR stock\", \"LGB TI stock\", \"RF LR stock\", \"RF TI stock\", \"SVR LR stock\", \"SVR TI stock\"], \"xaxis\": \"x\", \"y\": [28.65399660527678, 28.721452612828497, 21.98144473602025, 33.13423048093737, 26.074060412470363, 15.574276435900272, 20.775325134902246, 18.425213460137144, 32.567715221857874, 19.98014760344542, 18.9653597397734], \"yaxis\": \"y\"}, {\"line\": {\"color\": \"#511CFB\", \"dash\": \"solid\"}, \"marker\": {\"symbol\": [\"circle\", \"circle\", \"circle\", \"circle\", \"circle\", \"x\", \"x\", \"x\", \"x\", \"x\", \"x\"]}, \"mode\": \"lines+markers\", \"name\": \"running 6M\", \"type\": \"scatter\", \"x\": [\"LGB LR sector\", \"LGB TI sector\", \"RF LR sector\", \"RF TI sector\", \"SVR LR sector\", \"LGB LR stock\", \"LGB TI stock\", \"RF LR stock\", \"RF TI stock\", \"SVR LR stock\", \"SVR TI stock\"], \"xaxis\": \"x\", \"y\": [28.653996605276884, 28.721452612828475, 21.981444736020247, 34.821091309122465, 26.07406041247039, 17.719933612723853, 21.507085863314963, 18.833256196558075, 32.68310926006828, 20.400720704814077, 32.78172953573065], \"yaxis\": \"y\"}, {\"line\": {\"color\": \"black\", \"dash\": \"dash\"}, \"marker\": {\"symbol\": [\"circle\", \"circle\", \"circle\", \"circle\", \"circle\", \"circle\", \"x\", \"x\", \"x\", \"x\", \"x\", \"x\"]}, \"mode\": \"lines+markers\", \"name\": \"baseline 1Y\", \"type\": \"scatter\", \"x\": [\"LGB LR sector\", \"LGB TI sector\", \"RF LR sector\", \"RF TI sector\", \"SVR LR sector\", \"SVR TI sector\", \"LGB LR stock\", \"LGB TI stock\", \"RF LR stock\", \"RF TI stock\", \"SVR LR stock\", \"SVR TI stock\"], \"xaxis\": \"x2\", \"y\": [16.87349259961762, 48.94441754737635, 30.79838210661936, 21.845946790109526, 40.04681757778255, 47.236426202171295, 16.55630821040426, 29.81543425646641, 17.029814606800798, 33.156942370996845, 17.6125108765632, 20.40487443832102], \"yaxis\": \"y2\"}, {\"line\": {\"color\": \"#2CA02C\", \"dash\": \"dash\"}, \"marker\": {\"symbol\": [\"circle\", \"circle\", \"circle\", \"circle\", \"circle\", \"circle\", \"x\", \"x\", \"x\", \"x\", \"x\", \"x\"]}, \"mode\": \"lines+markers\", \"name\": \"best 1Y\", \"type\": \"scatter\", \"x\": [\"LGB LR sector\", \"LGB TI sector\", \"RF LR sector\", \"RF TI sector\", \"SVR LR sector\", \"SVR TI sector\", \"LGB LR stock\", \"LGB TI stock\", \"RF LR stock\", \"RF TI stock\", \"SVR LR stock\", \"SVR TI stock\"], \"xaxis\": \"x2\", \"y\": [39.921940191156686, 30.175535777219302, 33.38331016884039, 28.81520542216527, 43.410813035433364, 34.04823146341974, 17.879210207221984, 30.40638439818359, 17.43294193504884, 51.510805487285246, 15.193367513309184, 23.325794006180935], \"yaxis\": \"y2\"}, {\"line\": {\"color\": \"#D62728\", \"dash\": \"dash\"}, \"marker\": {\"symbol\": [\"circle\", \"circle\", \"circle\", \"circle\", \"circle\", \"circle\", \"x\", \"x\", \"x\", \"x\", \"x\", \"x\"]}, \"mode\": \"lines+markers\", \"name\": \"worst 1Y\", \"type\": \"scatter\", \"x\": [\"LGB LR sector\", \"LGB TI sector\", \"RF LR sector\", \"RF TI sector\", \"SVR LR sector\", \"SVR TI sector\", \"LGB LR stock\", \"LGB TI stock\", \"RF LR stock\", \"RF TI stock\", \"SVR LR stock\", \"SVR TI stock\"], \"xaxis\": \"x2\", \"y\": [29.40470834761356, 39.018199836953144, 21.036306366420845, 29.492466378307604, 40.04681757778255, 41.74719228443319, 16.556308210404282, 33.14856308879058, 16.29046040538907, 42.58626848284363, 17.612510876563228, 20.411071037309465], \"yaxis\": \"y2\"}, {\"line\": {\"color\": \"#511CFB\", \"dash\": \"dash\"}, \"marker\": {\"symbol\": [\"circle\", \"circle\", \"circle\", \"circle\", \"circle\", \"circle\", \"x\", \"x\", \"x\", \"x\", \"x\", \"x\"]}, \"mode\": \"lines+markers\", \"name\": \"running 1Y\", \"type\": \"scatter\", \"x\": [\"LGB LR sector\", \"LGB TI sector\", \"RF LR sector\", \"RF TI sector\", \"SVR LR sector\", \"SVR TI sector\", \"LGB LR stock\", \"LGB TI stock\", \"RF LR stock\", \"RF TI stock\", \"SVR LR stock\", \"SVR TI stock\"], \"xaxis\": \"x2\", \"y\": [33.37239529558984, 39.01819983695313, 21.036306366420845, 26.501905347244275, 40.04681757778255, 38.17846572105993, 19.66042738678979, 29.815434256466418, 22.41971500941254, 52.06201464835642, 17.15903306387213, 32.411718455016846], \"yaxis\": \"y2\"}],                        {\"annotations\": [{\"font\": {\"size\": 16}, \"showarrow\": false, \"text\": \"6M\", \"x\": 0.5, \"xanchor\": \"center\", \"xref\": \"paper\", \"y\": 1.0, \"yanchor\": \"bottom\", \"yref\": \"paper\"}, {\"font\": {\"size\": 16}, \"showarrow\": false, \"text\": \"1Y\", \"x\": 0.5, \"xanchor\": \"center\", \"xref\": \"paper\", \"y\": 0.375, \"yanchor\": \"bottom\", \"yref\": \"paper\"}], \"template\": {\"data\": {\"bar\": [{\"error_x\": {\"color\": \"#2a3f5f\"}, \"error_y\": {\"color\": \"#2a3f5f\"}, \"marker\": {\"line\": {\"color\": \"#E5ECF6\", \"width\": 0.5}}, \"type\": \"bar\"}], \"barpolar\": [{\"marker\": {\"line\": {\"color\": \"#E5ECF6\", \"width\": 0.5}}, \"type\": \"barpolar\"}], \"carpet\": [{\"aaxis\": {\"endlinecolor\": \"#2a3f5f\", \"gridcolor\": \"white\", \"linecolor\": \"white\", \"minorgridcolor\": \"white\", \"startlinecolor\": \"#2a3f5f\"}, \"baxis\": {\"endlinecolor\": \"#2a3f5f\", \"gridcolor\": \"white\", \"linecolor\": \"white\", \"minorgridcolor\": \"white\", \"startlinecolor\": \"#2a3f5f\"}, \"type\": \"carpet\"}], \"choropleth\": [{\"colorbar\": {\"outlinewidth\": 0, \"ticks\": \"\"}, \"type\": \"choropleth\"}], \"contour\": [{\"colorbar\": {\"outlinewidth\": 0, \"ticks\": \"\"}, \"colorscale\": [[0.0, \"#0d0887\"], [0.1111111111111111, \"#46039f\"], [0.2222222222222222, \"#7201a8\"], [0.3333333333333333, \"#9c179e\"], [0.4444444444444444, \"#bd3786\"], [0.5555555555555556, \"#d8576b\"], [0.6666666666666666, \"#ed7953\"], [0.7777777777777778, \"#fb9f3a\"], [0.8888888888888888, \"#fdca26\"], [1.0, \"#f0f921\"]], \"type\": \"contour\"}], \"contourcarpet\": [{\"colorbar\": {\"outlinewidth\": 0, \"ticks\": \"\"}, \"type\": \"contourcarpet\"}], \"heatmap\": [{\"colorbar\": {\"outlinewidth\": 0, \"ticks\": \"\"}, \"colorscale\": [[0.0, \"#0d0887\"], [0.1111111111111111, \"#46039f\"], [0.2222222222222222, \"#7201a8\"], [0.3333333333333333, \"#9c179e\"], [0.4444444444444444, \"#bd3786\"], [0.5555555555555556, \"#d8576b\"], [0.6666666666666666, \"#ed7953\"], [0.7777777777777778, \"#fb9f3a\"], [0.8888888888888888, \"#fdca26\"], [1.0, \"#f0f921\"]], \"type\": \"heatmap\"}], \"heatmapgl\": [{\"colorbar\": {\"outlinewidth\": 0, \"ticks\": \"\"}, \"colorscale\": [[0.0, \"#0d0887\"], [0.1111111111111111, \"#46039f\"], [0.2222222222222222, \"#7201a8\"], [0.3333333333333333, \"#9c179e\"], [0.4444444444444444, \"#bd3786\"], [0.5555555555555556, \"#d8576b\"], [0.6666666666666666, \"#ed7953\"], [0.7777777777777778, \"#fb9f3a\"], [0.8888888888888888, \"#fdca26\"], [1.0, \"#f0f921\"]], \"type\": \"heatmapgl\"}], \"histogram\": [{\"marker\": {\"colorbar\": {\"outlinewidth\": 0, \"ticks\": \"\"}}, \"type\": \"histogram\"}], \"histogram2d\": [{\"colorbar\": {\"outlinewidth\": 0, \"ticks\": \"\"}, \"colorscale\": [[0.0, \"#0d0887\"], [0.1111111111111111, \"#46039f\"], [0.2222222222222222, \"#7201a8\"], [0.3333333333333333, \"#9c179e\"], [0.4444444444444444, \"#bd3786\"], [0.5555555555555556, \"#d8576b\"], [0.6666666666666666, \"#ed7953\"], [0.7777777777777778, \"#fb9f3a\"], [0.8888888888888888, \"#fdca26\"], [1.0, \"#f0f921\"]], \"type\": \"histogram2d\"}], \"histogram2dcontour\": [{\"colorbar\": {\"outlinewidth\": 0, \"ticks\": \"\"}, \"colorscale\": [[0.0, \"#0d0887\"], [0.1111111111111111, \"#46039f\"], [0.2222222222222222, \"#7201a8\"], [0.3333333333333333, \"#9c179e\"], [0.4444444444444444, \"#bd3786\"], [0.5555555555555556, \"#d8576b\"], [0.6666666666666666, \"#ed7953\"], [0.7777777777777778, \"#fb9f3a\"], [0.8888888888888888, \"#fdca26\"], [1.0, \"#f0f921\"]], \"type\": \"histogram2dcontour\"}], \"mesh3d\": [{\"colorbar\": {\"outlinewidth\": 0, \"ticks\": \"\"}, \"type\": \"mesh3d\"}], \"parcoords\": [{\"line\": {\"colorbar\": {\"outlinewidth\": 0, \"ticks\": \"\"}}, \"type\": \"parcoords\"}], \"pie\": [{\"automargin\": true, \"type\": \"pie\"}], \"scatter\": [{\"marker\": {\"colorbar\": {\"outlinewidth\": 0, \"ticks\": \"\"}}, \"type\": \"scatter\"}], \"scatter3d\": [{\"line\": {\"colorbar\": {\"outlinewidth\": 0, \"ticks\": \"\"}}, \"marker\": {\"colorbar\": {\"outlinewidth\": 0, \"ticks\": \"\"}}, \"type\": \"scatter3d\"}], \"scattercarpet\": [{\"marker\": {\"colorbar\": {\"outlinewidth\": 0, \"ticks\": \"\"}}, \"type\": \"scattercarpet\"}], \"scattergeo\": [{\"marker\": {\"colorbar\": {\"outlinewidth\": 0, \"ticks\": \"\"}}, \"type\": \"scattergeo\"}], \"scattergl\": [{\"marker\": {\"colorbar\": {\"outlinewidth\": 0, \"ticks\": \"\"}}, \"type\": \"scattergl\"}], \"scattermapbox\": [{\"marker\": {\"colorbar\": {\"outlinewidth\": 0, \"ticks\": \"\"}}, \"type\": \"scattermapbox\"}], \"scatterpolar\": [{\"marker\": {\"colorbar\": {\"outlinewidth\": 0, \"ticks\": \"\"}}, \"type\": \"scatterpolar\"}], \"scatterpolargl\": [{\"marker\": {\"colorbar\": {\"outlinewidth\": 0, \"ticks\": \"\"}}, \"type\": \"scatterpolargl\"}], \"scatterternary\": [{\"marker\": {\"colorbar\": {\"outlinewidth\": 0, \"ticks\": \"\"}}, \"type\": \"scatterternary\"}], \"surface\": [{\"colorbar\": {\"outlinewidth\": 0, \"ticks\": \"\"}, \"colorscale\": [[0.0, \"#0d0887\"], [0.1111111111111111, \"#46039f\"], [0.2222222222222222, \"#7201a8\"], [0.3333333333333333, \"#9c179e\"], [0.4444444444444444, \"#bd3786\"], [0.5555555555555556, \"#d8576b\"], [0.6666666666666666, \"#ed7953\"], [0.7777777777777778, \"#fb9f3a\"], [0.8888888888888888, \"#fdca26\"], [1.0, \"#f0f921\"]], \"type\": \"surface\"}], \"table\": [{\"cells\": {\"fill\": {\"color\": \"#EBF0F8\"}, \"line\": {\"color\": \"white\"}}, \"header\": {\"fill\": {\"color\": \"#C8D4E3\"}, \"line\": {\"color\": \"white\"}}, \"type\": \"table\"}]}, \"layout\": {\"annotationdefaults\": {\"arrowcolor\": \"#2a3f5f\", \"arrowhead\": 0, \"arrowwidth\": 1}, \"autotypenumbers\": \"strict\", \"coloraxis\": {\"colorbar\": {\"outlinewidth\": 0, \"ticks\": \"\"}}, \"colorscale\": {\"diverging\": [[0, \"#8e0152\"], [0.1, \"#c51b7d\"], [0.2, \"#de77ae\"], [0.3, \"#f1b6da\"], [0.4, \"#fde0ef\"], [0.5, \"#f7f7f7\"], [0.6, \"#e6f5d0\"], [0.7, \"#b8e186\"], [0.8, \"#7fbc41\"], [0.9, \"#4d9221\"], [1, \"#276419\"]], \"sequential\": [[0.0, \"#0d0887\"], [0.1111111111111111, \"#46039f\"], [0.2222222222222222, \"#7201a8\"], [0.3333333333333333, \"#9c179e\"], [0.4444444444444444, \"#bd3786\"], [0.5555555555555556, \"#d8576b\"], [0.6666666666666666, \"#ed7953\"], [0.7777777777777778, \"#fb9f3a\"], [0.8888888888888888, \"#fdca26\"], [1.0, \"#f0f921\"]], \"sequentialminus\": [[0.0, \"#0d0887\"], [0.1111111111111111, \"#46039f\"], [0.2222222222222222, \"#7201a8\"], [0.3333333333333333, \"#9c179e\"], [0.4444444444444444, \"#bd3786\"], [0.5555555555555556, \"#d8576b\"], [0.6666666666666666, \"#ed7953\"], [0.7777777777777778, \"#fb9f3a\"], [0.8888888888888888, \"#fdca26\"], [1.0, \"#f0f921\"]]}, \"colorway\": [\"#636efa\", \"#EF553B\", \"#00cc96\", \"#ab63fa\", \"#FFA15A\", \"#19d3f3\", \"#FF6692\", \"#B6E880\", \"#FF97FF\", \"#FECB52\"], \"font\": {\"color\": \"#2a3f5f\"}, \"geo\": {\"bgcolor\": \"white\", \"lakecolor\": \"white\", \"landcolor\": \"#E5ECF6\", \"showlakes\": true, \"showland\": true, \"subunitcolor\": \"white\"}, \"hoverlabel\": {\"align\": \"left\"}, \"hovermode\": \"closest\", \"mapbox\": {\"style\": \"light\"}, \"paper_bgcolor\": \"white\", \"plot_bgcolor\": \"#E5ECF6\", \"polar\": {\"angularaxis\": {\"gridcolor\": \"white\", \"linecolor\": \"white\", \"ticks\": \"\"}, \"bgcolor\": \"#E5ECF6\", \"radialaxis\": {\"gridcolor\": \"white\", \"linecolor\": \"white\", \"ticks\": \"\"}}, \"scene\": {\"xaxis\": {\"backgroundcolor\": \"#E5ECF6\", \"gridcolor\": \"white\", \"gridwidth\": 2, \"linecolor\": \"white\", \"showbackground\": true, \"ticks\": \"\", \"zerolinecolor\": \"white\"}, \"yaxis\": {\"backgroundcolor\": \"#E5ECF6\", \"gridcolor\": \"white\", \"gridwidth\": 2, \"linecolor\": \"white\", \"showbackground\": true, \"ticks\": \"\", \"zerolinecolor\": \"white\"}, \"zaxis\": {\"backgroundcolor\": \"#E5ECF6\", \"gridcolor\": \"white\", \"gridwidth\": 2, \"linecolor\": \"white\", \"showbackground\": true, \"ticks\": \"\", \"zerolinecolor\": \"white\"}}, \"shapedefaults\": {\"line\": {\"color\": \"#2a3f5f\"}}, \"ternary\": {\"aaxis\": {\"gridcolor\": \"white\", \"linecolor\": \"white\", \"ticks\": \"\"}, \"baxis\": {\"gridcolor\": \"white\", \"linecolor\": \"white\", \"ticks\": \"\"}, \"bgcolor\": \"#E5ECF6\", \"caxis\": {\"gridcolor\": \"white\", \"linecolor\": \"white\", \"ticks\": \"\"}}, \"title\": {\"x\": 0.05}, \"xaxis\": {\"automargin\": true, \"gridcolor\": \"white\", \"linecolor\": \"white\", \"ticks\": \"\", \"title\": {\"standoff\": 15}, \"zerolinecolor\": \"white\", \"zerolinewidth\": 2}, \"yaxis\": {\"automargin\": true, \"gridcolor\": \"white\", \"linecolor\": \"white\", \"ticks\": \"\", \"title\": {\"standoff\": 15}, \"zerolinecolor\": \"white\", \"zerolinewidth\": 2}}}, \"title\": {\"text\": \"Performance of 6M validation vs. 1Y validation\"}, \"xaxis\": {\"anchor\": \"y\", \"categoryarray\": [\"LGB LR sector\", \"LGB TI sector\", \"RF LR sector\", \"RF TI sector\", \"SVR LR sector\", \"SVR TI sector\", \"LGB LR stock\", \"LGB TI stock\", \"RF LR stock\", \"RF TI stock\", \"SVR LR stock\", \"SVR TI stock\"], \"domain\": [0.0, 1.0], \"type\": \"category\"}, \"xaxis2\": {\"anchor\": \"y2\", \"domain\": [0.0, 1.0]}, \"yaxis\": {\"anchor\": \"x\", \"domain\": [0.625, 1.0], \"fixedrange\": true, \"range\": [0, 60], \"tickvals\": [0, 10, 20, 30, 40, 50], \"title\": {\"text\": \"MDD\"}}, \"yaxis2\": {\"anchor\": \"x2\", \"domain\": [0.0, 0.375], \"fixedrange\": true, \"range\": [0, 60], \"tickvals\": [0, 10, 20, 30, 40, 50]}},                        {\"responsive\": true}                    ).then(function(){\n",
       "                            \n",
       "var gd = document.getElementById('efc08c67-0dfb-4555-b674-0bb0f4d6ea71');\n",
       "var x = new MutationObserver(function (mutations, observer) {{\n",
       "        var display = window.getComputedStyle(gd).display;\n",
       "        if (!display || display === 'none') {{\n",
       "            console.log([gd, 'removed!']);\n",
       "            Plotly.purge(gd);\n",
       "            observer.disconnect();\n",
       "        }}\n",
       "}});\n",
       "\n",
       "// Listen for the removal of the full notebook cells\n",
       "var notebookContainer = gd.closest('#notebook-container');\n",
       "if (notebookContainer) {{\n",
       "    x.observe(notebookContainer, {childList: true});\n",
       "}}\n",
       "\n",
       "// Listen for the clearing of the current output cell\n",
       "var outputEl = gd.closest('.output');\n",
       "if (outputEl) {{\n",
       "    x.observe(outputEl, {childList: true});\n",
       "}}\n",
       "\n",
       "                        })                };                });            </script>        </div>"
      ]
     },
     "metadata": {},
     "output_type": "display_data"
    }
   ],
   "source": [
    "\n",
    "import plotly.express as px\n",
    "import matplotlib.pyplot as plt\n",
    "import plotly.graph_objects as go\n",
    "from plotly.subplots import make_subplots\n",
    "\n",
    "label='MDD'\n",
    "\n",
    "\n",
    "marker_signs = {'sector':'circle','stock':'x'}\n",
    "dashes={'sector':'dash','stock':'dashdot','PI running worst':'dot'}\n",
    "\n",
    "colors = {'worst':'#D62728','best':'#2CA02C','fi':'rgb(55, 83, 109)','sp':'#4C78A8','baseline':'black','running':'#511CFB'}\n",
    "\n",
    "\n",
    "\n",
    "list_cat=[]\n",
    "for level in ['sector','stock']:\n",
    "    for model in ['LGB','RF','SVR']:\n",
    "        for feature in ['LR','TI']:\n",
    "            list_cat.append(f'{model} {feature} {level}')\n",
    "            \n",
    "\n",
    "fig = make_subplots(rows=2, cols=1,shared_yaxes=False,shared_xaxes=False,subplot_titles=['6M','1Y'])\n",
    "\n",
    "for val in ['6M', '1Y']:\n",
    "    for tr_name in ['baseline','best','worst','running']:\n",
    "        stats=statistics_dict[(statistics_dict['method']==tr_name) & (statistics_dict['validation length']==val)]\n",
    "        stats=stats.sort_values(by=['level','model','feature'])\n",
    "        row=1 if val=='6M' else 2\n",
    "        if len(stats)==0:\n",
    "            continue\n",
    "        symbol = [marker_signs[i] for i in stats['level']]\n",
    "        line_symbol = [dashes[i] for i in stats['level']]\n",
    "\n",
    "        trace= go.Scatter(x=stats[\"model\"]+ \" \"+stats[\"feature\"]+ \" \"+stats[\"level\"] ,y=stats[label],name=stats['method'].values[0]+' '+val,\n",
    "                          marker_symbol=symbol\n",
    "                         ,line=dict(dash='dash' if (stats['validation length']=='1Y').all() else 'solid',color=colors[tr_name])\n",
    "                         ,mode='lines+markers'\n",
    "                         )\n",
    "        fig.add_trace(trace,row=row,col=1)\n",
    "#         fig.update_traces(xaxis=\"x\")\n",
    "        \n",
    "# fig.update_layout(layout)\n",
    "fig.update_layout(xaxis =dict (type = 'category', categoryarray= list_cat),yaxis=dict(title=label),title=\"Performance of 6M validation vs. 1Y validation\")\n",
    "fig.update_yaxes(tickvals=np.arange(0,60,10), range=[0,60], fixedrange=True)\n",
    "fig.show()\n",
    "fig.write_image(f'../imgs/{label}.pdf', engine=\"kaleido\")\n",
    "fig.write_image(f'../imgs/{label}.png', engine=\"kaleido\")"
   ]
  }
 ],
 "metadata": {
  "kernelspec": {
   "display_name": "Python 3",
   "language": "python",
   "name": "python3"
  },
  "language_info": {
   "codemirror_mode": {
    "name": "ipython",
    "version": 3
   },
   "file_extension": ".py",
   "mimetype": "text/x-python",
   "name": "python",
   "nbconvert_exporter": "python",
   "pygments_lexer": "ipython3",
   "version": "3.8.5"
  }
 },
 "nbformat": 4,
 "nbformat_minor": 5
}
